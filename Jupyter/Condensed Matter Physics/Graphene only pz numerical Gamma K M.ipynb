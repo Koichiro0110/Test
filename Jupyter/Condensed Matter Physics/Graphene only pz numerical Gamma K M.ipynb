{
 "cells": [
  {
   "cell_type": "code",
   "execution_count": 1,
   "id": "552c7d95",
   "metadata": {},
   "outputs": [],
   "source": [
    "import numpy as np\n",
    "import matplotlib.pyplot as plt\n",
    "from scipy.interpolate import interp1d\n",
    "from scipy.integrate import tplquad"
   ]
  },
  {
   "cell_type": "code",
   "execution_count": 2,
   "id": "26dfb89a",
   "metadata": {},
   "outputs": [],
   "source": [
    "# physical parameters\n",
    "\n",
    "# Bohr radius\n",
    "a0 = 0.529 # Å\n",
    "\n",
    "# Vaccume permitivity\n",
    "e_0 = 8.854e-42 # kg^-1 * Å^-3 * s^4 * A^2\n",
    "\n",
    "# Elementary charge\n",
    "e = 1.60217663e-19 # A * s \n",
    "\n",
    "# Carbon's mass ratio\n",
    "Z = 12.01\n",
    "\n",
    "# Lattice Spacing of the Graphene\n",
    "d = 1.42 # Å\n",
    "\n",
    "# Lattice constant of the Bravais\n",
    "a = np.sqrt(3)*d\n",
    "\n",
    "# 1[eV] = 1.6*10^(-19) [J]\n",
    "# 1[J] = 1/1.6*10^(19)[eV]\n",
    "# 1[J] = kg * m^2 * s^(-2) = 10^20 * kg * s^(-2) * Å^2\n",
    "\n",
    "# So 1 [kg * s^(-2) * Å^2] = 1/16 [eV]\n"
   ]
  },
  {
   "cell_type": "code",
   "execution_count": 3,
   "id": "c2352d85",
   "metadata": {},
   "outputs": [],
   "source": [
    "# Define the dot product\n",
    "\n",
    "def k1a1(x,y):\n",
    "    dot = a*(1/2*x + np.sqrt(3)/2*y)\n",
    "    return dot\n",
    "\n",
    "def k2a2(x,y):\n",
    "    dot = a*(-1/2*x + np.sqrt(3)/2*y)\n",
    "    return dot\n",
    "\n",
    "# Define the matrix (Hamiltonian)\n",
    "\n",
    "def Matrix(x,y,eps0p,pppi):\n",
    "    \n",
    "    I = np.zeros((2,2), dtype = 'complex_')\n",
    "    I[0][0] = eps0p\n",
    "    I[0][1] = pppi*(1 + np.exp(1j*k1a1(x,y)) + np.exp(1j*k2a2(x,y)))\n",
    "    I[1][0] = pppi*(1 + np.exp(-1j*k1a1(x,y)) + np.exp(-1j*k2a2(x,y)))\n",
    "    I[1][1] = eps0p\n",
    "\n",
    "    \n",
    "    return I"
   ]
  },
  {
   "cell_type": "code",
   "execution_count": 4,
   "id": "cc6c20af",
   "metadata": {},
   "outputs": [
    {
     "data": {
      "text/plain": [
       "array([[0.00000000e+00+0.00000000e+00j, 5.55111512e-15-2.22044605e-15j],\n",
       "       [5.55111512e-15+2.22044605e-15j, 0.00000000e+00+0.00000000e+00j]])"
      ]
     },
     "execution_count": 4,
     "metadata": {},
     "output_type": "execute_result"
    }
   ],
   "source": [
    "Matrix(2*np.pi/(3*a),2*np.pi/(np.sqrt(3)*a),0,-10)"
   ]
  },
  {
   "cell_type": "code",
   "execution_count": 5,
   "id": "d5339d76",
   "metadata": {},
   "outputs": [],
   "source": [
    "# s-orbital\n",
    "def s_orbit(x, y, z, a0 = a0, Z = Z):\n",
    "    r = np.sqrt(x**2 + y**2 + z**2 + 1e-20)\n",
    "    psi = 1/np.sqrt(np.pi) * (Z/(2*a0))**(3/2) * (1 - Z*r/(2*a0)) * np.exp(-Z*r/(2*a0))\n",
    "    return psi\n",
    "\n",
    "# pz-orbital\n",
    "def pz_orbit(x, y, z, a0 = a0, Z = Z):\n",
    "    r = np.sqrt(x**2 + y**2 + z**2 + 1e-20)\n",
    "    cos_theta = z/(r+1e-20)\n",
    "    psi = 1/(2*np.sqrt(np.pi)) * (Z/(2*a0))**(3/2) * (Z*r/a0) * np.exp(-Z*r/(2*a0)) * cos_theta\n",
    "    return psi\n",
    "    \n",
    "# px-orbital\n",
    "def px_orbit(x, y, z, a0 = a0, Z = Z):\n",
    "    r = np.sqrt(x**2 + y**2 + z**2 + 1e-20)\n",
    "    R = np.sqrt(x**2 + y**2 + 1e-40)\n",
    "    sin_theta = R/(r+1e-20)\n",
    "    cos_phi = x/(r*sin_theta)\n",
    "    psi = - 1/(2*np.sqrt(np.pi)) * (Z/(2*a0))**(3/2) * (Z*r/a0) * np.exp(-Z*r/(2*a0)) * sin_theta * cos_phi\n",
    "    return psi\n",
    "\n",
    "# py-orbital\n",
    "def py_orbit(x, y, z, a0 = a0, Z = Z):\n",
    "    r = np.sqrt(x**2 + y**2 + z**2 + 1e-20)\n",
    "    R = np.sqrt(x**2 + y**2 + 1e-40)\n",
    "    sin_theta = R/(r+1e-20)\n",
    "    sin_phi = y/(r*sin_theta)\n",
    "    psi = - 1/(2*np.sqrt(np.pi)) * (Z/(2*a0))**(3/2) * (Z*r/a0) * np.exp(-Z*r/(2*a0)) * sin_theta * sin_phi\n",
    "    return psi"
   ]
  },
  {
   "cell_type": "code",
   "execution_count": 6,
   "id": "51db8bfa",
   "metadata": {},
   "outputs": [],
   "source": [
    "# Coulomb potential\n",
    "def deltaU(x, y, z, Z = Z): # Spherically symmetric\n",
    "    r = np.sqrt(x**2 + y**2 + z**2 + 1e-20)\n",
    "    potential = - 1/(4*np.pi*e_0)*Z*e**2/np.abs(r)\n",
    "    return potential"
   ]
  },
  {
   "cell_type": "code",
   "execution_count": null,
   "id": "98321d4b",
   "metadata": {},
   "outputs": [],
   "source": [
    "# Kinetic energy\n",
    "def Kinetic(x, y, z):\n",
    "    \n",
    "    \n",
    "    "
   ]
  },
  {
   "cell_type": "code",
   "execution_count": 8,
   "id": "4dd9b335",
   "metadata": {},
   "outputs": [],
   "source": [
    "'''\n",
    "# Calculate the hopping integrations.\n",
    "L = 4*a0 + d\n",
    "func = lambda x,y,z:pz_orbit(x, y, z)* (deltaU(x, y, z) + deltaU(x - d, y, z)* pz_orbit(x - d, y, z)\n",
    "pppiintegral = tplquad(func, -L, L, -L, L, -L, L)\n",
    "pppi = pppiintegral[0]/16\n",
    "print(\"pppi = \" ,pppi, \"[eV]\")\n",
    "\n",
    "'''\n",
    "pppi = -10"
   ]
  },
  {
   "cell_type": "code",
   "execution_count": 9,
   "id": "e45b8579",
   "metadata": {},
   "outputs": [],
   "source": [
    "# Set the energy of atomic orbital as 0 [eV].\n",
    "eps0p = 0 #[eV]"
   ]
  },
  {
   "cell_type": "code",
   "execution_count": 10,
   "id": "0d42016a",
   "metadata": {
    "scrolled": false
   },
   "outputs": [],
   "source": [
    "# Solve the eigenvalue equation along a certain path in Brillouin Zone.\n",
    "N = 1000\n",
    "x_values1 = np.linspace(0, 2*np.pi/(3*a), N)\n",
    "y_values1 = np.sqrt(3)*x_values1\n",
    "\n",
    "x_values2 = np.linspace(2*np.pi/(3*a), np.pi/(a), int(N/2))\n",
    "y_values2 = -np.sqrt(3)*x_values2 + 4*np.pi/(np.sqrt(3)*a)*np.ones(int(N/2))\n",
    "\n",
    "x_values3 = np.linspace(0, np.pi/(a), int(N*2/np.sqrt(3)))\n",
    "x_values3 = x_values3[::-1]\n",
    "y_values3 = 1/np.sqrt(3)*x_values3 \n",
    "# Those are the distance of the path!! not x axis!\n",
    "x_values1plot = np.linspace(0, 4*np.pi/(3*a), N)\n",
    "x_values2plot = np.linspace(0, 2*np.pi/(3*a), int(N/2)) + 4*np.pi/(3*a)*np.ones(int(N/2))\n",
    "x_values3plot = np.linspace(0, 2*np.pi/(np.sqrt(3)*a), int(N*2/np.sqrt(3))) + (4*np.pi/(3*a)+2*np.pi/(3*a))*np.ones(int(N*2/np.sqrt(3)))\n",
    "\n",
    "reciprocalpath = np.concatenate([x_values1plot, x_values2plot[1::], x_values3plot[1::]])\n",
    "\n",
    "\n"
   ]
  },
  {
   "cell_type": "code",
   "execution_count": 11,
   "id": "0fb72ba4",
   "metadata": {},
   "outputs": [
    {
     "data": {
      "text/plain": [
       "<matplotlib.legend.Legend at 0x7fd570058670>"
      ]
     },
     "execution_count": 11,
     "metadata": {},
     "output_type": "execute_result"
    },
    {
     "data": {
      "image/png": "[encoded data removed]",
      "text/plain": [
       "<Figure size 648x504 with 1 Axes>"
      ]
     },
     "metadata": {
      "needs_background": "light"
     },
     "output_type": "display_data"
    }
   ],
   "source": [
    "#Brillouin Zoneの軌跡をプロットする！！\n",
    "figure = plt.figure(figsize = (9,7))\n",
    "axes = figure.gca()\n",
    "\n",
    "x_values = np.concatenate([x_values1, x_values2[1::],x_values3[1::]])\n",
    "y_values = np.concatenate([y_values1, y_values2[1::],y_values3[1::]])\n",
    "\n",
    "axes.scatter(x_values, y_values, s = 1)\n",
    "axes.scatter(x_values1[0],y_values1[0] , s = 100, label = \" $ \\Gamma $ \")\n",
    "axes.scatter(x_values2[0],y_values2[0] , s = 100, label = \" $ K $ \")\n",
    "axes.scatter(x_values2[-1],y_values2[-1] , s = 100, label = \" $ M $ \")\n",
    "axes.scatter(4*np.pi/(3*a), 0, s = 100, label = \" $ K' $ \")\n",
    "\n",
    "\n",
    "axes.set_title(\"Reciprocal Space\", fontsize = 22)\n",
    "\n",
    "axes.set_xlabel(\"$k_{x}~[~Å^{-1}~]$\", fontsize = 16)\n",
    "axes.set_xticks([0, 2*np.pi/(3*a), np.pi/(a),4*np.pi/(3*a)])\n",
    "ticks = [\"$0$\", r\"$\\frac{2 \\pi}{3a}$\", r\"$\\frac{\\pi}{a}$\",r\"$\\frac{4 \\pi}{3a}$\" ]\n",
    "axes.set_xticklabels(ticks,fontsize = 20)\n",
    "\n",
    "axes.set_ylabel(\"$k_{y}~[~Å^{-1}~]$\", fontsize = 16)\n",
    "axes.set_yticks([0, np.pi/(np.sqrt(3)*a), 2*np.pi/(np.sqrt(3)*a)])\n",
    "ticks = [r\"$0$\", r\"$\\frac{\\pi}{ \\sqrt{3} a}$\", r\"$\\frac{2 \\pi}{ \\sqrt{3} a}$\"]\n",
    "axes.set_yticklabels(ticks,fontsize = 20)\n",
    "\n",
    "axes.legend(fontsize = 18)"
   ]
  },
  {
   "cell_type": "code",
   "execution_count": 12,
   "id": "88452ccf",
   "metadata": {},
   "outputs": [],
   "source": [
    "band = []\n",
    "for i,j in zip(x_values1,y_values1):\n",
    "    eigen = np.linalg.eigh(Matrix(i,j,eps0p,pppi))\n",
    "    band.append(eigen[0]) # 0 are the eigenvalues, 1 are the eigenvectors\n",
    "    \n",
    "for i,j in zip(x_values2[1::],y_values2[1::]):\n",
    "    eigen = np.linalg.eigh(Matrix(i,j,eps0p,pppi))\n",
    "    band.append(eigen[0])\n",
    "\n",
    "for i,j in zip(x_values3[1::],y_values3[1::]):\n",
    "    eigen = np.linalg.eigh(Matrix(i,j,eps0p,pppi))\n",
    "    band.append(eigen[0])\n",
    "    \n",
    "# Transpose to plot\n",
    "bandT = np.transpose(band)"
   ]
  },
  {
   "cell_type": "code",
   "execution_count": 13,
   "id": "21e7b974",
   "metadata": {},
   "outputs": [
    {
     "data": {
      "image/png": "[encoded data removed]",
      "text/plain": [
       "<Figure size 648x504 with 1 Axes>"
      ]
     },
     "metadata": {
      "needs_background": "light"
     },
     "output_type": "display_data"
    }
   ],
   "source": [
    "# Make a plot of the band structure.\n",
    "\n",
    "fig = plt.figure(figsize = (9,7))\n",
    "ax = fig.gca()\n",
    "\n",
    "indexes = [0,1]\n",
    "\n",
    "for i in indexes:\n",
    "    ax.plot(reciprocalpath, bandT[i], color = \"red\")\n",
    "\n",
    "ax.plot([4*np.pi/(3*a), 4*np.pi/(3*a)], [-bandT[0][0], bandT[0][0]], color = \"lime\", label = \"Dirac points\", linewidth = 1)\n",
    "\n",
    "ax.set_title(\"Graphene's pz-band structure\", fontsize = 22)\n",
    "ax.set_xlabel(\"Reciprocal space [ $ Å^{-1} $ ]\", fontsize = 16)\n",
    "ax.set_ylabel(\"Energy band [eV]\", fontsize = 16)\n",
    "\n",
    "ticks = [\"$ \\Gamma $\", \"$ K $\", \"$ M $\", \"$ \\Gamma $\"]\n",
    "ax.set_xticks([0, 4*np.pi/(3*a), 2*np.pi/(a), (2+2/np.sqrt(3))*np.pi/(a) ])\n",
    "ax.set_xticklabels(ticks,fontsize = 16)\n",
    "ax.legend(fontsize = 13)\n",
    "\n",
    "from matplotlib.backends.backend_pdf import PdfPages\n",
    "pdf = PdfPages('Numerically Calculated Energy bands of Graphene Pz-band.pdf')\n",
    "pdf.savefig(figure)\n",
    "pdf.savefig(fig)\n",
    "pdf.close()"
   ]
  },
  {
   "cell_type": "code",
   "execution_count": null,
   "id": "13a28a88",
   "metadata": {},
   "outputs": [],
   "source": []
  }
 ],
 "metadata": {
  "kernelspec": {
   "display_name": "Python 3",
   "language": "python",
   "name": "python3"
  },
  "language_info": {
   "codemirror_mode": {
    "name": "ipython",
    "version": 3
   },
   "file_extension": ".py",
   "mimetype": "text/x-python",
   "name": "python",
   "nbconvert_exporter": "python",
   "pygments_lexer": "ipython3",
   "version": "3.8.8"
  }
 },
 "nbformat": 4,
 "nbformat_minor": 5
}
