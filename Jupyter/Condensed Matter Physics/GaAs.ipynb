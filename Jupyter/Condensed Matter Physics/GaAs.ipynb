{
 "cells": [
  {
   "cell_type": "code",
   "execution_count": 1,
   "id": "0f6d8bca",
   "metadata": {},
   "outputs": [],
   "source": [
    "import numpy as np\n",
    "import matplotlib.pyplot as plt\n",
    "from scipy.interpolate import interp1d\n",
    "from scipy.integrate import trapz,tplquad"
   ]
  },
  {
   "cell_type": "code",
   "execution_count": 2,
   "id": "028314a1",
   "metadata": {},
   "outputs": [],
   "source": [
    "# physical parameters\n",
    "\n",
    "# Bohr radius\n",
    "a0 = 0.529 # Å\n",
    "\n",
    "# Vaccume permitivity\n",
    "e_0 = 8.854e-42 # kg^-1 * Å^-3 * s^4 * A^2\n",
    "\n",
    "# Elementary charge\n",
    "e = 1.60217663e-19 # A * s \n",
    "\n",
    "# Gallium arsenide's mass ratio\n",
    "Z = 144.645\n",
    "\n",
    "# Lattice Spacing of the Graphene\n",
    "d = 1.42 # Å\n",
    "\n",
    "# Lattice constant of the Bravais\n",
    "a = 5.65325\n",
    "\n",
    "# 1[eV] = 1.6*10^(-19) [J]\n",
    "# 1[J] = 1/1.6*10^(19)[eV]\n",
    "# 1[J] = kg * m^2 * s^(-2) = 10^20 * kg * s^(-2) * Å^2\n",
    "\n",
    "# So 1 [kg * s^(-2) * Å^2] = 1/16 [eV]"
   ]
  },
  {
   "cell_type": "code",
   "execution_count": null,
   "id": "7bf05d6c",
   "metadata": {},
   "outputs": [],
   "source": [
    "# s-orbital\n",
    "def s_orbit(x, y, z, a0 = a0, Z = Z):\n",
    "    r = np.sqrt(x**2 + y**2 + z**2 + 1e-20)\n",
    "    psi = 1/np.sqrt(np.pi) * (Z/(2*a0))**(3/2) * (1 - Z*r/(2*a0)) * np.exp(-Z*r/(2*a0))\n",
    "    return psi\n",
    "\n",
    "# pz-orbital\n",
    "def pz_orbit(x, y, z, a0 = a0, Z = Z):\n",
    "    r = np.sqrt(x**2 + y**2 + z**2 + 1e-20)\n",
    "    cos_theta = z/(r+1e-20)\n",
    "    psi = 1/(2*np.sqrt(np.pi)) * (Z/(2*a0))**(3/2) * (Z*r/a0) * np.exp(-Z*r/(2*a0)) * cos_theta\n",
    "    return psi\n",
    "    \n",
    "# px-orbital\n",
    "def px_orbit(x, y, z, a0 = a0, Z = Z):\n",
    "    r = np.sqrt(x**2 + y**2 + z**2 + 1e-20)\n",
    "    R = np.sqrt(x**2 + y**2 + 1e-40)\n",
    "    sin_theta = R/(r+1e-20)\n",
    "    cos_phi = x/(r*sin_theta)\n",
    "    psi = - 1/(2*np.sqrt(np.pi)) * (Z/(2*a0))**(3/2) * (Z*r/a0) * np.exp(-Z*r/(2*a0)) * sin_theta * cos_phi\n",
    "    return psi\n",
    "\n",
    "# py-orbital\n",
    "def py_orbit(x, y, z, a0 = a0, Z = Z):\n",
    "    r = np.sqrt(x**2 + y**2 + z**2 + 1e-20)\n",
    "    R = np.sqrt(x**2 + y**2 + 1e-40)\n",
    "    sin_theta = R/(r+1e-20)\n",
    "    sin_phi = y/(r*sin_theta)\n",
    "    psi = - 1/(2*np.sqrt(np.pi)) * (Z/(2*a0))**(3/2) * (Z*r/a0) * np.exp(-Z*r/(2*a0)) * sin_theta * sin_phi\n",
    "    return psi"
   ]
  },
  {
   "cell_type": "code",
   "execution_count": null,
   "id": "b739bbaf",
   "metadata": {},
   "outputs": [],
   "source": [
    "# Coulomb potential\n",
    "def deltaU(x, y, z, Z = Z): # Spherically symmetric\n",
    "    r = np.sqrt(x**2 + y**2 + z**2 + 1e-20)\n",
    "    potential = - 1/(4*np.pi*e_0)*Z*e**2/np.abs(r)\n",
    "    return potential"
   ]
  },
  {
   "cell_type": "code",
   "execution_count": null,
   "id": "1824d899",
   "metadata": {},
   "outputs": [],
   "source": []
  }
 ],
 "metadata": {
  "kernelspec": {
   "display_name": "Python 3",
   "language": "python",
   "name": "python3"
  },
  "language_info": {
   "codemirror_mode": {
    "name": "ipython",
    "version": 3
   },
   "file_extension": ".py",
   "mimetype": "text/x-python",
   "name": "python",
   "nbconvert_exporter": "python",
   "pygments_lexer": "ipython3",
   "version": "3.8.8"
  }
 },
 "nbformat": 4,
 "nbformat_minor": 5
}
