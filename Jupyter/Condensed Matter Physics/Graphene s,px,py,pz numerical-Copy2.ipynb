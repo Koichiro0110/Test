{
 "cells": [
  {
   "cell_type": "code",
   "execution_count": 1,
   "id": "552c7d95",
   "metadata": {},
   "outputs": [],
   "source": [
    "import numpy as np\n",
    "import matplotlib.pyplot as plt\n",
    "from scipy.interpolate import interp1d\n",
    "from scipy.integrate import tplquad"
   ]
  },
  {
   "cell_type": "code",
   "execution_count": 2,
   "id": "19b50052",
   "metadata": {},
   "outputs": [],
   "source": [
    "# physical parameters\n",
    "\n",
    "# Bohr radius\n",
    "a0 = 0.529 # Å\n",
    "\n",
    "# Vaccume permitivity\n",
    "e_0 = 8.854e-42 # kg^-1 * Å^-3 * s^4 * A^2\n",
    "\n",
    "# Elementary charge\n",
    "e = 1.60217663e-19 # A * s \n",
    "\n",
    "# Carbon's mass ratio\n",
    "Z = 12.01\n",
    "\n",
    "# Lattice Spacing\n",
    "d = 1.42 # Å\n",
    "\n",
    "# Lattice constant of the Bravais\n",
    "a = np.sqrt(3)*d #[Å]\n",
    "\n",
    "# 1eV = 1.6*10^(-19) [J]\n",
    "# 1[J] = 1/1.6*10^(19)\n",
    "# 1[J] = kg * m^2 * s^(-2) = 10^20 * kg * s^(-2) * Å^2\n",
    "\n",
    "# So 1 eV = 16 [kg * s^(-2) * Å^2]\n",
    "# 1[kg * s^(-2) * Å^2] = 0.16[eV]"
   ]
  },
  {
   "cell_type": "code",
   "execution_count": 3,
   "id": "c2352d85",
   "metadata": {},
   "outputs": [],
   "source": [
    "# Define the dot product\n",
    "\n",
    "def k1a1(x,y):\n",
    "    dot = a*(1/2*x + np.sqrt(3)/2*y)\n",
    "    return dot\n",
    "\n",
    "def k2a2(x,y):\n",
    "    dot = a*(-1/2*x + np.sqrt(3)/2*y)\n",
    "    return dot\n",
    "\n",
    "# Define the matrix\n",
    "\n",
    "def matrix(x,y,eps0s,eps0p,sssigma,spsigma,ppsigma,pppi):\n",
    "    \n",
    "    I = np.zeros((8,8))\n",
    "    I[0][0] = - eps0s\n",
    "    I[0][1] = -sssigma*(1 + np.exp(1j*(k1a1(x,y))) + np.exp(1j*(k2a2(x,y))))\n",
    "    I[0][2] = 0\n",
    "    I[0][3] = 0\n",
    "    I[0][4] = 0\n",
    "    I[0][5] = -np.sqrt(3)/2*spsigma*(np.exp(1j*(k1a1(x,y))) + np.exp(1j*(k2a2(x,y))))\n",
    "    I[0][6] = 0\n",
    "    I[0][7] = spsigma - 1/2*spsigma*(np.exp(1j*(k1a1(x,y))) + np.exp(1j*(k2a2(x,y))))\n",
    "\n",
    "    I[1][0] = -sssigma*(1 + np.exp(-1j*(k1a1(x,y))) + np.exp(-1j*(k2a2(x,y))))\n",
    "    I[1][1] = - eps0s\n",
    "    I[1][2] = 0\n",
    "    I[1][3] = 0\n",
    "    I[1][4] = np.sqrt(3)/2*spsigma*(np.exp(-1j*(k1a1(x,y))) + np.exp(-1j*(k2a2(x,y))))\n",
    "    I[1][5] = 0\n",
    "    I[1][6] = -spsigma + 1/2*spsigma*(np.exp(-1j*(k1a1(x,y))) + np.exp(-1j*(k2a2(x,y))))\n",
    "    I[1][7] = 0\n",
    "\n",
    "    I[2][0] = 0\n",
    "    I[2][1] = 0\n",
    "    I[2][2] = - eps0p\n",
    "    I[2][3] = -pppi*(1 + np.exp(1j*(k1a1(x,y))) + np.exp(1j*(k2a2(x,y))))\n",
    "    I[2][4] = 0\n",
    "    I[2][5] = 0\n",
    "    I[2][6] = 0\n",
    "    I[2][7] = 0\n",
    "\n",
    "    I[3][0] = 0\n",
    "    I[3][1] = 0\n",
    "    I[3][2] = 0\n",
    "    I[3][3] = -pppi*(1 + np.exp(-1j*(k1a1(x,y))) + np.exp(-1j*(k2a2(x,y))))\n",
    "    I[3][4] = - eps0p\n",
    "    I[3][5] = 0\n",
    "    I[3][6] = 0\n",
    "    I[3][7] = 0\n",
    "    \n",
    "    I[4][0] = 0\n",
    "    I[4][1] = np.sqrt(3)/2*spsigma*(np.exp(1j*(k1a1(x,y))) + np.exp(1j*(k2a2(x,y))))\n",
    "    I[4][2] = 0\n",
    "    I[4][3] = 0\n",
    "    I[4][4] = - eps0p\n",
    "    I[4][5] = -pppi - 1/4*(3*ppsigma + 1*pppi)*(np.exp(1j*(k1a1(x,y))) + np.exp(1j*(k2a2(x,y))))\n",
    "    I[4][6] = 0\n",
    "    I[4][7] = -np.sqrt(3)/4*(ppsigma-pppi)*(np.exp(1j*(k1a1(x,y))) - np.exp(1j*(k2a2(x,y))))\n",
    "    \n",
    "    I[5][0] = -np.sqrt(3)/2*spsigma*(np.exp(-1j*(k1a1(x,y))) + np.exp(-1j*(k2a2(x,y))))\n",
    "    I[5][1] = 0\n",
    "    I[5][2] = 0\n",
    "    I[5][3] = 0\n",
    "    I[5][4] = -pppi - 1/4*(3*ppsigma + 1*pppi)*(np.exp(-1j*(k1a1(x,y))) + np.exp(-1j*(k2a2(x,y))))\n",
    "    I[5][5] = - eps0p\n",
    "    I[5][6] = -np.sqrt(3)/4*(ppsigma-pppi)*(np.exp(-1j*(k1a1(x,y))) + np.exp(-1j*(k2a2(x,y))))\n",
    "    I[5][7] = 0\n",
    "    \n",
    "    I[6][0] = 0\n",
    "    I[6][1] = -spsigma + 1/2*spsigma*(np.exp(1j*(k1a1(x,y))) + np.exp(1j*(k2a2(x,y))))\n",
    "    I[6][2] = 0\n",
    "    I[6][3] = 0\n",
    "    I[6][4] = 0\n",
    "    I[6][5] = -np.sqrt(3)/4*(ppsigma-pppi)*(np.exp(1j*(k1a1(x,y))) + np.exp(1j*(k2a2(x,y))))\n",
    "    I[6][6] = - eps0p\n",
    "    I[6][7] = -ppsigma -1/4*(ppsigma+pppi)*(np.exp(1j*(k1a1(x,y))) + np.exp(1j*(k2a2(x,y))))\n",
    "    \n",
    "    I[7][0] = spsigma - 1/2*spsigma*(np.exp(-1j*(k1a1(x,y))) + np.exp(-1j*(k2a2(x,y))))\n",
    "    I[7][1] = 0\n",
    "    I[7][2] = 0\n",
    "    I[7][3] = 0\n",
    "    I[7][4] = -np.sqrt(3)/4*(ppsigma-pppi)*(np.exp(-1j*(k1a1(x,y))) - np.exp(-1j*(k2a2(x,y))))\n",
    "    I[7][5] = 0\n",
    "    I[7][6] = -ppsigma -1/4*(ppsigma+pppi)*(np.exp(-1j*(k1a1(x,y))) + np.exp(-1j*(k2a2(x,y))))\n",
    "    I[7][7] = - eps0p\n",
    "    \n",
    "    return I"
   ]
  },
  {
   "cell_type": "code",
   "execution_count": 4,
   "id": "f6ae512c",
   "metadata": {},
   "outputs": [],
   "source": [
    "# s-orbital\n",
    "def s_orbit(x, y, z, a0 = a0, Z = Z):\n",
    "    r = np.sqrt(x**2 + y**2 + z**2 + 1e-20)\n",
    "    psi = 1/np.sqrt(np.pi) * (Z/(2*a0))**(3/2) * (1 - Z*r/(2*a0)) * np.exp(-Z*r/(2*a0))\n",
    "    return psi\n",
    "\n",
    "# pz-orbital\n",
    "def pz_orbit(x, y, z, a0 = a0, Z = Z):\n",
    "    r = np.sqrt(x**2 + y**2 + z**2 + 1e-20)\n",
    "    cos_theta = z/(r+1e-20)\n",
    "    psi = 1/(2*np.sqrt(np.pi)) * (Z/(2*a0))**(3/2) * (Z*r/a0) * np.exp(-Z*r/(2*a0)) * cos_theta\n",
    "    return psi\n",
    "    \n",
    "# px-orbital\n",
    "def px_orbit(x, y, z, a0 = a0, Z = Z):\n",
    "    r = np.sqrt(x**2 + y**2 + z**2 + 1e-20)\n",
    "    R = np.sqrt(x**2 + y**2 + 1e-40)\n",
    "    sin_theta = R/(r+1e-20)\n",
    "    cos_phi = x/(r*sin_theta)\n",
    "    psi = - 1/(2*np.sqrt(np.pi)) * (Z/(2*a0))**(3/2) * (Z*r/a0) * np.exp(-Z*r/(2*a0)) * sin_theta * cos_phi\n",
    "    return psi\n",
    "\n",
    "# py-orbital\n",
    "def py_orbit(x, y, z, a0 = a0, Z = Z):\n",
    "    r = np.sqrt(x**2 + y**2 + z**2 + 1e-20)\n",
    "    R = np.sqrt(x**2 + y**2 + 1e-40)\n",
    "    sin_theta = R/(r+1e-20)\n",
    "    sin_phi = y/(r*sin_theta)\n",
    "    psi = - 1/(2*np.sqrt(np.pi)) * (Z/(2*a0))**(3/2) * (Z*r/a0) * np.exp(-Z*r/(2*a0)) * sin_theta * sin_phi\n",
    "    return psi"
   ]
  },
  {
   "cell_type": "code",
   "execution_count": 5,
   "id": "81f5c041",
   "metadata": {},
   "outputs": [],
   "source": [
    "# Coulomb potential\n",
    "def deltaU(x, y, z, Z = Z): # Spherically symmetric\n",
    "    r = np.sqrt(x**2 + y**2 + z**2 + 1e-20)\n",
    "    potential = - 1/(4*np.pi*e_0)*Z*e**2/np.abs(r)\n",
    "    return potential"
   ]
  },
  {
   "cell_type": "code",
   "execution_count": 6,
   "id": "55928fd3",
   "metadata": {},
   "outputs": [],
   "source": [
    "def deltaU_polar(r, Z = Z): # Spherically symmetric\n",
    "    potential = - 1/(4*np.pi*e_0)*Z*e**2/np.abs(r+1e-20)\n",
    "    return potential"
   ]
  },
  {
   "cell_type": "code",
   "execution_count": 7,
   "id": "fd2b93bf",
   "metadata": {},
   "outputs": [
    {
     "data": {
      "text/plain": [
       "[<matplotlib.lines.Line2D at 0x7f8ca84b4100>]"
      ]
     },
     "execution_count": 7,
     "metadata": {},
     "output_type": "execute_result"
    },
    {
     "data": {
      "image/png": "[encoded data removed]",
      "text/plain": [
       "<Figure size 432x288 with 1 Axes>"
      ]
     },
     "metadata": {
      "needs_background": "light"
     },
     "output_type": "display_data"
    }
   ],
   "source": [
    "r = np.linspace(1e-20,a0*1e-18,10000000) # This is in Armstrong!!!\n",
    "plt.plot(r, deltaU_polar(r, Z = Z))"
   ]
  },
  {
   "cell_type": "code",
   "execution_count": 8,
   "id": "f18671d0",
   "metadata": {},
   "outputs": [
    {
     "name": "stdout",
     "output_type": "stream",
     "text": [
      "sssigma =  -0.12173823924023817 [eV]\n",
      "spsigma =  0.1280331114758608 [eV]\n",
      "ppsigma =  0.1353830047468881 [eV]\n",
      "pppi =  -0.010183798473539786 [eV]\n"
     ]
    }
   ],
   "source": [
    "L = 4*a0 + d\n",
    "func = lambda x,y,z:s_orbit(x, y, z)* deltaU(x - d, y, z)* s_orbit(x - d, y, z)\n",
    "sssigmaintegral = tplquad(func, -L, L, -L, L, -L, L)\n",
    "sssigma = sssigmaintegral[0]/16\n",
    "print(\"sssigma = \", sssigma ,\"[eV]\")\n",
    "\n",
    "L = 4*a0 + d\n",
    "func = lambda x,y,z:s_orbit(x, y, z)* deltaU(x - d, y, z)* px_orbit(x - d, y, z)\n",
    "spsigmaintegral = tplquad(func, -L, L, -L, L, -L, L)\n",
    "spsigma = spsigmaintegral[0]/16\n",
    "print(\"spsigma = \", spsigma ,\"[eV]\")\n",
    "\n",
    "L = 4*a0 + d\n",
    "func = lambda x,y,z:px_orbit(x, y, z)* deltaU(x - d, y, z)* px_orbit(x - d, y, z)\n",
    "ppsigmaintegral = tplquad(func, -L, L, -L, L, -L, L)\n",
    "ppsigma = ppsigmaintegral[0]/16\n",
    "print(\"ppsigma = \", ppsigma ,\"[eV]\")\n",
    "\n",
    "L = 4*a0 + d\n",
    "func = lambda x,y,z:pz_orbit(x, y, z)* deltaU(x - d, y, z)* pz_orbit(x - d, y, z)\n",
    "pppiintegral = tplquad(func, -L, L, -L, L, -L, L)\n",
    "pppi = pppiintegral[0]/16\n",
    "print(\"pppi = \", pppi ,\"[eV]\")"
   ]
  },
  {
   "cell_type": "code",
   "execution_count": 9,
   "id": "e45b8579",
   "metadata": {},
   "outputs": [],
   "source": [
    "eps0s = 0\n",
    "eps0p = 0"
   ]
  },
  {
   "cell_type": "code",
   "execution_count": 12,
   "id": "0d42016a",
   "metadata": {
    "scrolled": false
   },
   "outputs": [
    {
     "name": "stderr",
     "output_type": "stream",
     "text": [
      "<ipython-input-3-69f56d8d6464>:17: ComplexWarning: Casting complex values to real discards the imaginary part\n",
      "  I[0][1] = -sssigma*(1 + np.exp(1j*(k1a1(x,y))) + np.exp(1j*(k2a2(x,y))))\n",
      "<ipython-input-3-69f56d8d6464>:21: ComplexWarning: Casting complex values to real discards the imaginary part\n",
      "  I[0][5] = -np.sqrt(3)/2*spsigma*(np.exp(1j*(k1a1(x,y))) + np.exp(1j*(k2a2(x,y))))\n",
      "<ipython-input-3-69f56d8d6464>:23: ComplexWarning: Casting complex values to real discards the imaginary part\n",
      "  I[0][7] = spsigma - 1/2*spsigma*(np.exp(1j*(k1a1(x,y))) + np.exp(1j*(k2a2(x,y))))\n",
      "<ipython-input-3-69f56d8d6464>:25: ComplexWarning: Casting complex values to real discards the imaginary part\n",
      "  I[1][0] = -sssigma*(1 + np.exp(-1j*(k1a1(x,y))) + np.exp(-1j*(k2a2(x,y))))\n",
      "<ipython-input-3-69f56d8d6464>:29: ComplexWarning: Casting complex values to real discards the imaginary part\n",
      "  I[1][4] = np.sqrt(3)/2*spsigma*(np.exp(-1j*(k1a1(x,y))) + np.exp(-1j*(k2a2(x,y))))\n",
      "<ipython-input-3-69f56d8d6464>:31: ComplexWarning: Casting complex values to real discards the imaginary part\n",
      "  I[1][6] = -spsigma + 1/2*spsigma*(np.exp(-1j*(k1a1(x,y))) + np.exp(-1j*(k2a2(x,y))))\n",
      "<ipython-input-3-69f56d8d6464>:37: ComplexWarning: Casting complex values to real discards the imaginary part\n",
      "  I[2][3] = -pppi*(1 + np.exp(1j*(k1a1(x,y))) + np.exp(1j*(k2a2(x,y))))\n",
      "<ipython-input-3-69f56d8d6464>:46: ComplexWarning: Casting complex values to real discards the imaginary part\n",
      "  I[3][3] = -pppi*(1 + np.exp(-1j*(k1a1(x,y))) + np.exp(-1j*(k2a2(x,y))))\n",
      "<ipython-input-3-69f56d8d6464>:53: ComplexWarning: Casting complex values to real discards the imaginary part\n",
      "  I[4][1] = np.sqrt(3)/2*spsigma*(np.exp(1j*(k1a1(x,y))) + np.exp(1j*(k2a2(x,y))))\n",
      "<ipython-input-3-69f56d8d6464>:57: ComplexWarning: Casting complex values to real discards the imaginary part\n",
      "  I[4][5] = -pppi - 1/4*(3*ppsigma + 1*pppi)*(np.exp(1j*(k1a1(x,y))) + np.exp(1j*(k2a2(x,y))))\n",
      "<ipython-input-3-69f56d8d6464>:59: ComplexWarning: Casting complex values to real discards the imaginary part\n",
      "  I[4][7] = -np.sqrt(3)/4*(ppsigma-pppi)*(np.exp(1j*(k1a1(x,y))) - np.exp(1j*(k2a2(x,y))))\n",
      "<ipython-input-3-69f56d8d6464>:61: ComplexWarning: Casting complex values to real discards the imaginary part\n",
      "  I[5][0] = -np.sqrt(3)/2*spsigma*(np.exp(-1j*(k1a1(x,y))) + np.exp(-1j*(k2a2(x,y))))\n",
      "<ipython-input-3-69f56d8d6464>:65: ComplexWarning: Casting complex values to real discards the imaginary part\n",
      "  I[5][4] = -pppi - 1/4*(3*ppsigma + 1*pppi)*(np.exp(-1j*(k1a1(x,y))) + np.exp(-1j*(k2a2(x,y))))\n",
      "<ipython-input-3-69f56d8d6464>:67: ComplexWarning: Casting complex values to real discards the imaginary part\n",
      "  I[5][6] = -np.sqrt(3)/4*(ppsigma-pppi)*(np.exp(-1j*(k1a1(x,y))) + np.exp(-1j*(k2a2(x,y))))\n",
      "<ipython-input-3-69f56d8d6464>:71: ComplexWarning: Casting complex values to real discards the imaginary part\n",
      "  I[6][1] = -spsigma + 1/2*spsigma*(np.exp(1j*(k1a1(x,y))) + np.exp(1j*(k2a2(x,y))))\n",
      "<ipython-input-3-69f56d8d6464>:75: ComplexWarning: Casting complex values to real discards the imaginary part\n",
      "  I[6][5] = -np.sqrt(3)/4*(ppsigma-pppi)*(np.exp(1j*(k1a1(x,y))) + np.exp(1j*(k2a2(x,y))))\n",
      "<ipython-input-3-69f56d8d6464>:77: ComplexWarning: Casting complex values to real discards the imaginary part\n",
      "  I[6][7] = -ppsigma -1/4*(ppsigma+pppi)*(np.exp(1j*(k1a1(x,y))) + np.exp(1j*(k2a2(x,y))))\n",
      "<ipython-input-3-69f56d8d6464>:79: ComplexWarning: Casting complex values to real discards the imaginary part\n",
      "  I[7][0] = spsigma - 1/2*spsigma*(np.exp(-1j*(k1a1(x,y))) + np.exp(-1j*(k2a2(x,y))))\n",
      "<ipython-input-3-69f56d8d6464>:83: ComplexWarning: Casting complex values to real discards the imaginary part\n",
      "  I[7][4] = -np.sqrt(3)/4*(ppsigma-pppi)*(np.exp(-1j*(k1a1(x,y))) - np.exp(-1j*(k2a2(x,y))))\n",
      "<ipython-input-3-69f56d8d6464>:85: ComplexWarning: Casting complex values to real discards the imaginary part\n",
      "  I[7][6] = -ppsigma -1/4*(ppsigma+pppi)*(np.exp(-1j*(k1a1(x,y))) + np.exp(-1j*(k2a2(x,y))))\n"
     ]
    }
   ],
   "source": [
    "N = 100\n",
    "x_values1 = np.linspace(0, 2*np.pi/(3*a), N)\n",
    "y_values1 = np.sqrt(3)*x_values1\n",
    "x_values1plot = x_values1\n",
    "\n",
    "x_values2 = np.linspace(2*np.pi/(3*a), np.pi/(a), int(N/2))\n",
    "x_values2plota = np.linspace(0, np.pi/(3*a), int(N/2)) + 2*np.pi/(3*a)*np.ones(int(N/2))\n",
    "x_values2plot = x_values2plota[1::]\n",
    "y_values2 = -np.sqrt(3)*x_values2 + 4*np.pi/(np.sqrt(3)*a)\n",
    "\n",
    "'''x3 = np.linspace(0, 2*np.pi/(3*a), N)\n",
    "x_values3 = x3[::-1]\n",
    "x_values3plota = np.linspace(0, 2*np.pi/(3*a), N) + 6*np.pi/(3*a)*np.ones(N)\n",
    "x_values3plot = x_values3plota[1::]\n",
    "\n",
    "y_values3 = np.sqrt(3)*x_values3\n",
    "'''\n",
    "x_valuesplot = np.concatenate([x_values1plot, x_values2plot])\n",
    "\n",
    "band = []\n",
    "for i,j in zip(x_values1,y_values1):\n",
    "    eigen = np.linalg.eigh(matrix(i,j,eps0s,eps0p,sssigma,spsigma,ppsigma,pppi))\n",
    "    eigen = eigen[0]\n",
    "    band.append(eigen)\n",
    "\n",
    "\n",
    "for i,j in zip(x_values2[1::],y_values2[1::]):\n",
    "    eigen = np.linalg.eigh(matrix(i,j,eps0s,eps0p,sssigma,spsigma,ppsigma,pppi))\n",
    "    eigen = eigen[0]\n",
    "    band.append(eigen)\n",
    "'''    \n",
    "for i,j in zip(x_values3[1::],y_values3[1::]):\n",
    "    eigen = np.linalg.eigh(matrix(i,j,eps0s,eps0p,sssigma,spsigma,ppsigma,pppi))\n",
    "    eigen = eigen[0]\n",
    "    band.append(eigen)\n",
    "'''\n",
    "\n",
    "# Transpose to plot\n",
    "bandT = np.transpose(band)"
   ]
  },
  {
   "cell_type": "code",
   "execution_count": 14,
   "id": "21e7b974",
   "metadata": {},
   "outputs": [
    {
     "data": {
      "image/png": "[encoded data removed]",
      "text/plain": [
       "<Figure size 648x504 with 1 Axes>"
      ]
     },
     "metadata": {
      "needs_background": "light"
     },
     "output_type": "display_data"
    }
   ],
   "source": [
    "fig = plt.figure(figsize = (9,7))\n",
    "ax = fig.gca()\n",
    "\n",
    "'''\n",
    "indexes = [6,7]\n",
    "\n",
    "for i in indexes:\n",
    "    ax.plot(x_valuesplot, bandT[i]*1/1.6*1e19, color = \"black\") # Converting into eV but not sure if it's right)\n",
    "    \n",
    "ax.plot([4*np.pi/(3*a), 4*np.pi/(3*a)], [-bandT[6][0]*1/1.6*1e19, bandT[6][0]*1/1.6*1e19], color = \"lime\", label = \"Dirac points\", linewidth = 1)\n",
    "ax.plot([6*np.pi/(3*a), 6*np.pi/(3*a)], [-bandT[6][0]*1/1.6*1e19, bandT[6][0]*1/1.6*1e19], color = \"lime\", linewidth = 1)\n",
    "\n",
    "'''\n",
    "for i in range(8):\n",
    "     ax.plot(x_valuesplot, bandT[i], color = \"black\") # Converting into eV but not sure if it's right)\n",
    "\n",
    "ax.plot([2*np.pi/(3*a), 2*np.pi/(3*a)], [-bandT[0][0], bandT[0][0]], color = \"lime\", label = \"Dirac points\", linewidth = 1)\n",
    "ax.set_title(\"Energy band structure of Graphene s,px,py,pz\", fontsize = 22)\n",
    "ax.set_xlabel(\"Reciprocal space [ $ Å^{-1} $ ]\", fontsize = 16)\n",
    "ax.set_ylabel(\"Energy band [eV]\", fontsize = 16)\n",
    "\n",
    "ticks = [\"$ \\Gamma $\", \"$ K $\", \"$ M $\"]\n",
    "ax.set_xticks([0, 2*np.pi/(3*a), np.pi/a])\n",
    "ax.set_xticklabels(ticks,fontsize = 16)\n",
    "#ax.set_yticks([0])\n",
    "#ax.set_yticklabels([\"$0$\"],fontsize = 16)\n",
    "ax.legend(fontsize = 13)\n",
    "\n",
    "\n",
    "\n",
    "from matplotlib.backends.backend_pdf import PdfPages\n",
    "pdf = PdfPages('Energy bands of Graphene s,px,py,pz, trial.pdf')\n",
    "pdf.savefig()\n",
    "pdf.close()\n",
    "\n",
    "\n",
    "# 勝手に分裂させちゃダメかも？？"
   ]
  },
  {
   "cell_type": "code",
   "execution_count": null,
   "id": "f1c5636f",
   "metadata": {},
   "outputs": [],
   "source": []
  },
  {
   "cell_type": "code",
   "execution_count": null,
   "id": "5a45eb53",
   "metadata": {},
   "outputs": [],
   "source": []
  },
  {
   "cell_type": "code",
   "execution_count": null,
   "id": "716964f7",
   "metadata": {},
   "outputs": [],
   "source": []
  }
 ],
 "metadata": {
  "kernelspec": {
   "display_name": "Python 3",
   "language": "python",
   "name": "python3"
  },
  "language_info": {
   "codemirror_mode": {
    "name": "ipython",
    "version": 3
   },
   "file_extension": ".py",
   "mimetype": "text/x-python",
   "name": "python",
   "nbconvert_exporter": "python",
   "pygments_lexer": "ipython3",
   "version": "3.8.8"
  }
 },
 "nbformat": 4,
 "nbformat_minor": 5
}
