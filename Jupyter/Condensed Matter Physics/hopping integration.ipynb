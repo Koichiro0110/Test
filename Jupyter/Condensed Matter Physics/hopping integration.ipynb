{
 "cells": [
  {
   "cell_type": "code",
   "execution_count": 1,
   "id": "648bd2ee",
   "metadata": {},
   "outputs": [],
   "source": [
    "import numpy as np\n",
    "import matplotlib.pyplot as plt\n",
    "from scipy.interpolate import interp1d\n",
    "from scipy.integrate import trapz,tplquad"
   ]
  },
  {
   "cell_type": "code",
   "execution_count": 2,
   "id": "0e15e3d3",
   "metadata": {},
   "outputs": [],
   "source": [
    "# physical parameters\n",
    "\n",
    "# Bohr radius\n",
    "a0 = 0.529 # Å\n",
    "\n",
    "# Vaccume permitivity\n",
    "e_0 = 8.854e-42 # kg^-1 * Å^-3 * s^4 * A^2\n",
    "\n",
    "# Elementary charge\n",
    "e = 1.60217663e-19 # A * s \n",
    "\n",
    "# Carbon's mass ratio\n",
    "Z = 12.01\n",
    "\n",
    "# Lattice Spacing of the Graphene\n",
    "d = 1.42 # Å\n",
    "\n",
    "# Lattice constant of the Bravais\n",
    "a = np.sqrt(3)*d\n",
    "\n",
    "# 1[eV] = 1.6*10^(-19) [J]\n",
    "# 1[J] = 1/1.6*10^(19)[eV]\n",
    "# 1[J] = kg * m^2 * s^(-2) = 10^20 * kg * s^(-2) * Å^2\n",
    "\n",
    "# So 1 [kg * s^(-2) * Å^2] = 1/16 [eV]"
   ]
  },
  {
   "cell_type": "code",
   "execution_count": 3,
   "id": "fe590d4d",
   "metadata": {},
   "outputs": [],
   "source": [
    "# s-orbital\n",
    "def s_orbit_r(r, a0 = a0, Z = Z):\n",
    "    psi = 1/np.sqrt(np.pi) * (Z/(2*a0))**(3/2) * (1 - Z*r/(2*a0)) * np.exp(-Z*r/(2*a0))\n",
    "    return psi\n",
    "\n",
    "# pz-orbital\n",
    "def pz_orbit_r(r, a0 = a0, Z = Z):\n",
    "    psi = 1/(2*np.sqrt(np.pi)) * (Z/(2*a0))**(3/2) * (Z*r/a0) * np.exp(-Z*r/(2*a0))\n",
    "    return psi\n",
    "\n",
    "def pz_orbit_theta(theta):\n",
    "    return np.cos(theta)\n",
    "\n",
    "# px-orbital\n",
    "def px_orbit_r(r, a0 = a0, Z = Z):\n",
    "    psi = - 1/(2*np.sqrt(np.pi)) * (Z/(2*a0))**(3/2) * (Z*r/a0) * np.exp(-Z*r/(2*a0))\n",
    "    return psi\n",
    "\n",
    "def px_orbit_theta(theta):\n",
    "    return np.sin(theta) \n",
    "\n",
    "def px_orbit_phi(phi):\n",
    "    return np.cos(phi)\n",
    "\n",
    "# py-orbital\n",
    "def py_orbit_r(r, a0 = a0, Z = Z):\n",
    "    psi = - 1/(2*np.sqrt(np.pi)) * (Z/(2*a0))**(3/2) * (Z*r/a0) * np.exp(-Z*r/(2*a0))\n",
    "    return psi\n",
    "\n",
    "def py_orbit_theta(theta):\n",
    "    return np.sin(theta) \n",
    "\n",
    "def py_orbit_phi(phi):\n",
    "    return np.sin(phi)"
   ]
  },
  {
   "cell_type": "code",
   "execution_count": 4,
   "id": "efb1eca2",
   "metadata": {},
   "outputs": [],
   "source": [
    "r = np.linspace(1e-20,5*a0,100000)\n",
    "theta = np.linspace(0,np.pi,100000)\n",
    "phi = np.linspace(0,2*np.pi,100000)"
   ]
  },
  {
   "cell_type": "code",
   "execution_count": 5,
   "id": "0615451a",
   "metadata": {},
   "outputs": [
    {
     "data": {
      "text/plain": [
       "[<matplotlib.lines.Line2D at 0x7fc7a09fd880>]"
      ]
     },
     "execution_count": 5,
     "metadata": {},
     "output_type": "execute_result"
    },
    {
     "data": {
      "image/png": "[encoded data removed]",
      "text/plain": [
       "<Figure size 432x288 with 1 Axes>"
      ]
     },
     "metadata": {
      "needs_background": "light"
     },
     "output_type": "display_data"
    }
   ],
   "source": [
    "plt.plot(r, s_orbit_r(r))\n",
    "plt.plot(r, pz_orbit_r(r)*pz_orbit_theta(0))\n",
    "plt.plot(r, pz_orbit_r(r)*pz_orbit_theta(np.pi))"
   ]
  },
  {
   "cell_type": "code",
   "execution_count": 6,
   "id": "9439b6d1",
   "metadata": {},
   "outputs": [
    {
     "data": {
      "text/plain": [
       "[<matplotlib.lines.Line2D at 0x7fc7907eac10>]"
      ]
     },
     "execution_count": 6,
     "metadata": {},
     "output_type": "execute_result"
    },
    {
     "data": {
      "image/png": "[encoded data removed]",
      "text/plain": [
       "<Figure size 432x288 with 1 Axes>"
      ]
     },
     "metadata": {
      "needs_background": "light"
     },
     "output_type": "display_data"
    }
   ],
   "source": [
    "plt.plot(r, px_orbit_r(r)* px_orbit_theta(np.pi/2) *px_orbit_phi(0))\n",
    "plt.plot(r, px_orbit_r(r)* px_orbit_theta(np.pi/2) *px_orbit_phi(np.pi))"
   ]
  },
  {
   "cell_type": "code",
   "execution_count": 7,
   "id": "59d23bc3",
   "metadata": {},
   "outputs": [
    {
     "data": {
      "text/plain": [
       "[<matplotlib.lines.Line2D at 0x7fc7b1244e80>]"
      ]
     },
     "execution_count": 7,
     "metadata": {},
     "output_type": "execute_result"
    },
    {
     "data": {
      "image/png": "[encoded data removed]",
      "text/plain": [
       "<Figure size 432x288 with 1 Axes>"
      ]
     },
     "metadata": {
      "needs_background": "light"
     },
     "output_type": "display_data"
    }
   ],
   "source": [
    "plt.plot(r, py_orbit_r(r)* py_orbit_theta(np.pi/2) *py_orbit_phi(np.pi/2))\n",
    "plt.plot(r, py_orbit_r(r)* py_orbit_theta(np.pi/2) *py_orbit_phi(3*np.pi/2))"
   ]
  },
  {
   "cell_type": "code",
   "execution_count": 8,
   "id": "76288187",
   "metadata": {},
   "outputs": [
    {
     "name": "stdout",
     "output_type": "stream",
     "text": [
      "0.9999999999999987 0.9999999997532546 0.9999999999999997 0.9999999999999998\n"
     ]
    }
   ],
   "source": [
    "# Check Normalization\n",
    "# Don't forget Jacobian!\n",
    "\n",
    "# s-orbital\n",
    "func_s = s_orbit_r(r)**2*r**2*4*np.pi\n",
    "normal_s = trapz(func_s[0 : len(r)], r[0 : len(r)])\n",
    "\n",
    "# pz-orbital\n",
    "func_pz_r = pz_orbit_r(r)**2*r**2\n",
    "normal_pz_r = trapz(func_pz_r[0 : len(r)], r[0 : len(r)])\n",
    "\n",
    "func_pz_theta = pz_orbit_theta(theta)**2*np.sin(theta)*2*np.pi\n",
    "normal_pz_theta = trapz(func_pz_theta[0 : len(theta)], theta[0 : len(theta)])\n",
    "\n",
    "normal_pz = normal_pz_r * normal_pz_theta\n",
    "\n",
    "# px-orbital\n",
    "func_px_r = px_orbit_r(r)**2*r**2\n",
    "normal_px_r = trapz(func_px_r[0 : len(r)], r[0 : len(r)])\n",
    "\n",
    "func_px_theta = px_orbit_theta(theta)**2*np.sin(theta)\n",
    "normal_px_theta = trapz(func_px_theta[0 : len(theta)], theta[0 : len(theta)])\n",
    "\n",
    "func_px_phi = px_orbit_phi(phi)**2\n",
    "normal_px_phi = trapz(func_px_phi[0 : len(phi)], phi[0 : len(phi)])\n",
    "\n",
    "normal_px = normal_px_r * normal_px_theta * normal_px_phi\n",
    "\n",
    "# py-orbital\n",
    "func_py_r = py_orbit_r(r)**2*r**2\n",
    "normal_py_r = trapz(func_py_r[0 : len(r)], r[0 : len(r)])\n",
    "\n",
    "func_py_theta = py_orbit_theta(theta)**2*np.sin(theta)\n",
    "normal_py_theta = trapz(func_py_theta[0 : len(theta)], theta[0 : len(theta)])\n",
    "\n",
    "func_py_phi = py_orbit_phi(phi)**2\n",
    "normal_py_phi = trapz(func_py_phi[0 : len(phi)], phi[0 : len(phi)])\n",
    "\n",
    "normal_py = normal_py_r * normal_py_theta * normal_py_phi\n",
    "\n",
    "\n",
    "print(normal_s, normal_pz, normal_px, normal_py) # ok"
   ]
  },
  {
   "cell_type": "code",
   "execution_count": 9,
   "id": "f7c6de69",
   "metadata": {},
   "outputs": [],
   "source": [
    "# s-orbital\n",
    "def s_orbit(x, y, z, a0 = a0, Z = Z):\n",
    "    r = np.sqrt(x**2 + y**2 + z**2)\n",
    "    psi = 1/np.sqrt(np.pi) * (Z/(2*a0))**(3/2) * (1 - Z*r/(2*a0)) * np.exp(-Z*r/(2*a0))\n",
    "    return psi\n",
    "\n",
    "# pz-orbital\n",
    "def pz_orbit(x, y, z, a0 = a0, Z = Z):\n",
    "    r = np.sqrt(x**2 + y**2 + z**2+1e-20)\n",
    "    cos_theta = z/(r+1e-20)\n",
    "    psi = 1/(2*np.sqrt(np.pi)) * (Z/(2*a0))**(3/2) * (Z*r/a0) * np.exp(-Z*r/(2*a0)) * cos_theta\n",
    "    return psi\n",
    "    \n",
    "# px-orbital\n",
    "def px_orbit(x, y, z, a0 = a0, Z = Z):\n",
    "    r = np.sqrt(x**2 + y**2 + z**2+1e-20)\n",
    "    R = np.sqrt(x**2 + y**2+1e-40)\n",
    "    sin_theta = R/(r+1e-20)\n",
    "    cos_phi = x/(r*sin_theta)\n",
    "    psi = - 1/(2*np.sqrt(np.pi)) * (Z/(2*a0))**(3/2) * (Z*r/a0) * np.exp(-Z*r/(2*a0)) * sin_theta * cos_phi\n",
    "    return psi\n",
    "\n",
    "# py-orbital\n",
    "def py_orbit(x, y, z, a0 = a0, Z = Z):\n",
    "    r = np.sqrt(x**2 + y**2 + z**2 + 1e-20)\n",
    "    R = np.sqrt(x**2 + y**2 + 1e-40)\n",
    "    sin_theta = R/(r+1e-20)\n",
    "    sin_phi = y/(r*sin_theta)\n",
    "    psi = - 1/(2*np.sqrt(np.pi)) * (Z/(2*a0))**(3/2) * (Z*r/a0) * np.exp(-Z*r/(2*a0)) * sin_theta * sin_phi\n",
    "    return psi"
   ]
  },
  {
   "cell_type": "code",
   "execution_count": 10,
   "id": "54ac87bf",
   "metadata": {},
   "outputs": [],
   "source": [
    "# Coulomb potential\n",
    "def deltaU(x, y, z, Z = Z): # Spherically symmetric\n",
    "    r = np.sqrt(x**2 + y**2 + z**2 + 1e-20)\n",
    "    potential = - 1/(4*np.pi*e_0)*Z*e**2/np.abs(r)\n",
    "    return potential"
   ]
  },
  {
   "cell_type": "code",
   "execution_count": 11,
   "id": "e34a493b",
   "metadata": {},
   "outputs": [
    {
     "name": "stdout",
     "output_type": "stream",
     "text": [
      "normalization of s-orbital =  (0.9999997895764741, 2.8990808451435617e-07)\n",
      "normalization of pz-orbital =  (0.9999999177774126, 1.6731259058308753e-07)\n",
      "normalization of px-orbital =  (0.9999999177692881, 2.9214908391178733e-07)\n",
      "normalization of py-orbital =  (0.9999999177764304, 1.673125905812444e-07)\n"
     ]
    }
   ],
   "source": [
    "L = 2*a0\n",
    "func = lambda x,y,z:s_orbit(x, y, z)**2\n",
    "normal_s = tplquad(func, -L, L, -L, L, -L, L)\n",
    "print(\"normalization of s-orbital = \",normal_s)\n",
    "\n",
    "L = 2*a0\n",
    "func = lambda x,y,z:pz_orbit(x, y, z)**2\n",
    "normal_pz = tplquad(func, -L, L, -L, L, -L, L)\n",
    "print(\"normalization of pz-orbital = \",normal_pz)\n",
    "L = 2*a0\n",
    "func = lambda x,y,z:px_orbit(x, y, z)**2\n",
    "normal_px = tplquad(func, -L, L, -L, L, -L, L)\n",
    "print(\"normalization of px-orbital = \",normal_px)\n",
    "\n",
    "L = 2*a0\n",
    "func = lambda x,y,z:py_orbit(x, y, z)**2\n",
    "normal_py = tplquad(func, -L, L, -L, L, -L, L)\n",
    "print(\"normalization of py-orbital = \",normal_py)"
   ]
  },
  {
   "cell_type": "code",
   "execution_count": 12,
   "id": "2facb865",
   "metadata": {},
   "outputs": [],
   "source": [
    "# Hybrid でやろう！！！！"
   ]
  },
  {
   "cell_type": "code",
   "execution_count": 13,
   "id": "d02d7141",
   "metadata": {},
   "outputs": [
    {
     "name": "stdout",
     "output_type": "stream",
     "text": [
      "sssigma =  -0.12173823924023817 [eV]\n"
     ]
    }
   ],
   "source": [
    "# Calculate the hopping integrations.\n",
    "L = 4*a0 + d\n",
    "func = lambda x,y,z:s_orbit(x, y, z)* deltaU(x - d, y, z)* s_orbit(x - d, y, z)\n",
    "sssigmaintegral = tplquad(func, -L, L, -L, L, -L, L)\n",
    "sssigma = sssigmaintegral[0]/16\n",
    "print(\"sssigma = \", sssigma, \"[eV]\")"
   ]
  },
  {
   "cell_type": "code",
   "execution_count": 14,
   "id": "1787f9d2",
   "metadata": {},
   "outputs": [
    {
     "name": "stderr",
     "output_type": "stream",
     "text": [
      "/opt/anaconda3/lib/python3.8/site-packages/scipy/integrate/quadpack.py:879: IntegrationWarning: The maximum number of subdivisions (50) has been achieved.\n",
      "  If increasing the limit yields no improvement it is advised to analyze \n",
      "  the integrand in order to determine the difficulties.  If the position of a \n",
      "  local difficulty can be determined (singularity, discontinuity) one will \n",
      "  probably gain from splitting up the interval and calling the integrator \n",
      "  on the subranges.  Perhaps a special-purpose integrator should be used.\n",
      "  quad_r = quad(f, low, high, args=args, full_output=self.full_output,\n"
     ]
    },
    {
     "name": "stdout",
     "output_type": "stream",
     "text": [
      "sssigma =  -0.12173823924021744 [eV]\n"
     ]
    }
   ],
   "source": [
    "L = 10*a0 + d\n",
    "func = lambda x,y,z:s_orbit(x, y, z)* deltaU(x - d, y, z)* s_orbit(x - d, y, z)\n",
    "sssigmaintegral = tplquad(func, -L, L, -L, L, -L, L)\n",
    "sssigma = sssigmaintegral[0]/16\n",
    "print(\"sssigma = \", sssigma, \"[eV]\")"
   ]
  },
  {
   "cell_type": "code",
   "execution_count": null,
   "id": "14c000fd",
   "metadata": {},
   "outputs": [],
   "source": []
  },
  {
   "cell_type": "code",
   "execution_count": null,
   "id": "6b32e1c2",
   "metadata": {},
   "outputs": [],
   "source": []
  },
  {
   "cell_type": "code",
   "execution_count": null,
   "id": "1324e1eb",
   "metadata": {},
   "outputs": [],
   "source": []
  },
  {
   "cell_type": "code",
   "execution_count": null,
   "id": "bb2a323c",
   "metadata": {},
   "outputs": [],
   "source": []
  }
 ],
 "metadata": {
  "kernelspec": {
   "display_name": "Python 3",
   "language": "python",
   "name": "python3"
  },
  "language_info": {
   "codemirror_mode": {
    "name": "ipython",
    "version": 3
   },
   "file_extension": ".py",
   "mimetype": "text/x-python",
   "name": "python",
   "nbconvert_exporter": "python",
   "pygments_lexer": "ipython3",
   "version": "3.8.8"
  }
 },
 "nbformat": 4,
 "nbformat_minor": 5
}
