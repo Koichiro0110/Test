{
 "cells": [
  {
   "cell_type": "code",
   "execution_count": 1,
   "id": "9c27cf7f",
   "metadata": {},
   "outputs": [],
   "source": [
    "import numpy as np\n",
    "import matplotlib.pyplot as plt\n",
    "from scipy.linalg import eigh_tridiagonal"
   ]
  },
  {
   "cell_type": "code",
   "execution_count": 2,
   "id": "724d14ed",
   "metadata": {},
   "outputs": [],
   "source": [
    "V0 = 36\n",
    "E = np.linspace(-V0, 0, 100000)"
   ]
  },
  {
   "cell_type": "code",
   "execution_count": 3,
   "id": "ce2527f7",
   "metadata": {},
   "outputs": [],
   "source": [
    "RHS = np.sqrt(-E)\n",
    "LHS1 = np.sqrt(E+V0)*np.tan(np.sqrt(E+V0))\n",
    "LHS2 = -np.sqrt(E+V0)/np.tan(np.sqrt(E+V0+1e-10))"
   ]
  },
  {
   "cell_type": "code",
   "execution_count": 4,
   "id": "5b14d8ef",
   "metadata": {},
   "outputs": [
    {
     "data": {
      "image/png": "[encoded data removed]",
      "text/plain": [
       "<Figure size 432x216 with 1 Axes>"
      ]
     },
     "metadata": {
      "needs_background": "light"
     },
     "output_type": "display_data"
    }
   ],
   "source": [
    "fig = plt.figure(figsize = (6,3))\n",
    "plt.scatter(E, LHS1, s = 1, color = 'blue') # s is the size\n",
    "plt.scatter(E, LHS2, s = 1, color = 'blue')\n",
    "plt.scatter(E, RHS, s = 1, color = 'red')\n",
    "plt.ylim(-10, 10)\n",
    "plt.grid(color = 'grey')\n",
    "plt.xlabel('$E$')\n",
    "plt.show()"
   ]
  },
  {
   "cell_type": "code",
   "execution_count": 5,
   "id": "5f5ce8f0",
   "metadata": {},
   "outputs": [],
   "source": [
    "# Look for the intersection point! f(E, V0) = 0 ⇨ E is one of the energy spectrum\n",
    "def f1(E, V0):\n",
    "    return np.sqrt(E+V0)*np.tan(np.sqrt(E+V0)) - np.sqrt(-E)\n",
    "\n",
    "def f2(E, v0, eps=1e-10):\n",
    "    return np.sqrt(E+V0+eps)/np.tan(np.sqrt(E+V0+eps)) + np.sqrt(-E)"
   ]
  },
  {
   "cell_type": "code",
   "execution_count": 6,
   "id": "81b0e786",
   "metadata": {},
   "outputs": [
    {
     "data": {
      "image/png": "[encoded data removed]",
      "text/plain": [
       "<Figure size 432x216 with 1 Axes>"
      ]
     },
     "metadata": {
      "needs_background": "light"
     },
     "output_type": "display_data"
    }
   ],
   "source": [
    "fig = plt.figure(figsize = (6,3))\n",
    "plt.scatter(E, f1(E,V0), s = 1, color = 'blue') # s is the size\n",
    "plt.scatter(E, f2(E,V0), s = 1, color = 'blue')\n",
    "plt.ylim(-10, 10)\n",
    "plt.grid(color = 'grey')\n",
    "plt.xlabel('$E$')\n",
    "plt.show()"
   ]
  },
  {
   "cell_type": "code",
   "execution_count": 7,
   "id": "87f1edf4",
   "metadata": {},
   "outputs": [
    {
     "name": "stdout",
     "output_type": "stream",
     "text": [
      "[-1. -1. -1. ... -1. -1. -1.]\n",
      "[0. 0. 0. ... 0. 0. 0.]\n",
      "(array([ 5023,  6853, 44129, 61684]),)\n"
     ]
    }
   ],
   "source": [
    "#Now, Let's find a f(E) = 0 point.\n",
    "f1s = f1(E, V0) # get array\n",
    "f2s = f2(E, V0)\n",
    "\n",
    "#np.where gives you the \"index of non-zero point\"!\n",
    "# np.sign gives you the sign of the arrays\n",
    "# np.diff takes the difference of next-to-next points.\n",
    "# so np.where(np.diff(np.sign(f))) gives you the index of f = 0 point!!\n",
    "# Only f = 0 point, np.diff(np.sign) is non-zero\n",
    "# But actually there's another point, because of the tangent, by exclude those points by set <3!\n",
    "\n",
    "print(np.sign(f1s))\n",
    "print(np.diff(np.sign(f1s)))\n",
    "print(np.where(np.diff(np.sign(f1s))))"
   ]
  },
  {
   "cell_type": "code",
   "execution_count": 8,
   "id": "e755ecd9",
   "metadata": {},
   "outputs": [
    {
     "data": {
      "text/plain": [
       "100000"
      ]
     },
     "execution_count": 8,
     "metadata": {},
     "output_type": "execute_result"
    }
   ],
   "source": [
    "len((np.abs(f1s)<3).astype(float))"
   ]
  },
  {
   "cell_type": "code",
   "execution_count": 9,
   "id": "c269d713",
   "metadata": {},
   "outputs": [
    {
     "data": {
      "text/plain": [
       "99999"
      ]
     },
     "execution_count": 9,
     "metadata": {},
     "output_type": "execute_result"
    }
   ],
   "source": [
    "len((np.abs(f1s)<3).astype(float)[:-1])"
   ]
  },
  {
   "cell_type": "code",
   "execution_count": 10,
   "id": "80443eab",
   "metadata": {},
   "outputs": [
    {
     "data": {
      "text/plain": [
       "99999"
      ]
     },
     "execution_count": 10,
     "metadata": {},
     "output_type": "execute_result"
    }
   ],
   "source": [
    "len(np.diff(f1s))"
   ]
  },
  {
   "cell_type": "code",
   "execution_count": 11,
   "id": "57fcdfae",
   "metadata": {},
   "outputs": [],
   "source": [
    "f1s = f1(E, V0) # get array\n",
    "f2s = f2(E, V0)\n",
    "\n",
    "\n",
    "zero_crossings_f1s = np.where((np.abs(f1s)<3).astype(float)[:-1] * np.diff(np.sign(f1s)))[0]\n",
    "zero_crossings_f2s = np.where((np.abs(f2s)<3).astype(float)[:-1] * np.diff(np.sign(f2s)))[0]\n",
    "zero_crossings = np.sort(np.concatenate([zero_crossings_f1s, zero_crossings_f2s]))\n",
    "Es_method1 = (E[zero_crossings] + E[zero_crossings+1])/2"
   ]
  },
  {
   "cell_type": "code",
   "execution_count": 12,
   "id": "fc9d2cf8",
   "metadata": {},
   "outputs": [
    {
     "data": {
      "text/plain": [
       "6.0000600006215876e-05"
      ]
     },
     "execution_count": 12,
     "metadata": {},
     "output_type": "execute_result"
    }
   ],
   "source": [
    "N = 100000\n",
    "x = np.linspace(-3, 3, N)\n",
    "dx = np.diff(x)[0]\n",
    "dx"
   ]
  },
  {
   "cell_type": "code",
   "execution_count": 13,
   "id": "a2bb9f8f",
   "metadata": {},
   "outputs": [
    {
     "data": {
      "image/png": "[encoded data removed]",
      "text/plain": [
       "<Figure size 432x288 with 1 Axes>"
      ]
     },
     "metadata": {
      "needs_background": "light"
     },
     "output_type": "display_data"
    }
   ],
   "source": [
    "# Below gives  nonzero only inside the well, -1<x<1\n",
    "plt.plot(x, ((x >= -1)*(x <= 1) ).astype(float) )\n",
    "plt.show()"
   ]
  },
  {
   "cell_type": "code",
   "execution_count": 14,
   "id": "2860a903",
   "metadata": {},
   "outputs": [
    {
     "data": {
      "image/png": "[encoded data removed]",
      "text/plain": [
       "<Figure size 432x288 with 1 Axes>"
      ]
     },
     "metadata": {
      "needs_background": "light"
     },
     "output_type": "display_data"
    }
   ],
   "source": [
    "potential_diag = V0*((x >= -1)*(x <= 1) ).astype(float)\n",
    "plt.plot(x, potential_diag)\n",
    "plt.show()"
   ]
  },
  {
   "cell_type": "code",
   "execution_count": 15,
   "id": "ffe9ce54",
   "metadata": {},
   "outputs": [],
   "source": [
    "# Diagonal matrix elements\n",
    "main_diag = 2*np.ones(N)/dx**2 - V0*((x >= -1)*(x <= 1)).astype(float)\n",
    "\n",
    "# boundary condition ψ1 = ψN = 0 but those are not the position of the wall!\n",
    "main_diag[0] = -1/dx**2\n",
    "main_diag[-1] = -1/dx**2\n",
    "\n",
    "off_diag = - np.ones(N-1)/dx**2"
   ]
  },
  {
   "cell_type": "code",
   "execution_count": 16,
   "id": "1905f2f5",
   "metadata": {},
   "outputs": [],
   "source": [
    "# This method is valid only for tridiagonal matrix!!\n",
    "Es_method2, psis = eigh_tridiagonal(main_diag, off_diag, select = 'v', select_range = (-V0,0))"
   ]
  },
  {
   "cell_type": "code",
   "execution_count": 17,
   "id": "1df7b586",
   "metadata": {},
   "outputs": [
    {
     "data": {
      "image/png": "[encoded data removed]",
      "text/plain": [
       "<Figure size 432x216 with 1 Axes>"
      ]
     },
     "metadata": {
      "needs_background": "light"
     },
     "output_type": "display_data"
    }
   ],
   "source": [
    "# Don't forget to take transpose!\n",
    "\n",
    "plt.figure(figsize = (6, 3))\n",
    "for i in range(0,3):\n",
    "    plt.plot(x, np.abs(psis.T[i])**2)\n",
    "plt.xlabel('x/a')\n",
    "plt.show()"
   ]
  },
  {
   "cell_type": "code",
   "execution_count": 18,
   "id": "c0fe175d",
   "metadata": {},
   "outputs": [
    {
     "data": {
      "text/plain": [
       "array([-34.19173723, -28.82448397, -20.11396889,  -8.69047838])"
      ]
     },
     "execution_count": 18,
     "metadata": {},
     "output_type": "execute_result"
    }
   ],
   "source": [
    "Es_method2"
   ]
  },
  {
   "cell_type": "code",
   "execution_count": 19,
   "id": "288c0c14",
   "metadata": {},
   "outputs": [
    {
     "data": {
      "text/plain": [
       "array([-34.19152192, -28.82422824, -20.11322113,  -8.68922689])"
      ]
     },
     "execution_count": 19,
     "metadata": {},
     "output_type": "execute_result"
    }
   ],
   "source": [
    "Es_method1"
   ]
  },
  {
   "cell_type": "code",
   "execution_count": 20,
   "id": "545eead8",
   "metadata": {},
   "outputs": [
    {
     "data": {
      "text/plain": [
       "array([-0.00062972, -0.00088719, -0.00371766, -0.01440168])"
      ]
     },
     "execution_count": 20,
     "metadata": {},
     "output_type": "execute_result"
    }
   ],
   "source": [
    "errs = 100 * np.abs(Es_method1 - Es_method2)/(1/2 * (Es_method1+Es_method2))\n",
    "errs"
   ]
  },
  {
   "cell_type": "code",
   "execution_count": 21,
   "id": "82702ac2",
   "metadata": {},
   "outputs": [],
   "source": [
    "import numpy as np\n",
    "import matplotlib.pyplot as plt\n",
    "from scipy.linalg import eigh_tridiagonal\n",
    "from scipy.interpolate import interp1d\n",
    "from scipy.integrate import quad"
   ]
  },
  {
   "cell_type": "code",
   "execution_count": 22,
   "id": "f8d94407",
   "metadata": {},
   "outputs": [
    {
     "data": {
      "image/png": "[encoded data removed]",
      "text/plain": [
       "<Figure size 576x144 with 1 Axes>"
      ]
     },
     "metadata": {
      "needs_background": "light"
     },
     "output_type": "display_data"
    }
   ],
   "source": [
    "x = np.linspace(-5,5,1000)\n",
    "y = np.sum([-np.exp(-(x-a)**2/0.01) for a in range(-4,5)], axis = 0)\n",
    "plt.figure(figsize = (8, 2))\n",
    "plt.plot(x,y)\n",
    "plt.ylabel('$V(x)$')\n",
    "plt.xlabel('$x$')\n",
    "plt.show()"
   ]
  },
  {
   "cell_type": "code",
   "execution_count": 23,
   "id": "f9270549",
   "metadata": {},
   "outputs": [],
   "source": [
    "def solve_single_well(x, V, V0):\n",
    "    N = len(x)\n",
    "    dx = np.diff(x)[0]\n",
    "    main_diag = 2*np.ones(N)/dx**2 + V(x,V0)\n",
    "    off_diag = -np.ones(N-1)/dx**2\n",
    "    Es, psis = eigh_tridiagonal(main_diag, off_diag, select = 'v', select_range = (-V0,0))\n",
    "    psis = psis/np.sqrt((np.abs(psis)**2).sum(axis=0)*dx)\n",
    "    return Es, psis.T"
   ]
  },
  {
   "cell_type": "code",
   "execution_count": 24,
   "id": "f86c15e6",
   "metadata": {},
   "outputs": [],
   "source": [
    "'''Dimensionfull parameters'''\n",
    "V0 = 1 # eV\n",
    "hbar = 6.582112e-16 # eV s\n",
    "m = 0.510999e6/ (3e8)**2 # eV s^2 / m^2\n",
    "a = 0.35e-9 / 2 # m\n",
    "f = hbar**2 / (2*m*a**2)\n",
    "'''Dimensionless parameters'''\n",
    "V0 = V0 / f\n",
    "b = 3 * 2"
   ]
  },
  {
   "cell_type": "code",
   "execution_count": 25,
   "id": "f3e05a20",
   "metadata": {},
   "outputs": [],
   "source": [
    "example = 1\n",
    "N = 100000\n",
    "x = np.linspace(-15,15,N)\n",
    "\n",
    "if example == 1 or example == 2:\n",
    "    def V(x, V0):\n",
    "        return - V0*np.array((x >= -1)*(x <= 1), dtype = float)\n",
    "elif example == 3:\n",
    "    def V(x, V0):\n",
    "        return - V0*np.exp(-(3*x)**2)"
   ]
  },
  {
   "cell_type": "code",
   "execution_count": 26,
   "id": "4f3ca8b9",
   "metadata": {},
   "outputs": [
    {
     "data": {
      "image/png": "[encoded data removed]",
      "text/plain": [
       "<Figure size 432x216 with 1 Axes>"
      ]
     },
     "metadata": {
      "needs_background": "light"
     },
     "output_type": "display_data"
    }
   ],
   "source": [
    "plt.figure(figsize = (6,3))\n",
    "plt.plot(x, V(x, V0))\n",
    "plt.show()"
   ]
  },
  {
   "cell_type": "code",
   "execution_count": 27,
   "id": "77c45994",
   "metadata": {},
   "outputs": [],
   "source": [
    "Es, psis = solve_single_well(x, V, V0)"
   ]
  },
  {
   "cell_type": "code",
   "execution_count": 28,
   "id": "f8f2a8e8",
   "metadata": {},
   "outputs": [
    {
     "data": {
      "text/plain": [
       "array([-0.40575739])"
      ]
     },
     "execution_count": 28,
     "metadata": {},
     "output_type": "execute_result"
    }
   ],
   "source": [
    "f*Es"
   ]
  },
  {
   "cell_type": "code",
   "execution_count": 29,
   "id": "7f9e8dc1",
   "metadata": {},
   "outputs": [
    {
     "data": {
      "image/png": "[encoded data removed]",
      "text/plain": [
       "<Figure size 432x216 with 1 Axes>"
      ]
     },
     "metadata": {
      "needs_background": "light"
     },
     "output_type": "display_data"
    }
   ],
   "source": [
    "plt.figure(figsize = (6, 3))\n",
    "[plt.plot(x, psi) for psi in psis]\n",
    "plt.show()"
   ]
  },
  {
   "cell_type": "code",
   "execution_count": 30,
   "id": "3631d3a9",
   "metadata": {},
   "outputs": [],
   "source": [
    "# Let's interpolate here!!\n",
    "func = interp1d(x, psis[0], bounds_error = False, fill_value = (0,0)) \n",
    "# Those argumets take care of the values out of x!!"
   ]
  },
  {
   "cell_type": "code",
   "execution_count": 31,
   "id": "e81992d3",
   "metadata": {},
   "outputs": [],
   "source": [
    "# Interpolate all the psis\n",
    "psis_f = [interp1d(x, psi, bounds_error = False, fill_value=(0,0)) for psi in psis]"
   ]
  },
  {
   "cell_type": "code",
   "execution_count": 32,
   "id": "9751dba7",
   "metadata": {},
   "outputs": [
    {
     "data": {
      "text/plain": [
       "array(0.26258615)"
      ]
     },
     "execution_count": 32,
     "metadata": {},
     "output_type": "execute_result"
    }
   ],
   "source": [
    "psis_f[0](2)"
   ]
  },
  {
   "cell_type": "code",
   "execution_count": 33,
   "id": "b89f2e48",
   "metadata": {},
   "outputs": [
    {
     "data": {
      "image/png": "[encoded data removed]",
      "text/plain": [
       "<Figure size 432x288 with 1 Axes>"
      ]
     },
     "metadata": {
      "needs_background": "light"
     },
     "output_type": "display_data"
    }
   ],
   "source": [
    "plt.plot(x, V(x%5,1))\n",
    "plt.show()"
   ]
  },
  {
   "cell_type": "code",
   "execution_count": 34,
   "id": "4cfd25e7",
   "metadata": {},
   "outputs": [],
   "source": [
    "def Vp_f(x,b,V0): # b is the distance between atoms\n",
    "    return V((x + b/2)%b -b/2, V0) - V(x,V0)"
   ]
  },
  {
   "cell_type": "code",
   "execution_count": 35,
   "id": "dcd46958",
   "metadata": {},
   "outputs": [
    {
     "data": {
      "image/png": "[encoded data removed]",
      "text/plain": [
       "<Figure size 432x288 with 1 Axes>"
      ]
     },
     "metadata": {
      "needs_background": "light"
     },
     "output_type": "display_data"
    }
   ],
   "source": [
    "plt.plot(x, Vp_f(x,b,V0))\n",
    "plt.show()"
   ]
  },
  {
   "cell_type": "code",
   "execution_count": 36,
   "id": "bc3bf5a6",
   "metadata": {},
   "outputs": [
    {
     "data": {
      "image/png": "[encoded data removed]",
      "text/plain": [
       "<Figure size 432x216 with 1 Axes>"
      ]
     },
     "metadata": {
      "needs_background": "light"
     },
     "output_type": "display_data"
    }
   ],
   "source": [
    "x_large = np.linspace(-20,20,10000)\n",
    "plt.figure(figsize = (6,3))\n",
    "plt.plot(x_large, psis_f[0](x_large)**2)\n",
    "plt.plot(x_large, psis_f[0](x_large - b)**2)\n",
    "plt.plot(x_large, Vp_f(x_large, b, V0)/V0, color = 'red')\n",
    "plt.show()"
   ]
  },
  {
   "cell_type": "code",
   "execution_count": 37,
   "id": "4b658106",
   "metadata": {},
   "outputs": [],
   "source": [
    "def compute_integral(psis_f, Es, i1, i2, b, V0, n): # quad is the module for integration\n",
    "    return quad(lambda x: psis_f[i1](x)*psis_f[i2](x-n*b)*(Es[i1]+Vp_f(x,b,V0)), # This is the matrix elements!!\n",
    "            -20, 20, points = [n*b for n in range(-6, 6)], limit = 1000)[0]"
   ]
  },
  {
   "cell_type": "code",
   "execution_count": 38,
   "id": "2501a9d1",
   "metadata": {},
   "outputs": [
    {
     "data": {
      "text/plain": [
       "-0.09757420376480629"
      ]
     },
     "execution_count": 38,
     "metadata": {},
     "output_type": "execute_result"
    }
   ],
   "source": [
    "f*compute_integral(psis_f, Es, 0, 0, b = 6, V0 = V0, n = 1)"
   ]
  },
  {
   "cell_type": "code",
   "execution_count": 39,
   "id": "c4a2d902",
   "metadata": {},
   "outputs": [],
   "source": [
    "# Fill the Hamiltonian"
   ]
  },
  {
   "cell_type": "code",
   "execution_count": 40,
   "id": "2c9681d7",
   "metadata": {},
   "outputs": [],
   "source": [
    "N_wells = 20\n",
    "N_states = len(Es)\n",
    "H = np.zeros((N_wells*N_states, N_wells*N_states))"
   ]
  },
  {
   "cell_type": "code",
   "execution_count": 41,
   "id": "a573d3d6",
   "metadata": {},
   "outputs": [
    {
     "data": {
      "text/plain": [
       "array([[0., 0., 0., 0., 0., 0., 0., 0., 0., 0., 0., 0., 0., 0., 0., 0.,\n",
       "        0., 0., 0., 0.],\n",
       "       [0., 0., 0., 0., 0., 0., 0., 0., 0., 0., 0., 0., 0., 0., 0., 0.,\n",
       "        0., 0., 0., 0.],\n",
       "       [0., 0., 0., 0., 0., 0., 0., 0., 0., 0., 0., 0., 0., 0., 0., 0.,\n",
       "        0., 0., 0., 0.],\n",
       "       [0., 0., 0., 0., 0., 0., 0., 0., 0., 0., 0., 0., 0., 0., 0., 0.,\n",
       "        0., 0., 0., 0.],\n",
       "       [0., 0., 0., 0., 0., 0., 0., 0., 0., 0., 0., 0., 0., 0., 0., 0.,\n",
       "        0., 0., 0., 0.],\n",
       "       [0., 0., 0., 0., 0., 0., 0., 0., 0., 0., 0., 0., 0., 0., 0., 0.,\n",
       "        0., 0., 0., 0.],\n",
       "       [0., 0., 0., 0., 0., 0., 0., 0., 0., 0., 0., 0., 0., 0., 0., 0.,\n",
       "        0., 0., 0., 0.],\n",
       "       [0., 0., 0., 0., 0., 0., 0., 0., 0., 0., 0., 0., 0., 0., 0., 0.,\n",
       "        0., 0., 0., 0.],\n",
       "       [0., 0., 0., 0., 0., 0., 0., 0., 0., 0., 0., 0., 0., 0., 0., 0.,\n",
       "        0., 0., 0., 0.],\n",
       "       [0., 0., 0., 0., 0., 0., 0., 0., 0., 0., 0., 0., 0., 0., 0., 0.,\n",
       "        0., 0., 0., 0.],\n",
       "       [0., 0., 0., 0., 0., 0., 0., 0., 0., 0., 0., 0., 0., 0., 0., 0.,\n",
       "        0., 0., 0., 0.],\n",
       "       [0., 0., 0., 0., 0., 0., 0., 0., 0., 0., 0., 0., 0., 0., 0., 0.,\n",
       "        0., 0., 0., 0.],\n",
       "       [0., 0., 0., 0., 0., 0., 0., 0., 0., 0., 0., 0., 0., 0., 0., 0.,\n",
       "        0., 0., 0., 0.],\n",
       "       [0., 0., 0., 0., 0., 0., 0., 0., 0., 0., 0., 0., 0., 0., 0., 0.,\n",
       "        0., 0., 0., 0.],\n",
       "       [0., 0., 0., 0., 0., 0., 0., 0., 0., 0., 0., 0., 0., 0., 0., 0.,\n",
       "        0., 0., 0., 0.],\n",
       "       [0., 0., 0., 0., 0., 0., 0., 0., 0., 0., 0., 0., 0., 0., 0., 0.,\n",
       "        0., 0., 0., 0.],\n",
       "       [0., 0., 0., 0., 0., 0., 0., 0., 0., 0., 0., 0., 0., 0., 0., 0.,\n",
       "        0., 0., 0., 0.],\n",
       "       [0., 0., 0., 0., 0., 0., 0., 0., 0., 0., 0., 0., 0., 0., 0., 0.,\n",
       "        0., 0., 0., 0.],\n",
       "       [0., 0., 0., 0., 0., 0., 0., 0., 0., 0., 0., 0., 0., 0., 0., 0.,\n",
       "        0., 0., 0., 0.],\n",
       "       [0., 0., 0., 0., 0., 0., 0., 0., 0., 0., 0., 0., 0., 0., 0., 0.,\n",
       "        0., 0., 0., 0.]])"
      ]
     },
     "execution_count": 41,
     "metadata": {},
     "output_type": "execute_result"
    }
   ],
   "source": [
    "H"
   ]
  },
  {
   "cell_type": "code",
   "execution_count": 42,
   "id": "1118dab8",
   "metadata": {},
   "outputs": [],
   "source": [
    "# Fill off diagonal\n",
    "psis_tot = N_wells*psis_f #20個\n",
    "Es_tot = N_wells*list(Es)\n",
    "for i1 in range(H.shape[0]):\n",
    "    for i2 in range(i1, H.shape[0]):\n",
    "        well1_idx = i1//N_states # Those are the spacing of the atoms!! Important\n",
    "        well2_idx = i2//N_states #あとで使うかも # // is the floor division!\n",
    "        H[i1,i2] = compute_integral(psis_tot, Es_tot, i1, i2, b=b,V0=V0, n=well2_idx-well1_idx)\n",
    "        \n",
    "H += H.T"
   ]
  },
  {
   "cell_type": "code",
   "execution_count": 43,
   "id": "3c39273f",
   "metadata": {},
   "outputs": [],
   "source": [
    "# Fill main diagonal\n",
    "main_diag = np.array(list(Es)*N_wells)\n",
    "H[np.diag_indices(H.shape[0])] = main_diag"
   ]
  },
  {
   "cell_type": "code",
   "execution_count": 44,
   "id": "364237eb",
   "metadata": {},
   "outputs": [
    {
     "data": {
      "image/png": "[encoded data removed]",
      "text/plain": [
       "<Figure size 432x288 with 2 Axes>"
      ]
     },
     "metadata": {
      "needs_background": "light"
     },
     "output_type": "display_data"
    }
   ],
   "source": [
    "plt.imshow(H, cmap = 'Greys')\n",
    "plt.colorbar()\n",
    "plt.show()"
   ]
  },
  {
   "cell_type": "code",
   "execution_count": 45,
   "id": "5e62731a",
   "metadata": {},
   "outputs": [],
   "source": [
    "eigenenergies , eigenvectors = np.linalg.eigh(H)"
   ]
  },
  {
   "cell_type": "code",
   "execution_count": 46,
   "id": "3342c0f8",
   "metadata": {},
   "outputs": [
    {
     "data": {
      "image/png": "[encoded data removed]",
      "text/plain": [
       "<Figure size 144x288 with 1 Axes>"
      ]
     },
     "metadata": {
      "needs_background": "light"
     },
     "output_type": "display_data"
    }
   ],
   "source": [
    "plt.figure(figsize = (2, 4))\n",
    "plt.eventplot(f*eigenenergies, orientation = 'vertical', colors = 'r', linewidth = 0.5)\n",
    "# This is the plot for the enegy levels!!\n",
    "#Those are the energy descrietiesed bands\n",
    "plt.show()"
   ]
  },
  {
   "cell_type": "code",
   "execution_count": null,
   "id": "a0049f8f",
   "metadata": {},
   "outputs": [],
   "source": []
  }
 ],
 "metadata": {
  "kernelspec": {
   "display_name": "Python 3",
   "language": "python",
   "name": "python3"
  },
  "language_info": {
   "codemirror_mode": {
    "name": "ipython",
    "version": 3
   },
   "file_extension": ".py",
   "mimetype": "text/x-python",
   "name": "python",
   "nbconvert_exporter": "python",
   "pygments_lexer": "ipython3",
   "version": "3.8.8"
  }
 },
 "nbformat": 4,
 "nbformat_minor": 5
}
