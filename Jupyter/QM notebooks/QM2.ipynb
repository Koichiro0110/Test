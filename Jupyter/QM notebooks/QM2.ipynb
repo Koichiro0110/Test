{
 "cells": [
  {
   "cell_type": "code",
   "execution_count": 1,
   "id": "d0a58df3",
   "metadata": {},
   "outputs": [],
   "source": [
    "%matplotlib inline\n",
    "import numpy as np\n",
    "import scipy.integrate as integrate\n",
    "import matplotlib.pyplot as plt"
   ]
  },
  {
   "cell_type": "code",
   "execution_count": 2,
   "id": "5f220dfb",
   "metadata": {},
   "outputs": [],
   "source": [
    "# An example of initial condition, the norm is the normalization factor.\n",
    "def f_slow(x, a):\n",
    "    norm = np.sqrt(12/(a*a*a))\n",
    "    if x < a/2:\n",
    "        return (norm*x)\n",
    "    else:\n",
    "        return (norm*(a-x))"
   ]
  },
  {
   "cell_type": "code",
   "execution_count": 3,
   "id": "20413aeb",
   "metadata": {},
   "outputs": [
    {
     "name": "stdout",
     "output_type": "stream",
     "text": [
      "0.0 0.3286335345030997 0.5477225575051661 0.3286335345030997 0.0\n"
     ]
    }
   ],
   "source": [
    "print(f_slow(0, 10), f_slow(3, 10), f_slow(5, 10), f_slow(7, 10), f_slow(10, 10))"
   ]
  },
  {
   "cell_type": "code",
   "execution_count": 4,
   "id": "aaf2aa7c",
   "metadata": {},
   "outputs": [],
   "source": [
    "# lambdaは無名関数を表す\n",
    "# np.piecewiseによってfunctionをarrayとして扱うことが出来る！\n",
    "def f(x, a):\n",
    "    norm = np.sqrt(12/(a*a*a))\n",
    "    return (np.piecewise(x, [x<a/2, x>=a/2],\n",
    "                         [lambda x: norm*x ,\n",
    "                          lambda x: norm*(a-x)]))"
   ]
  },
  {
   "cell_type": "code",
   "execution_count": 5,
   "id": "cad4e57e",
   "metadata": {},
   "outputs": [
    {
     "name": "stdout",
     "output_type": "stream",
     "text": [
      "[0.         0.32863353 0.54772256 0.32863353 0.        ]\n"
     ]
    }
   ],
   "source": [
    "print(f(np.array([0,3,5,7,10], dtype = float), 10)) # dtypeで出力の型を指定している"
   ]
  },
  {
   "cell_type": "code",
   "execution_count": 6,
   "id": "1754f471",
   "metadata": {},
   "outputs": [],
   "source": [
    "#the TISE solutions\n",
    "def psi_n(x, n, a):\n",
    "    return (np.sqrt(2/a)*np.sin(n*x*np.pi/a))"
   ]
  },
  {
   "cell_type": "code",
   "execution_count": 7,
   "id": "9f02ccf6",
   "metadata": {},
   "outputs": [],
   "source": [
    "# Here is an alternate initial function, which gives nice oscillatory behavious, see HW2\n",
    "# def f(x, a):\n",
    "#    norm = 1/np.sqrt(2)\n",
    "#    return (norm*(psi_n(x, 1, a) + psi_n(x, 2, a)))"
   ]
  },
  {
   "cell_type": "code",
   "execution_count": 8,
   "id": "f830f3a1",
   "metadata": {},
   "outputs": [
    {
     "data": {
      "image/png": "[encoded data removed]",
      "text/plain": [
       "<Figure size 720x576 with 1 Axes>"
      ]
     },
     "metadata": {
      "needs_background": "light"
     },
     "output_type": "display_data"
    }
   ],
   "source": [
    "# a=10で初期条件をプロット\n",
    "fig0 = plt.figure(figsize = (10, 8))\n",
    "x_r = np.arange(0, 10, 0.01)\n",
    "p0 = plt.plot(x_r, f(x_r, 10))"
   ]
  },
  {
   "cell_type": "code",
   "execution_count": 9,
   "id": "77144d68",
   "metadata": {},
   "outputs": [],
   "source": [
    "# c_nを積分によって計算\n",
    "def int_fun(x, n, a):\n",
    "    return (f(x, a)*psi_n(x, n, a))\n",
    "\n",
    "# n%2 == 0 → integral is gonna be 0 because of the f*sin function(symmetric for x = a/2)\n",
    "def c(n, a):\n",
    "    if n == 0 or n%2 == 0: # If we know the even n are zero add:\"or n%2 == 0\" %は余を計算する演算子\n",
    "        return(0)\n",
    "    return (integrate.quad(int_fun, 0, a, args = (n, a), limit = 100)[0])"
   ]
  },
  {
   "cell_type": "code",
   "execution_count": 10,
   "id": "64202cd4",
   "metadata": {},
   "outputs": [],
   "source": [
    "Nmax = 40 # cutoff for the c_n series. Higher = slower, more accurate sin(n*x)は積分するとnに反比例"
   ]
  },
  {
   "cell_type": "code",
   "execution_count": 11,
   "id": "d06fcb11",
   "metadata": {},
   "outputs": [
    {
     "name": "stdout",
     "output_type": "stream",
     "text": [
      "0.0 0.9927408002342286 0.0 -0.11030453335935886 0.0\n",
      "0.9999974367055641 -0.0006526895465042738\n"
     ]
    }
   ],
   "source": [
    "a_1 = 10 # Width of the well\n",
    "a_step = 10/100\n",
    "n1 = np.array(range(Nmax)) #rangeはNmaxまでの整数を並べる\n",
    "cx = np.array([c(n, a_1) for n in n1]) #n1と同じ大きさのc_nの配列を作成\n",
    "print(cx[0], cx[1], cx[2], cx[3], cx[4])\n",
    "print(np.sum(cx*cx), cx[Nmax-1]) #(規格化の確認, 最後の方の項が小さいことの確認)"
   ]
  },
  {
   "cell_type": "code",
   "execution_count": 13,
   "id": "cf7d1931",
   "metadata": {},
   "outputs": [],
   "source": [
    "def E(n, a):\n",
    "    return (n*n*np.pi*np.pi/(2*a*a)) # We set m = hbar = 1\n",
    "\n",
    "def psi_f(x, t, a):\n",
    "    norm = np.sqrt(2/a)\n",
    "    out = 0\n",
    "    n_r = np.array(range(Nmax))\n",
    "    out = cx*norm*np.sin(x*n_r*np.pi/a)*np.exp(-1j*E(n_r, a)*t)\n",
    "    s = np.sum(out)\n",
    "    return(s)"
   ]
  },
  {
   "cell_type": "code",
   "execution_count": null,
   "id": "ac197900",
   "metadata": {},
   "outputs": [],
   "source": []
  },
  {
   "cell_type": "code",
   "execution_count": null,
   "id": "24812801",
   "metadata": {},
   "outputs": [],
   "source": []
  },
  {
   "cell_type": "code",
   "execution_count": null,
   "id": "918dee37",
   "metadata": {},
   "outputs": [],
   "source": []
  },
  {
   "cell_type": "code",
   "execution_count": null,
   "id": "d5abc3c9",
   "metadata": {},
   "outputs": [],
   "source": []
  },
  {
   "cell_type": "code",
   "execution_count": null,
   "id": "782f0588",
   "metadata": {},
   "outputs": [],
   "source": []
  },
  {
   "cell_type": "code",
   "execution_count": null,
   "id": "f006f7cb",
   "metadata": {},
   "outputs": [],
   "source": []
  },
  {
   "cell_type": "code",
   "execution_count": null,
   "id": "9cb167ee",
   "metadata": {},
   "outputs": [],
   "source": []
  }
 ],
 "metadata": {
  "kernelspec": {
   "display_name": "Python 3",
   "language": "python",
   "name": "python3"
  },
  "language_info": {
   "codemirror_mode": {
    "name": "ipython",
    "version": 3
   },
   "file_extension": ".py",
   "mimetype": "text/x-python",
   "name": "python",
   "nbconvert_exporter": "python",
   "pygments_lexer": "ipython3",
   "version": "3.8.8"
  }
 },
 "nbformat": 4,
 "nbformat_minor": 5
}
