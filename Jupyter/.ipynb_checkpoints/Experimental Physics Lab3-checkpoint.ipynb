{
 "cells": [
  {
   "cell_type": "code",
   "execution_count": null,
   "id": "d7c3bfbd",
   "metadata": {},
   "outputs": [],
   "source": [
    "%matplotlib inline\n",
    "import numpy as np\n",
    "import pandas as pd\n",
    "import matplotlib.pyplot as plt"
   ]
  },
  {
   "cell_type": "code",
   "execution_count": null,
   "id": "31d199a1",
   "metadata": {},
   "outputs": [],
   "source": [
    "# Read the data\n",
    "SmallSignalDiode1N4148 = pd.read_csv(\"1N4148 Small Signal Diode u1.csv\", comment = \"#\")\n",
    "SmallSignalDiode1N4148.columns = [\"Time\",\"Voltage\", \"Current\"]\n",
    "Zener = pd.read_csv(\"Zener u2.csv\", comment = \"#\")\n",
    "Zener.columns = [\"Time\",\"Voltage\",\"Current\"]\n",
    "\n",
    "# Now plot the data\n",
    "fig = plt.figure(figsize=(9,7))\n",
    "plt.plot(SmallSignalDiode1N4148[\"Voltage\"],SmallSignalDiode1N4148[\"Current\"]*10**3, label = \"1N4148\")\n",
    "plt.plot(Zener[\"Voltage\"],Zener[\"Current\"]*10**3, label = \"Zener\")\n",
    "\n",
    "# Set the axes\n",
    "plt.xlabel(\"Voltage [V]\")\n",
    "plt.ylabel(\"Current [mA]\")\n",
    "plt.title(\"I-V curves for 1N4148 Small Signal Diode and Zener Diode\")\n",
    "plt.legend()"
   ]
  },
  {
   "cell_type": "code",
   "execution_count": null,
   "id": "3c0c972d",
   "metadata": {},
   "outputs": [],
   "source": []
  },
  {
   "cell_type": "code",
   "execution_count": null,
   "id": "2d97829b",
   "metadata": {},
   "outputs": [],
   "source": []
  },
  {
   "cell_type": "code",
   "execution_count": null,
   "id": "d982e2b0",
   "metadata": {},
   "outputs": [],
   "source": []
  },
  {
   "cell_type": "code",
   "execution_count": null,
   "id": "9cf0c933",
   "metadata": {},
   "outputs": [],
   "source": []
  },
  {
   "cell_type": "code",
   "execution_count": null,
   "id": "7c188301",
   "metadata": {},
   "outputs": [],
   "source": []
  },
  {
   "cell_type": "code",
   "execution_count": null,
   "id": "d4d1819d",
   "metadata": {},
   "outputs": [],
   "source": []
  }
 ],
 "metadata": {
  "kernelspec": {
   "display_name": "Python 3",
   "language": "python",
   "name": "python3"
  },
  "language_info": {
   "codemirror_mode": {
    "name": "ipython",
    "version": 3
   },
   "file_extension": ".py",
   "mimetype": "text/x-python",
   "name": "python",
   "nbconvert_exporter": "python",
   "pygments_lexer": "ipython3",
   "version": "3.8.8"
  }
 },
 "nbformat": 4,
 "nbformat_minor": 5
}
