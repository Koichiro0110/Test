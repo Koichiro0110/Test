{
 "cells": [
  {
   "cell_type": "code",
   "execution_count": 1,
   "id": "ee1230d2",
   "metadata": {},
   "outputs": [],
   "source": [
    "%matplotlib inline\n",
    "import numpy as np\n",
    "import matplotlib.pyplot as plt\n",
    "import scipy.linalg as scl"
   ]
  },
  {
   "cell_type": "code",
   "execution_count": 2,
   "id": "f74b4a83",
   "metadata": {},
   "outputs": [],
   "source": [
    "W = np.array([[5/4,-1/4,-1,0,-1/4,1/4],\n",
    "                 [-1/4,1/4,0,0,1/4,-1/4],\n",
    "                 [-1/8,0,1/8,0,0,0],\n",
    "                 [0,0,0,1/8,0,-1/8],\n",
    "                 [-1/4,1/4,0,0,1/4,-1/4],\n",
    "                 [1/4,-1/4,0,-1,-1/4,5/4]])"
   ]
  },
  {
   "cell_type": "code",
   "execution_count": 3,
   "id": "1bc3377b",
   "metadata": {},
   "outputs": [
    {
     "name": "stdout",
     "output_type": "stream",
     "text": [
      "[[ 1.25  -0.25  -1.     0.    -0.25   0.25 ]\n",
      " [-0.25   0.25   0.     0.     0.25  -0.25 ]\n",
      " [-0.125  0.     0.125  0.     0.     0.   ]\n",
      " [ 0.     0.     0.     0.125  0.    -0.125]\n",
      " [-0.25   0.25   0.     0.     0.25  -0.25 ]\n",
      " [ 0.25  -0.25   0.    -1.    -0.25   1.25 ]]\n"
     ]
    }
   ],
   "source": [
    "print(W)"
   ]
  },
  {
   "cell_type": "code",
   "execution_count": 4,
   "id": "451ab87a",
   "metadata": {},
   "outputs": [],
   "source": [
    "eigenvalues, eigenvectors = np.linalg.eig(W)\n",
    "eigenvectorsT = np.transpose(eigenvectors)"
   ]
  },
  {
   "cell_type": "code",
   "execution_count": 5,
   "id": "84da0a38",
   "metadata": {},
   "outputs": [
    {
     "name": "stdout",
     "output_type": "stream",
     "text": [
      "[ 1.77236354e+00  1.12500000e+00  2.57703679e-17  3.52636457e-01\n",
      " -2.23214068e-17 -2.23214068e-17]\n"
     ]
    }
   ],
   "source": [
    "#print(eigenvalues)\n",
    "print(np.real(eigenvalues))"
   ]
  },
  {
   "cell_type": "code",
   "execution_count": 6,
   "id": "cda9f3b8",
   "metadata": {},
   "outputs": [
    {
     "data": {
      "image/png": "[encoded data removed]",
      "text/plain": [
       "<Figure size 648x504 with 1 Axes>"
      ]
     },
     "metadata": {
      "needs_background": "light"
     },
     "output_type": "display_data"
    }
   ],
   "source": [
    "fig = plt.figure(figsize=(9,7))\n",
    "axes = fig.add_axes([0, 0, 1, 1])\n",
    "\n",
    "axes.set_ylabel('Eigenvalues', fontsize = 16)\n",
    "x = np.linspace(-1,1,100)\n",
    "\n",
    "for n in range(len(eigenvalues)):\n",
    "    y = np.real(eigenvalues[n])*x/x\n",
    "    axes.plot(x,y, label = f\"$\\lambda_{n+1}$\")\n",
    "\n",
    "plt.legend()\n",
    "plt.show()"
   ]
  },
  {
   "cell_type": "code",
   "execution_count": 7,
   "id": "4f712838",
   "metadata": {},
   "outputs": [
    {
     "name": "stdout",
     "output_type": "stream",
     "text": [
      "[1.33130145 1.06066017 0.59383201]\n"
     ]
    }
   ],
   "source": [
    "frequencies = np.sqrt(np.real([eigenvalues[0],eigenvalues[1],eigenvalues[3]]))\n",
    "print(frequencies)"
   ]
  },
  {
   "cell_type": "code",
   "execution_count": 8,
   "id": "09761f17",
   "metadata": {},
   "outputs": [
    {
     "name": "stdout",
     "output_type": "stream",
     "text": [
      "v_1 =  [ 0.6564805  -0.25797678 -0.04981297 -0.04981297 -0.25797678  0.6564805 ]\n",
      "v_2 =  [-7.01646415e-01  4.61250253e-16  8.77058019e-02 -8.77058019e-02\n",
      "  2.42012814e-16  7.01646415e-01]\n",
      "v_3 =  [ 0.63831748  0.30236091  0.63831748 -0.03359566  0.30236091 -0.03359566]\n",
      "v_4 =  [-0.19753609 -0.6702339   0.10847125  0.10847125 -0.6702339  -0.19753609]\n",
      "v_5 =  [ 0.58241372  0.10086483  0.58241372 -0.37306907  0.10847983 -0.37306907]\n",
      "v_6 =  [ 0.58241372  0.10086483  0.58241372 -0.37306907  0.10847983 -0.37306907]\n"
     ]
    }
   ],
   "source": [
    "for n in range(6):       \n",
    "        print(\"v_\"+str(n+1)+\" = \",np.real(eigenvectorsT[n]))"
   ]
  },
  {
   "cell_type": "code",
   "execution_count": 9,
   "id": "cdae6e59",
   "metadata": {},
   "outputs": [
    {
     "name": "stdout",
     "output_type": "stream",
     "text": [
      "1.000000000+0.000000000j\n",
      "1.000000000+0.000000000j\n",
      "1.000000000+0.000000000j\n",
      "1.000000000+0.000000000j\n",
      "0.957428266-0.047789057j\n",
      "0.957428266+0.047789057j\n"
     ]
    }
   ],
   "source": [
    "#They are already normalized\n",
    "for j in range(6):\n",
    "        print(f\"{np.sum(eigenvectorsT[j]*eigenvectorsT[j]) :16.9f}\")"
   ]
  }
 ],
 "metadata": {
  "kernelspec": {
   "display_name": "Python 3",
   "language": "python",
   "name": "python3"
  },
  "language_info": {
   "codemirror_mode": {
    "name": "ipython",
    "version": 3
   },
   "file_extension": ".py",
   "mimetype": "text/x-python",
   "name": "python",
   "nbconvert_exporter": "python",
   "pygments_lexer": "ipython3",
   "version": "3.8.8"
  }
 },
 "nbformat": 4,
 "nbformat_minor": 5
}
