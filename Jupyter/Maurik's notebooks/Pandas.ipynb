{
 "cells": [
  {
   "cell_type": "code",
   "execution_count": 1,
   "id": "4a9ed6c9",
   "metadata": {},
   "outputs": [
    {
     "name": "stdout",
     "output_type": "stream",
     "text": [
      "Pandas version:  1.2.4\n"
     ]
    }
   ],
   "source": [
    "import numpy as np\n",
    "import pandas as pd\n",
    "print(\"Pandas version: \",pd.__version__)"
   ]
  },
  {
   "cell_type": "code",
   "execution_count": 2,
   "id": "2423aa9a",
   "metadata": {
    "scrolled": true
   },
   "outputs": [
    {
     "data": {
      "text/html": [
       "<div>\n",
       "<style scoped>\n",
       "    .dataframe tbody tr th:only-of-type {\n",
       "        vertical-align: middle;\n",
       "    }\n",
       "\n",
       "    .dataframe tbody tr th {\n",
       "        vertical-align: top;\n",
       "    }\n",
       "\n",
       "    .dataframe thead th {\n",
       "        text-align: right;\n",
       "    }\n",
       "</style>\n",
       "<table border=\"1\" class=\"dataframe\">\n",
       "  <thead>\n",
       "    <tr style=\"text-align: right;\">\n",
       "      <th></th>\n",
       "      <th>A</th>\n",
       "      <th>B</th>\n",
       "      <th>C</th>\n",
       "      <th>D</th>\n",
       "    </tr>\n",
       "  </thead>\n",
       "  <tbody>\n",
       "    <tr>\n",
       "      <th>2022-01-01</th>\n",
       "      <td>0.302533</td>\n",
       "      <td>-1.206250</td>\n",
       "      <td>-1.174660</td>\n",
       "      <td>-0.538171</td>\n",
       "    </tr>\n",
       "    <tr>\n",
       "      <th>2022-01-02</th>\n",
       "      <td>0.599537</td>\n",
       "      <td>0.625570</td>\n",
       "      <td>-0.547953</td>\n",
       "      <td>-1.293615</td>\n",
       "    </tr>\n",
       "    <tr>\n",
       "      <th>2022-01-03</th>\n",
       "      <td>-0.681080</td>\n",
       "      <td>-1.743225</td>\n",
       "      <td>0.149357</td>\n",
       "      <td>-0.514365</td>\n",
       "    </tr>\n",
       "    <tr>\n",
       "      <th>2022-01-04</th>\n",
       "      <td>1.040755</td>\n",
       "      <td>-0.782214</td>\n",
       "      <td>-1.309875</td>\n",
       "      <td>-0.423339</td>\n",
       "    </tr>\n",
       "    <tr>\n",
       "      <th>2022-01-05</th>\n",
       "      <td>-0.688116</td>\n",
       "      <td>-0.553966</td>\n",
       "      <td>-1.248566</td>\n",
       "      <td>0.178650</td>\n",
       "    </tr>\n",
       "  </tbody>\n",
       "</table>\n",
       "</div>"
      ],
      "text/plain": [
       "                   A         B         C         D\n",
       "2022-01-01  0.302533 -1.206250 -1.174660 -0.538171\n",
       "2022-01-02  0.599537  0.625570 -0.547953 -1.293615\n",
       "2022-01-03 -0.681080 -1.743225  0.149357 -0.514365\n",
       "2022-01-04  1.040755 -0.782214 -1.309875 -0.423339\n",
       "2022-01-05 -0.688116 -0.553966 -1.248566  0.178650"
      ]
     },
     "execution_count": 2,
     "metadata": {},
     "output_type": "execute_result"
    }
   ],
   "source": [
    "#データの作成\n",
    "dates = pd.date_range(\"20220101\", periods = 7)\n",
    "\n",
    "#DataFrameの作成\n",
    "#np.random.randn は平均０、標準偏差１の乱数に従う乱数を返す。(a, b)はa×bのarrayということ\n",
    "df = pd.DataFrame(np.random.randn(7, 4), index = dates, columns = list('ABCD'))\n",
    "\n",
    "#df.head()は最初の5列だけ表示する！\n",
    "df.head()"
   ]
  },
  {
   "cell_type": "code",
   "execution_count": 3,
   "id": "5d862812",
   "metadata": {},
   "outputs": [
    {
     "name": "stdout",
     "output_type": "stream",
     "text": [
      "                   A         B         C         D\n",
      "2022-01-01  0.302533 -1.206250 -1.174660 -0.538171\n",
      "2022-01-02  0.599537  0.625570 -0.547953 -1.293615\n",
      "2022-01-03 -0.681080 -1.743225  0.149357 -0.514365\n",
      "2022-01-04  1.040755 -0.782214 -1.309875 -0.423339\n",
      "2022-01-05 -0.688116 -0.553966 -1.248566  0.178650\n"
     ]
    }
   ],
   "source": [
    "#表示のされ方が異なる。not fancy\n",
    "print(df.head())"
   ]
  },
  {
   "cell_type": "code",
   "execution_count": 4,
   "id": "5adfe013",
   "metadata": {},
   "outputs": [
    {
     "name": "stdout",
     "output_type": "stream",
     "text": [
      "                   A         B         C         D\n",
      "2022-01-01  0.302533 -1.206250 -1.174660 -0.538171\n",
      "2022-01-02  0.599537  0.625570 -0.547953 -1.293615\n",
      "2022-01-03 -0.681080 -1.743225  0.149357 -0.514365\n",
      "2022-01-04  1.040755 -0.782214 -1.309875 -0.423339\n",
      "2022-01-05 -0.688116 -0.553966 -1.248566  0.178650\n",
      "2022-01-06  1.209712 -0.851000 -0.653363 -0.757338\n",
      "2022-01-07  0.324251  0.776676 -0.426766  1.050436\n",
      "This was a table printed dirrectly, as it will look in a terminal.\n"
     ]
    }
   ],
   "source": [
    "#print(df)は全部表示する。\n",
    "print(df)\n",
    "print(\"This was a table printed dirrectly, as it will look in a terminal.\")"
   ]
  },
  {
   "cell_type": "code",
   "execution_count": 5,
   "id": "09c91ce3",
   "metadata": {},
   "outputs": [
    {
     "data": {
      "text/html": [
       "<table border=\"1\" class=\"dataframe\">\n",
       "  <thead>\n",
       "    <tr style=\"text-align: right;\">\n",
       "      <th></th>\n",
       "      <th>A</th>\n",
       "      <th>B</th>\n",
       "      <th>C</th>\n",
       "      <th>D</th>\n",
       "    </tr>\n",
       "  </thead>\n",
       "  <tbody>\n",
       "    <tr>\n",
       "      <th>2022-01-01</th>\n",
       "      <td>0.302533</td>\n",
       "      <td>-1.206250</td>\n",
       "      <td>-1.174660</td>\n",
       "      <td>-0.538171</td>\n",
       "    </tr>\n",
       "    <tr>\n",
       "      <th>2022-01-02</th>\n",
       "      <td>0.599537</td>\n",
       "      <td>0.625570</td>\n",
       "      <td>-0.547953</td>\n",
       "      <td>-1.293615</td>\n",
       "    </tr>\n",
       "    <tr>\n",
       "      <th>2022-01-03</th>\n",
       "      <td>-0.681080</td>\n",
       "      <td>-1.743225</td>\n",
       "      <td>0.149357</td>\n",
       "      <td>-0.514365</td>\n",
       "    </tr>\n",
       "    <tr>\n",
       "      <th>2022-01-04</th>\n",
       "      <td>1.040755</td>\n",
       "      <td>-0.782214</td>\n",
       "      <td>-1.309875</td>\n",
       "      <td>-0.423339</td>\n",
       "    </tr>\n",
       "    <tr>\n",
       "      <th>2022-01-05</th>\n",
       "      <td>-0.688116</td>\n",
       "      <td>-0.553966</td>\n",
       "      <td>-1.248566</td>\n",
       "      <td>0.178650</td>\n",
       "    </tr>\n",
       "    <tr>\n",
       "      <th>2022-01-06</th>\n",
       "      <td>1.209712</td>\n",
       "      <td>-0.851000</td>\n",
       "      <td>-0.653363</td>\n",
       "      <td>-0.757338</td>\n",
       "    </tr>\n",
       "    <tr>\n",
       "      <th>2022-01-07</th>\n",
       "      <td>0.324251</td>\n",
       "      <td>0.776676</td>\n",
       "      <td>-0.426766</td>\n",
       "      <td>1.050436</td>\n",
       "    </tr>\n",
       "  </tbody>\n",
       "</table>"
      ],
      "text/plain": [
       "<IPython.core.display.HTML object>"
      ]
     },
     "metadata": {},
     "output_type": "display_data"
    },
    {
     "name": "stdout",
     "output_type": "stream",
     "text": [
      "This is the pretty table again, displayed in a different way.\n"
     ]
    }
   ],
   "source": [
    "# Print fancy. Printing this way allows statements to appear after the table.\n",
    "from IPython.display import display, HTML\n",
    "display(HTML(df.to_html()))\n",
    "print(\"This is the pretty table again, displayed in a different way.\")"
   ]
  },
  {
   "cell_type": "code",
   "execution_count": 6,
   "id": "267309e8",
   "metadata": {},
   "outputs": [
    {
     "data": {
      "text/html": [
       "<div>\n",
       "<style scoped>\n",
       "    .dataframe tbody tr th:only-of-type {\n",
       "        vertical-align: middle;\n",
       "    }\n",
       "\n",
       "    .dataframe tbody tr th {\n",
       "        vertical-align: top;\n",
       "    }\n",
       "\n",
       "    .dataframe thead th {\n",
       "        text-align: right;\n",
       "    }\n",
       "</style>\n",
       "<table border=\"1\" class=\"dataframe\">\n",
       "  <thead>\n",
       "    <tr style=\"text-align: right;\">\n",
       "      <th></th>\n",
       "      <th>A</th>\n",
       "      <th>B</th>\n",
       "      <th>C</th>\n",
       "      <th>D</th>\n",
       "    </tr>\n",
       "  </thead>\n",
       "  <tbody>\n",
       "    <tr>\n",
       "      <th>2022-01-01</th>\n",
       "      <td>0.302533</td>\n",
       "      <td>-1.206250</td>\n",
       "      <td>-1.174660</td>\n",
       "      <td>-0.538171</td>\n",
       "    </tr>\n",
       "    <tr>\n",
       "      <th>2022-01-02</th>\n",
       "      <td>0.599537</td>\n",
       "      <td>0.625570</td>\n",
       "      <td>-0.547953</td>\n",
       "      <td>-1.293615</td>\n",
       "    </tr>\n",
       "    <tr>\n",
       "      <th>2022-01-03</th>\n",
       "      <td>-0.681080</td>\n",
       "      <td>-1.743225</td>\n",
       "      <td>0.149357</td>\n",
       "      <td>-0.514365</td>\n",
       "    </tr>\n",
       "    <tr>\n",
       "      <th>2022-01-04</th>\n",
       "      <td>1.040755</td>\n",
       "      <td>-0.782214</td>\n",
       "      <td>-1.309875</td>\n",
       "      <td>-0.423339</td>\n",
       "    </tr>\n",
       "    <tr>\n",
       "      <th>2022-01-05</th>\n",
       "      <td>-0.688116</td>\n",
       "      <td>-0.553966</td>\n",
       "      <td>-1.248566</td>\n",
       "      <td>0.178650</td>\n",
       "    </tr>\n",
       "    <tr>\n",
       "      <th>2022-01-06</th>\n",
       "      <td>1.209712</td>\n",
       "      <td>-0.851000</td>\n",
       "      <td>-0.653363</td>\n",
       "      <td>-0.757338</td>\n",
       "    </tr>\n",
       "    <tr>\n",
       "      <th>2022-01-07</th>\n",
       "      <td>0.324251</td>\n",
       "      <td>0.776676</td>\n",
       "      <td>-0.426766</td>\n",
       "      <td>1.050436</td>\n",
       "    </tr>\n",
       "  </tbody>\n",
       "</table>\n",
       "</div>"
      ],
      "text/plain": [
       "                   A         B         C         D\n",
       "2022-01-01  0.302533 -1.206250 -1.174660 -0.538171\n",
       "2022-01-02  0.599537  0.625570 -0.547953 -1.293615\n",
       "2022-01-03 -0.681080 -1.743225  0.149357 -0.514365\n",
       "2022-01-04  1.040755 -0.782214 -1.309875 -0.423339\n",
       "2022-01-05 -0.688116 -0.553966 -1.248566  0.178650\n",
       "2022-01-06  1.209712 -0.851000 -0.653363 -0.757338\n",
       "2022-01-07  0.324251  0.776676 -0.426766  1.050436"
      ]
     },
     "execution_count": 6,
     "metadata": {},
     "output_type": "execute_result"
    }
   ],
   "source": [
    "#Or just have the table be the last item on the cell, which will also give a\n",
    "#formatted view if used in a notebook.\n",
    "df"
   ]
  },
  {
   "cell_type": "code",
   "execution_count": 7,
   "id": "7a0c537c",
   "metadata": {},
   "outputs": [
    {
     "name": "stdout",
     "output_type": "stream",
     "text": [
      "DatetimeIndex(['2022-01-01', '2022-01-02', '2022-01-03', '2022-01-04',\n",
      "               '2022-01-05', '2022-01-06', '2022-01-07'],\n",
      "              dtype='datetime64[ns]', freq='D')\n",
      "Index(['A', 'B', 'C', 'D'], dtype='object')\n"
     ]
    }
   ],
   "source": [
    "#行名を表示\n",
    "print(df.index)\n",
    "\n",
    "#列名を表示\n",
    "print(df.columns)"
   ]
  },
  {
   "cell_type": "code",
   "execution_count": 8,
   "id": "8c6edb62",
   "metadata": {},
   "outputs": [
    {
     "data": {
      "text/plain": [
       "2022-01-01    0.302533\n",
       "2022-01-02    0.599537\n",
       "2022-01-03   -0.681080\n",
       "2022-01-04    1.040755\n",
       "2022-01-05   -0.688116\n",
       "2022-01-06    1.209712\n",
       "2022-01-07    0.324251\n",
       "Freq: D, Name: A, dtype: float64"
      ]
     },
     "execution_count": 8,
     "metadata": {},
     "output_type": "execute_result"
    }
   ],
   "source": [
    "#一列分全てを取得したいとき\n",
    "df[\"A\"]\n",
    "\n",
    "#１列の時はpandas.Seriesの扱いになる。\n",
    "#この場合.to_html()が使えない\n",
    "\n",
    "# df[[\"A\"]]とすればpandas.DataFrame扱いになる。"
   ]
  },
  {
   "cell_type": "code",
   "execution_count": 9,
   "id": "4599efeb",
   "metadata": {},
   "outputs": [
    {
     "data": {
      "text/html": [
       "<table border=\"1\" class=\"dataframe\">\n",
       "  <thead>\n",
       "    <tr style=\"text-align: right;\">\n",
       "      <th></th>\n",
       "      <th>A</th>\n",
       "    </tr>\n",
       "  </thead>\n",
       "  <tbody>\n",
       "    <tr>\n",
       "      <th>2022-01-01</th>\n",
       "      <td>0.302533</td>\n",
       "    </tr>\n",
       "    <tr>\n",
       "      <th>2022-01-02</th>\n",
       "      <td>0.599537</td>\n",
       "    </tr>\n",
       "    <tr>\n",
       "      <th>2022-01-03</th>\n",
       "      <td>-0.681080</td>\n",
       "    </tr>\n",
       "    <tr>\n",
       "      <th>2022-01-04</th>\n",
       "      <td>1.040755</td>\n",
       "    </tr>\n",
       "    <tr>\n",
       "      <th>2022-01-05</th>\n",
       "      <td>-0.688116</td>\n",
       "    </tr>\n",
       "    <tr>\n",
       "      <th>2022-01-06</th>\n",
       "      <td>1.209712</td>\n",
       "    </tr>\n",
       "    <tr>\n",
       "      <th>2022-01-07</th>\n",
       "      <td>0.324251</td>\n",
       "    </tr>\n",
       "  </tbody>\n",
       "</table>"
      ],
      "text/plain": [
       "<IPython.core.display.HTML object>"
      ]
     },
     "metadata": {},
     "output_type": "display_data"
    }
   ],
   "source": [
    "#Display Fancy!\n",
    "display(HTML(df[[\"A\"]].to_html()))"
   ]
  },
  {
   "cell_type": "code",
   "execution_count": 10,
   "id": "ae22c4db",
   "metadata": {},
   "outputs": [
    {
     "data": {
      "text/html": [
       "<div>\n",
       "<style scoped>\n",
       "    .dataframe tbody tr th:only-of-type {\n",
       "        vertical-align: middle;\n",
       "    }\n",
       "\n",
       "    .dataframe tbody tr th {\n",
       "        vertical-align: top;\n",
       "    }\n",
       "\n",
       "    .dataframe thead th {\n",
       "        text-align: right;\n",
       "    }\n",
       "</style>\n",
       "<table border=\"1\" class=\"dataframe\">\n",
       "  <thead>\n",
       "    <tr style=\"text-align: right;\">\n",
       "      <th></th>\n",
       "      <th>A</th>\n",
       "      <th>C</th>\n",
       "    </tr>\n",
       "  </thead>\n",
       "  <tbody>\n",
       "    <tr>\n",
       "      <th>2022-01-01</th>\n",
       "      <td>0.302533</td>\n",
       "      <td>-1.174660</td>\n",
       "    </tr>\n",
       "    <tr>\n",
       "      <th>2022-01-02</th>\n",
       "      <td>0.599537</td>\n",
       "      <td>-0.547953</td>\n",
       "    </tr>\n",
       "    <tr>\n",
       "      <th>2022-01-03</th>\n",
       "      <td>-0.681080</td>\n",
       "      <td>0.149357</td>\n",
       "    </tr>\n",
       "    <tr>\n",
       "      <th>2022-01-04</th>\n",
       "      <td>1.040755</td>\n",
       "      <td>-1.309875</td>\n",
       "    </tr>\n",
       "    <tr>\n",
       "      <th>2022-01-05</th>\n",
       "      <td>-0.688116</td>\n",
       "      <td>-1.248566</td>\n",
       "    </tr>\n",
       "    <tr>\n",
       "      <th>2022-01-06</th>\n",
       "      <td>1.209712</td>\n",
       "      <td>-0.653363</td>\n",
       "    </tr>\n",
       "    <tr>\n",
       "      <th>2022-01-07</th>\n",
       "      <td>0.324251</td>\n",
       "      <td>-0.426766</td>\n",
       "    </tr>\n",
       "  </tbody>\n",
       "</table>\n",
       "</div>"
      ],
      "text/plain": [
       "                   A         C\n",
       "2022-01-01  0.302533 -1.174660\n",
       "2022-01-02  0.599537 -0.547953\n",
       "2022-01-03 -0.681080  0.149357\n",
       "2022-01-04  1.040755 -1.309875\n",
       "2022-01-05 -0.688116 -1.248566\n",
       "2022-01-06  1.209712 -0.653363\n",
       "2022-01-07  0.324251 -0.426766"
      ]
     },
     "execution_count": 10,
     "metadata": {},
     "output_type": "execute_result"
    }
   ],
   "source": [
    "#displayed fancy automatically\n",
    "df[[\"A\", \"C\"]]"
   ]
  },
  {
   "cell_type": "code",
   "execution_count": 11,
   "id": "aa31e4bd",
   "metadata": {},
   "outputs": [
    {
     "data": {
      "text/html": [
       "<div>\n",
       "<style scoped>\n",
       "    .dataframe tbody tr th:only-of-type {\n",
       "        vertical-align: middle;\n",
       "    }\n",
       "\n",
       "    .dataframe tbody tr th {\n",
       "        vertical-align: top;\n",
       "    }\n",
       "\n",
       "    .dataframe thead th {\n",
       "        text-align: right;\n",
       "    }\n",
       "</style>\n",
       "<table border=\"1\" class=\"dataframe\">\n",
       "  <thead>\n",
       "    <tr style=\"text-align: right;\">\n",
       "      <th></th>\n",
       "      <th>Wavelength</th>\n",
       "      <th>Intensity</th>\n",
       "    </tr>\n",
       "  </thead>\n",
       "  <tbody>\n",
       "    <tr>\n",
       "      <th>0</th>\n",
       "      <td>177.185</td>\n",
       "      <td>-39.56</td>\n",
       "    </tr>\n",
       "    <tr>\n",
       "      <th>1</th>\n",
       "      <td>177.571</td>\n",
       "      <td>-39.56</td>\n",
       "    </tr>\n",
       "    <tr>\n",
       "      <th>2</th>\n",
       "      <td>177.957</td>\n",
       "      <td>-39.56</td>\n",
       "    </tr>\n",
       "    <tr>\n",
       "      <th>3</th>\n",
       "      <td>178.343</td>\n",
       "      <td>-57.51</td>\n",
       "    </tr>\n",
       "    <tr>\n",
       "      <th>4</th>\n",
       "      <td>178.729</td>\n",
       "      <td>43.48</td>\n",
       "    </tr>\n",
       "  </tbody>\n",
       "</table>\n",
       "</div>"
      ],
      "text/plain": [
       "   Wavelength  Intensity\n",
       "0     177.185     -39.56\n",
       "1     177.571     -39.56\n",
       "2     177.957     -39.56\n",
       "3     178.343     -57.51\n",
       "4     178.729      43.48"
      ]
     },
     "execution_count": 11,
     "metadata": {},
     "output_type": "execute_result"
    }
   ],
   "source": [
    "#注意：csvファイルはあらかじめJupyter notebookのhome pageにアップロードしておく必要がある！\n",
    "hydrogen1 = pd.read_csv(\"hydrogen_1.csv\", comment = \"#\")\n",
    "hydrogen1.head()"
   ]
  },
  {
   "cell_type": "code",
   "execution_count": 12,
   "id": "16da50e2",
   "metadata": {},
   "outputs": [
    {
     "data": {
      "text/html": [
       "<div>\n",
       "<style scoped>\n",
       "    .dataframe tbody tr th:only-of-type {\n",
       "        vertical-align: middle;\n",
       "    }\n",
       "\n",
       "    .dataframe tbody tr th {\n",
       "        vertical-align: top;\n",
       "    }\n",
       "\n",
       "    .dataframe thead th {\n",
       "        text-align: right;\n",
       "    }\n",
       "</style>\n",
       "<table border=\"1\" class=\"dataframe\">\n",
       "  <thead>\n",
       "    <tr style=\"text-align: right;\">\n",
       "      <th></th>\n",
       "      <th>WV</th>\n",
       "      <th>IN</th>\n",
       "    </tr>\n",
       "  </thead>\n",
       "  <tbody>\n",
       "    <tr>\n",
       "      <th>0</th>\n",
       "      <td>177.185</td>\n",
       "      <td>-39.56</td>\n",
       "    </tr>\n",
       "    <tr>\n",
       "      <th>1</th>\n",
       "      <td>177.571</td>\n",
       "      <td>-39.56</td>\n",
       "    </tr>\n",
       "    <tr>\n",
       "      <th>2</th>\n",
       "      <td>177.957</td>\n",
       "      <td>-39.56</td>\n",
       "    </tr>\n",
       "    <tr>\n",
       "      <th>3</th>\n",
       "      <td>178.343</td>\n",
       "      <td>-57.51</td>\n",
       "    </tr>\n",
       "    <tr>\n",
       "      <th>4</th>\n",
       "      <td>178.729</td>\n",
       "      <td>43.48</td>\n",
       "    </tr>\n",
       "  </tbody>\n",
       "</table>\n",
       "</div>"
      ],
      "text/plain": [
       "        WV     IN\n",
       "0  177.185 -39.56\n",
       "1  177.571 -39.56\n",
       "2  177.957 -39.56\n",
       "3  178.343 -57.51\n",
       "4  178.729  43.48"
      ]
     },
     "execution_count": 12,
     "metadata": {},
     "output_type": "execute_result"
    }
   ],
   "source": [
    "#Change the columns if you want\n",
    "hydrogen1.columns = [\"WV\", \"IN\"]\n",
    "hydrogen1.head()"
   ]
  },
  {
   "cell_type": "code",
   "execution_count": 13,
   "id": "f589ece8",
   "metadata": {},
   "outputs": [
    {
     "data": {
      "text/plain": [
       "[<matplotlib.lines.Line2D at 0x7fcff07d5c70>]"
      ]
     },
     "execution_count": 13,
     "metadata": {},
     "output_type": "execute_result"
    },
    {
     "data": {
      "image/png": "[encoded data removed]",
      "text/plain": [
       "<Figure size 432x288 with 1 Axes>"
      ]
     },
     "metadata": {
      "needs_background": "light"
     },
     "output_type": "display_data"
    }
   ],
   "source": [
    "import matplotlib.pyplot as plt\n",
    "\n",
    "plt.plot(hydrogen1[\"WV\"], hydrogen1[\"IN\"])"
   ]
  },
  {
   "cell_type": "code",
   "execution_count": 14,
   "id": "d12ab58d",
   "metadata": {},
   "outputs": [
    {
     "data": {
      "text/plain": [
       "<matplotlib.legend.Legend at 0x7fcff0a4bc70>"
      ]
     },
     "execution_count": 14,
     "metadata": {},
     "output_type": "execute_result"
    },
    {
     "data": {
      "image/png": "[encoded data removed]",
      "text/plain": [
       "<Figure size 504x360 with 1 Axes>"
      ]
     },
     "metadata": {
      "needs_background": "light"
     },
     "output_type": "display_data"
    }
   ],
   "source": [
    "good_hydrogen1 = hydrogen1.loc[hydrogen1[\"WV\"].idxmin() : hydrogen1[\"WV\"].idxmax()]\n",
    "\n",
    "fig = plt.figure(figsize = (7, 5))\n",
    "\n",
    "plt.plot(good_hydrogen1[\"WV\"], good_hydrogen1[\"IN\"], label = \"hydrogen\")\n",
    "plt.xlabel(\"Wavelength[nm]\")\n",
    "plt.ylabel(\"Intensity[eV]\")\n",
    "plt.title(\"E-λ curve of hydrogen spectrum\")\n",
    "\n",
    "fig.legend()"
   ]
  },
  {
   "cell_type": "code",
   "execution_count": 16,
   "id": "bc08f300",
   "metadata": {},
   "outputs": [],
   "source": [
    "good_hydrogen1.to_excel(\"hydrogen_spectrum_data.xlsx\")\n",
    "#なんか開けない　必要になったら調べる"
   ]
  },
  {
   "cell_type": "code",
   "execution_count": 17,
   "id": "b0891845",
   "metadata": {},
   "outputs": [
    {
     "name": "stdout",
     "output_type": "stream",
     "text": [
      "hydrogen_spectrum_data.xlsx\r\n"
     ]
    }
   ],
   "source": [
    "%ls *.xlsx"
   ]
  },
  {
   "cell_type": "code",
   "execution_count": null,
   "id": "158c2f0f",
   "metadata": {},
   "outputs": [],
   "source": []
  }
 ],
 "metadata": {
  "kernelspec": {
   "display_name": "Python 3",
   "language": "python",
   "name": "python3"
  },
  "language_info": {
   "codemirror_mode": {
    "name": "ipython",
    "version": 3
   },
   "file_extension": ".py",
   "mimetype": "text/x-python",
   "name": "python",
   "nbconvert_exporter": "python",
   "pygments_lexer": "ipython3",
   "version": "3.8.8"
  }
 },
 "nbformat": 4,
 "nbformat_minor": 5
}
