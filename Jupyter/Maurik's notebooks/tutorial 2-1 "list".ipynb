{
 "cells": [
  {
   "cell_type": "code",
   "execution_count": null,
   "id": "2a2bdec4",
   "metadata": {},
   "outputs": [],
   "source": [
    "# tutorial 2-1 \"list\""
   ]
  },
  {
   "cell_type": "code",
   "execution_count": 1,
   "id": "67402be9",
   "metadata": {},
   "outputs": [
    {
     "data": {
      "text/plain": [
       "True"
      ]
     },
     "execution_count": 1,
     "metadata": {},
     "output_type": "execute_result"
    }
   ],
   "source": [
    "[1,2,3]==[1,2,3]\n"
   ]
  },
  {
   "cell_type": "code",
   "execution_count": 2,
   "id": "6ddb705d",
   "metadata": {},
   "outputs": [
    {
     "data": {
      "text/plain": [
       "False"
      ]
     },
     "execution_count": 2,
     "metadata": {},
     "output_type": "execute_result"
    }
   ],
   "source": [
    "[1,2,3]==[1,3,2]"
   ]
  },
  {
   "cell_type": "code",
   "execution_count": 3,
   "id": "489cfe05",
   "metadata": {},
   "outputs": [
    {
     "data": {
      "text/plain": [
       "[5, 7, 10, 11, 11]"
      ]
     },
     "execution_count": 3,
     "metadata": {},
     "output_type": "execute_result"
    }
   ],
   "source": [
    "list_1 = [5, 7, 10]\n",
    "list_2 = [5, 7, 10, 11]\n",
    "list_2.append(11)\n",
    "list_1.append(11)\n",
    "list_1.append(11)\n",
    "list_4 = [5, 7, 10, 11, 11]\n",
    "\n",
    "list_2"
   ]
  },
  {
   "cell_type": "code",
   "execution_count": 4,
   "id": "f222139e",
   "metadata": {
    "scrolled": true
   },
   "outputs": [
    {
     "data": {
      "text/plain": [
       "True"
      ]
     },
     "execution_count": 4,
     "metadata": {},
     "output_type": "execute_result"
    }
   ],
   "source": [
    "list_1 == list_2"
   ]
  },
  {
   "cell_type": "code",
   "execution_count": 5,
   "id": "e37eb7fd",
   "metadata": {},
   "outputs": [
    {
     "data": {
      "text/plain": [
       "[5, 7, 10, 11, 11]"
      ]
     },
     "execution_count": 5,
     "metadata": {},
     "output_type": "execute_result"
    }
   ],
   "source": [
    "list_1"
   ]
  },
  {
   "cell_type": "code",
   "execution_count": 6,
   "id": "c8200865",
   "metadata": {},
   "outputs": [
    {
     "data": {
      "text/plain": [
       "True"
      ]
     },
     "execution_count": 6,
     "metadata": {},
     "output_type": "execute_result"
    }
   ],
   "source": [
    "list_4 == list_2"
   ]
  },
  {
   "cell_type": "code",
   "execution_count": 7,
   "id": "f528e9d3",
   "metadata": {},
   "outputs": [
    {
     "name": "stdout",
     "output_type": "stream",
     "text": [
      "False\n",
      "True\n"
     ]
    }
   ],
   "source": [
    "empty_list = []\n",
    "empty_list.append(13)\n",
    "empty_list.append(7)\n",
    "empty_list.append(271)\n",
    "print(empty_list == [271, 7, 13])\n",
    "print(empty_list == [13, 7, 271])"
   ]
  },
  {
   "cell_type": "code",
   "execution_count": 8,
   "id": "6192ad46",
   "metadata": {},
   "outputs": [
    {
     "name": "stdout",
     "output_type": "stream",
     "text": [
      "[1, 2, 3, [1, 2, 3]]\n"
     ]
    }
   ],
   "source": [
    "my_list = [1, 2, 3]\n",
    "my_list.append([1, 2, 3])\n",
    "print(my_list)\n",
    "\n",
    "def my_func(x):\n",
    "    return x ** 2.3\n",
    "\n",
    "my_list.append(my_func)\n",
    "#print(my_list)"
   ]
  },
  {
   "cell_type": "code",
   "execution_count": 9,
   "id": "6399e139",
   "metadata": {},
   "outputs": [
    {
     "name": "stdout",
     "output_type": "stream",
     "text": [
      "3\n",
      "27\n"
     ]
    }
   ],
   "source": [
    "print(my_list[2])\n",
    "print(my_list[2]**3)"
   ]
  },
  {
   "cell_type": "code",
   "execution_count": 10,
   "id": "04969360",
   "metadata": {},
   "outputs": [
    {
     "data": {
      "text/plain": [
       "1.0"
      ]
     },
     "execution_count": 10,
     "metadata": {},
     "output_type": "execute_result"
    }
   ],
   "source": [
    "my_list[4](1)"
   ]
  },
  {
   "cell_type": "code",
   "execution_count": 11,
   "id": "374a9bee",
   "metadata": {},
   "outputs": [
    {
     "name": "stdout",
     "output_type": "stream",
     "text": [
      "[1, 4, 9, 13]\n",
      "[1, 4, 9, 16]\n"
     ]
    }
   ],
   "source": [
    "perfect_squares = [1, 4, 9, 13]\n",
    "print(perfect_squares)\n",
    "\n",
    "perfect_squares[3]=16\n",
    "print(perfect_squares)"
   ]
  },
  {
   "cell_type": "code",
   "execution_count": 12,
   "id": "e3554327",
   "metadata": {},
   "outputs": [
    {
     "name": "stdout",
     "output_type": "stream",
     "text": [
      "[3, 2, 5]\n",
      "[2, 3, 4, 5]\n"
     ]
    }
   ],
   "source": [
    "test_list = []\n",
    "test_list.append(3)\n",
    "test_list.append(2)\n",
    "test_list.append(5)\n",
    "print(test_list)\n",
    "test_list[1]= 3\n",
    "test_list[0]= 2\n",
    "test_list.append(4)\n",
    "test_list[3] = 5\n",
    "test_list[2] = 4\n",
    "print(test_list)"
   ]
  },
  {
   "cell_type": "code",
   "execution_count": 13,
   "id": "aa8a36c8",
   "metadata": {},
   "outputs": [
    {
     "name": "stdout",
     "output_type": "stream",
     "text": [
      "[[1, 3]]\n",
      "[[1, 3], [257, 2]]\n",
      "[[257, 3], [257, 2]]\n"
     ]
    }
   ],
   "source": [
    "test_list = []\n",
    "test_list.append([1, 2])\n",
    "test_list[0][1]= 3\n",
    "print(test_list)\n",
    "\n",
    "test_list.append([1, 2])\n",
    "test_list[1][0] = 257\n",
    "print(test_list)\n",
    "test_list[0][0] = test_list[1][0]\n",
    "print(test_list)"
   ]
  },
  {
   "cell_type": "code",
   "execution_count": 14,
   "id": "64931713",
   "metadata": {},
   "outputs": [
    {
     "name": "stdout",
     "output_type": "stream",
     "text": [
      "False\n",
      "[['rhino', 'cat'], ['rhino', 'cat']]\n"
     ]
    }
   ],
   "source": [
    "test_list = [[\"rhino\", \"cat\"], [\"elephant\", \"dog\"]]\n",
    "print(test_list[0][1] == test_list[1][0])\n",
    "test_list[1] = test_list[0]\n",
    "print(test_list)"
   ]
  },
  {
   "cell_type": "code",
   "execution_count": null,
   "id": "86e14bcc",
   "metadata": {},
   "outputs": [],
   "source": []
  },
  {
   "cell_type": "code",
   "execution_count": 15,
   "id": "39fbc4cf",
   "metadata": {},
   "outputs": [
    {
     "name": "stdout",
     "output_type": "stream",
     "text": [
      "[0, 1, 2, 3, 4, 5, 6, 7, 8, 9, 10, 11, 12, 13, 14, 15, 16, 17, 18, 19, 20, 21, 22, 23, 24, 25, 26, 27, 28, 29, 30, 31, 32, 33, 34, 35, 36, 37, 38, 39, 40, 41, 42, 43, 44, 45, 46, 47, 48, 49, 50, 51, 52, 53, 54, 55, 56, 57, 58, 59, 60, 61, 62, 63, 64, 65, 66, 67, 68, 69, 70, 71, 72, 73, 74, 75, 76, 77, 78, 79, 80, 81, 82, 83, 84, 85, 86, 87, 88, 89, 90, 91, 92, 93, 94, 95, 96, 97, 98, 99]\n"
     ]
    }
   ],
   "source": [
    "first_100 =[]\n",
    "for n in range(100):\n",
    "    first_100.append(n)\n",
    "    \n",
    "print(first_100)"
   ]
  },
  {
   "cell_type": "code",
   "execution_count": 16,
   "id": "791f1c27",
   "metadata": {},
   "outputs": [
    {
     "name": "stdout",
     "output_type": "stream",
     "text": [
      "[0, -2, -4, -6, -8, -10, -12, -14, -16, -18, -20, -22, -24, -26, -28, -30, -32, -34, -36, -38, -40, -42, -44, -46, -48, -50, -52, -54, -56, -58, -60, -62, -64, -66, -68, -70, -72, -74, -76, -78, -80, -82, -84, -86, -88, -90, -92, -94, -96, -98, -100, -102, -104, -106, -108, -110, -112, -114, -116, -118, -120, -122, -124, -126, -128, -130, -132, -134, -136, -138, -140, -142, -144, -146, -148, -150, -152, -154, -156, -158, -160, -162, -164, -166, -168, -170, -172, -174, -176, -178, -180, -182, -184, -186, -188, -190, -192, -194, -196, -198]\n"
     ]
    }
   ],
   "source": [
    "first_100_even = []\n",
    "for n in range(100):\n",
    "    first_100_even.append(-2 * n)\n",
    "\n",
    "print(first_100_even)"
   ]
  },
  {
   "cell_type": "code",
   "execution_count": 17,
   "id": "bc0f8981",
   "metadata": {},
   "outputs": [
    {
     "name": "stdout",
     "output_type": "stream",
     "text": [
      "[3, 5, 7, 9, 11, 13, 15, 17, 19, 21, 23, 25, 27, 29, 31, 33, 35, 37, 39, 41, 43, 45, 47, 49, 51, 53, 55, 57, 59, 61, 63, 65, 67, 69, 71, 73, 75, 77, 79, 81, 83, 85, 87, 89, 91, 93, 95, 97, 99, 101, 103, 105, 107, 109, 111, 113, 115, 117, 119, 121, 123, 125, 127, 129, 131, 133, 135, 137, 139, 141, 143, 145, 147, 149, 151, 153, 155, 157, 159, 161, 163, 165, 167, 169, 171, 173, 175, 177, 179, 181, 183, 185, 187, 189, 191, 193, 195, 197, 199, 201]\n"
     ]
    }
   ],
   "source": [
    "L = []\n",
    "for n in range(100):\n",
    "    L.append(2 * (n + 1) + 1)\n",
    "\n",
    "print(L)"
   ]
  },
  {
   "cell_type": "code",
   "execution_count": 18,
   "id": "b7c29d39",
   "metadata": {},
   "outputs": [
    {
     "name": "stdout",
     "output_type": "stream",
     "text": [
      "[1, 4, 9, 16, 25, 36, 49, 64, 81, 100, 121, 144, 169, 196, 225, 256, 289, 324, 361, 400, 441, 484, 529, 576, 625, 676, 729, 784, 841, 900, 961, 1024, 1089, 1156, 1225, 1296, 1369, 1444, 1521, 1600, 1681, 1764, 1849, 1936, 2025, 2116, 2209, 2304, 2401, 2500, 2601, 2704, 2809, 2916, 3025, 3136, 3249, 3364, 3481, 3600, 3721, 3844, 3969, 4096, 4225, 4356, 4489, 4624, 4761, 4900, 5041, 5184, 5329, 5476, 5625, 5776, 5929, 6084, 6241, 6400, 6561, 6724, 6889, 7056, 7225, 7396, 7569, 7744, 7921, 8100, 8281, 8464, 8649, 8836, 9025, 9216, 9409, 9604, 9801, 10000]\n"
     ]
    }
   ],
   "source": [
    "L = []\n",
    "for n in range(100):\n",
    "    L.append((n + 1) ** 2)\n",
    "\n",
    "print(L)"
   ]
  },
  {
   "cell_type": "code",
   "execution_count": 19,
   "id": "27388f6c",
   "metadata": {},
   "outputs": [
    {
     "name": "stdout",
     "output_type": "stream",
     "text": [
      "[105, 210, 315, 420, 525, 630, 735, 840, 945, 1050, 1155, 1260, 1365, 1470, 1575, 1680, 1785, 1890, 1995, 2100, 2205, 2310, 2415, 2520, 2625, 2730, 2835, 2940, 3045, 3150, 3255, 3360, 3465, 3570, 3675, 3780, 3885, 3990, 4095, 4200, 4305, 4410, 4515, 4620, 4725, 4830, 4935, 5040, 5145, 5250, 5355, 5460, 5565, 5670, 5775, 5880, 5985, 6090, 6195, 6300, 6405, 6510, 6615, 6720, 6825, 6930, 7035, 7140, 7245, 7350, 7455, 7560, 7665, 7770, 7875, 7980, 8085, 8190, 8295, 8400, 8505, 8610, 8715, 8820, 8925, 9030, 9135, 9240, 9345, 9450, 9555, 9660, 9765, 9870, 9975, 10080, 10185, 10290, 10395, 10500]\n"
     ]
    }
   ],
   "source": [
    "divisible_357 = []\n",
    "for n in range(100):\n",
    "    divisible_357.append(3 * 5 * 7 * (n+1))\n",
    "\n",
    "print(divisible_357)"
   ]
  },
  {
   "cell_type": "code",
   "execution_count": 20,
   "id": "a7802d42",
   "metadata": {},
   "outputs": [
    {
     "data": {
      "text/plain": [
       "[1, 2, 3, 5, 8, 13, 21, 34, 55, 89, 144, 233]"
      ]
     },
     "execution_count": 20,
     "metadata": {},
     "output_type": "execute_result"
    }
   ],
   "source": [
    "def fib_list(n):\n",
    "\n",
    "    list_f = [1, 2]\n",
    "    for i in range(n):\n",
    "        list_f.append(list_f[i] + list_f[i+1])\n",
    "    return list_f\n",
    "        \n",
    "fib_list(10)"
   ]
  },
  {
   "cell_type": "code",
   "execution_count": 24,
   "id": "3d617f58",
   "metadata": {},
   "outputs": [
    {
     "name": "stdout",
     "output_type": "stream",
     "text": [
      "144\n",
      "[1.0, 4.5, 9.666666666666666, 25.8, 64.875, 169.92307692307693, 441.95238095238096, 1156.9705882352941, 3025.981818181818, 7921.988764044944]\n"
     ]
    }
   ],
   "source": [
    "def F_n(n):\n",
    "    \n",
    "    list_f = [1, 2]\n",
    "    for i in range(n):\n",
    "        list_f.append(list_f[i] + list_f[i+1])\n",
    "    return list_f[n]\n",
    "    \n",
    "print(F_n(10))\n",
    "\n",
    "def list_kk(n):\n",
    "    list_k = []\n",
    "    for i in range(n):\n",
    "        list_k.append((F_n(i)) ** 2 + 1 - 1/F_n(i))\n",
    "    return list_k\n",
    "print(list_kk(10))"
   ]
  },
  {
   "cell_type": "code",
   "execution_count": 23,
   "id": "075a1f25",
   "metadata": {
    "scrolled": true
   },
   "outputs": [
    {
     "name": "stdout",
     "output_type": "stream",
     "text": [
      "[1.0, 4.5, 9.666666666666666, 25.8, 64.875, 169.92307692307693, 441.95238095238096, 1156.9705882352941, 3025.981818181818, 7921.988764044944]\n"
     ]
    }
   ],
   "source": [
    "def fib(n):\n",
    "    list_k = []\n",
    "    a = fib_list(n)\n",
    "    for i in range(n):\n",
    "        list_k.append(a[i] ** 2 + 1 -1/a[i])\n",
    "    return list_k\n",
    "                      \n",
    "print(fib(10))"
   ]
  }
 ],
 "metadata": {
  "kernelspec": {
   "display_name": "Python 3",
   "language": "python",
   "name": "python3"
  },
  "language_info": {
   "codemirror_mode": {
    "name": "ipython",
    "version": 3
   },
   "file_extension": ".py",
   "mimetype": "text/x-python",
   "name": "python",
   "nbconvert_exporter": "python",
   "pygments_lexer": "ipython3",
   "version": "3.8.8"
  }
 },
 "nbformat": 4,
 "nbformat_minor": 5
}
