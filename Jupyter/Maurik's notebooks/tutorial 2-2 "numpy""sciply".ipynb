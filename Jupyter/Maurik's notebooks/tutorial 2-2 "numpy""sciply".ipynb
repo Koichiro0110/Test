{
 "cells": [
  {
   "cell_type": "code",
   "execution_count": 1,
   "id": "5cf28655",
   "metadata": {},
   "outputs": [],
   "source": [
    "# tutorial 2-2 \"numpy\", \"scipy\""
   ]
  },
  {
   "cell_type": "code",
   "execution_count": 30,
   "id": "b3c27396",
   "metadata": {},
   "outputs": [],
   "source": [
    "import numpy as np\n",
    "import scipy as sp\n",
    "import math\n",
    "import time\n",
    "import matplotlib.pyplot as plt\n",
    "%matplotlib inline"
   ]
  },
  {
   "cell_type": "code",
   "execution_count": 3,
   "id": "d9ddd3f7",
   "metadata": {},
   "outputs": [
    {
     "data": {
      "text/plain": [
       "0.8414709848078965"
      ]
     },
     "execution_count": 3,
     "metadata": {},
     "output_type": "execute_result"
    }
   ],
   "source": [
    "np.sin(1)"
   ]
  },
  {
   "cell_type": "code",
   "execution_count": 4,
   "id": "93ed2017",
   "metadata": {},
   "outputs": [
    {
     "data": {
      "text/plain": [
       "3.141592653589793"
      ]
     },
     "execution_count": 4,
     "metadata": {},
     "output_type": "execute_result"
    }
   ],
   "source": [
    "np.pi"
   ]
  },
  {
   "cell_type": "code",
   "execution_count": 5,
   "id": "633e1c58",
   "metadata": {
    "scrolled": false
   },
   "outputs": [
    {
     "name": "stdout",
     "output_type": "stream",
     "text": [
      "[0.0, 0.3090169943749474, 0.5877852522924731, 0.8090169943749473, 0.9510565162951535, 1.0, 0.9510565162951536, 0.8090169943749475, 0.5877852522924732, 0.3090169943749475, 1.2246467991473532e-16, -0.3090169943749469, -0.587785252292473, -0.8090169943749473, -0.9510565162951535, -1.0, -0.9510565162951536, -0.8090169943749476, -0.5877852522924732, -0.3090169943749476, -2.4492935982947064e-16]\n"
     ]
    }
   ],
   "source": [
    "sin_list = []\n",
    "for i in range(21):\n",
    "    sin_list.append(np.sin(i * np.pi / 10))\n",
    "print(sin_list)\n",
    "#maybe numpy sin function is defined as 0 <= np.pi < 2 * np.pi"
   ]
  },
  {
   "cell_type": "code",
   "execution_count": 6,
   "id": "fda6ac35",
   "metadata": {},
   "outputs": [
    {
     "data": {
      "text/plain": [
       "[1, 2, 3, 4, 5, 6, 7, 8, 9, 10]"
      ]
     },
     "execution_count": 6,
     "metadata": {},
     "output_type": "execute_result"
    }
   ],
   "source": [
    "integer_list = [n for n in range (1, 11)]\n",
    "integer_list"
   ]
  },
  {
   "cell_type": "code",
   "execution_count": 7,
   "id": "21547632",
   "metadata": {},
   "outputs": [
    {
     "name": "stdout",
     "output_type": "stream",
     "text": [
      "[ 1  2  3  4  5  6  7  8  9 10]\n"
     ]
    }
   ],
   "source": [
    "# convert list to array\n",
    "integer_array = np.array(integer_list)\n",
    "print(integer_array)"
   ]
  },
  {
   "cell_type": "code",
   "execution_count": 8,
   "id": "73ddff1a",
   "metadata": {},
   "outputs": [
    {
     "name": "stdout",
     "output_type": "stream",
     "text": [
      "[ 1  2  3  4  5  6  7  8  9 10]\n",
      "[ 1.   1.5  2.   2.5  3.   3.5  4.   4.5  5.   5.5  6.   6.5  7.   7.5\n",
      "  8.   8.5  9.   9.5 10.  10.5]\n"
     ]
    }
   ],
   "source": [
    "# create array\n",
    "# np.arange(start, stop, step)\n",
    "# the range doesn't include the last number\n",
    "another_integer_array = np.arange(1, 11)\n",
    "print(another_integer_array)\n",
    "\n",
    "aee = np.arange(1, 11, 0.5)\n",
    "print(aee)"
   ]
  },
  {
   "cell_type": "code",
   "execution_count": 9,
   "id": "cb291beb",
   "metadata": {},
   "outputs": [
    {
     "name": "stdout",
     "output_type": "stream",
     "text": [
      "[[1 2 3]\n",
      " [4 5 6]]\n"
     ]
    }
   ],
   "source": [
    "k = [[1, 2 ,3], [4, 5, 6]]\n",
    "\n",
    "np.array(k)\n",
    "print(np.array(k))"
   ]
  },
  {
   "cell_type": "code",
   "execution_count": 10,
   "id": "41bac169",
   "metadata": {},
   "outputs": [
    {
     "name": "stdout",
     "output_type": "stream",
     "text": [
      "[[[1 2]\n",
      "  [3 4]\n",
      "  [5 6]]\n",
      "\n",
      " [[1 2]\n",
      "  [3 4]\n",
      "  [5 6]]]\n",
      "(2, 3, 2)\n"
     ]
    }
   ],
   "source": [
    "kk = np.array([[[1, 2], [3, 4], [5, 6]], [[1, 2], [3, 4], [5, 6]]])\n",
    "\n",
    "print(kk)\n",
    "\n",
    "print(np.shape(kk))\n",
    "#(2, 3, 2) is a \"shape\" of the array"
   ]
  },
  {
   "cell_type": "code",
   "execution_count": 11,
   "id": "8eb54d7f",
   "metadata": {},
   "outputs": [
    {
     "name": "stdout",
     "output_type": "stream",
     "text": [
      "[ 1  2  3  4  5  6  7  8  9 10]\n",
      "[ 0.84147098  0.90929743  0.14112001 -0.7568025  -0.95892427 -0.2794155\n",
      "  0.6569866   0.98935825  0.41211849 -0.54402111]\n",
      "[2.71828183e+00 7.38905610e+00 2.00855369e+01 5.45981500e+01\n",
      " 1.48413159e+02 4.03428793e+02 1.09663316e+03 2.98095799e+03\n",
      " 8.10308393e+03 2.20264658e+04]\n"
     ]
    }
   ],
   "source": [
    "print(integer_array)\n",
    "\n",
    "sin_integer_array = np.sin(integer_array)\n",
    "\n",
    "print(sin_integer_array)\n",
    "\n",
    "print(np.exp(integer_array))\n",
    "\n",
    "#sin, cos, exponential, logarithmic etc. are called \"universal function\" or \"ufunc\" in numpy."
   ]
  },
  {
   "cell_type": "code",
   "execution_count": 12,
   "id": "aa8dfb0e",
   "metadata": {},
   "outputs": [
    {
     "name": "stdout",
     "output_type": "stream",
     "text": [
      "[1. 1. 1. 1. 1. 1. 1. 1. 1. 1.]\n",
      "[5. 5. 5. 5. 5. 5. 5. 5. 5. 5.]\n",
      "[32. 32. 32. 32. 32. 32. 32. 32. 32. 32.]\n"
     ]
    }
   ],
   "source": [
    "lots_of_ones = np.ones(10)\n",
    "\n",
    "print(lots_of_ones)\n",
    "\n",
    "lots_of_fives = 5 * lots_of_ones\n",
    "\n",
    "print(lots_of_fives)\n",
    "\n",
    "print(2**lots_of_fives)\n",
    "#2^5"
   ]
  },
  {
   "cell_type": "code",
   "execution_count": 13,
   "id": "d805bce5",
   "metadata": {},
   "outputs": [
    {
     "name": "stdout",
     "output_type": "stream",
     "text": [
      "[5 7 9]\n",
      "[-3 -3 -3]\n",
      "[ 4 10 18]\n",
      "[0.25 0.4  0.5 ]\n"
     ]
    }
   ],
   "source": [
    "A = np.array([1, 2, 3])\n",
    "B = np.array([4, 5, 6])\n",
    "\n",
    "print(A + B)\n",
    "print(A - B)\n",
    "print(A * B)\n",
    "print(A / B)\n"
   ]
  },
  {
   "cell_type": "code",
   "execution_count": 14,
   "id": "8c56fca9",
   "metadata": {},
   "outputs": [
    {
     "name": "stdout",
     "output_type": "stream",
     "text": [
      "[1, 2, 3, 4, 5, 6, 7, 8, 9, 10]\n",
      "[ 1  2  3  4  5  6  7  8  9 10]\n",
      "[ 1  2  3  4  5  6  7  8  9 10]\n",
      "<class 'list'>\n",
      "<class 'numpy.ndarray'>\n",
      "<class 'numpy.ndarray'>\n"
     ]
    }
   ],
   "source": [
    "integer_list = [n for n in range(1, 11)]\n",
    "integer_array = np.array(integer_list)\n",
    "another_integer_array = np.arange(1,11)\n",
    "\n",
    "print(integer_list)\n",
    "print(integer_array)\n",
    "print(another_integer_array)\n",
    "\n",
    "print(type(integer_list))\n",
    "print(type(integer_array))\n",
    "print(type(another_integer_array))"
   ]
  },
  {
   "cell_type": "code",
   "execution_count": 15,
   "id": "7d595e1a",
   "metadata": {},
   "outputs": [
    {
     "name": "stdout",
     "output_type": "stream",
     "text": [
      "[ 0.84147098  0.90929743  0.14112001 -0.7568025  -0.95892427 -0.2794155\n",
      "  0.6569866   0.98935825  0.41211849 -0.54402111]\n",
      "[ 0.54030231 -0.41614684 -0.9899925  -0.65364362  0.28366219  0.96017029\n",
      "  0.75390225 -0.14550003 -0.91113026 -0.83907153]\n",
      "[2.71828183e+00 7.38905610e+00 2.00855369e+01 5.45981500e+01\n",
      " 1.48413159e+02 4.03428793e+02 1.09663316e+03 2.98095799e+03\n",
      " 8.10308393e+03 2.20264658e+04]\n"
     ]
    }
   ],
   "source": [
    "print(np.sin(integer_array))\n",
    "print(np.cos(integer_array))\n",
    "print(np.exp(integer_array))"
   ]
  },
  {
   "cell_type": "code",
   "execution_count": 16,
   "id": "d940c82b",
   "metadata": {},
   "outputs": [
    {
     "name": "stdout",
     "output_type": "stream",
     "text": [
      "[2. 2. 2. 2. 2. 2. 2. 2. 2. 2. 2.]\n"
     ]
    }
   ],
   "source": [
    "test_array = np.ones(11)\n",
    "array_1 = 3 * test_array\n",
    "array_2 = 5 * test_array\n",
    "test_array = array_1 + array_2\n",
    "test_array = test_array / 4\n",
    "print(test_array)"
   ]
  },
  {
   "cell_type": "code",
   "execution_count": 17,
   "id": "94d5ae11",
   "metadata": {},
   "outputs": [
    {
     "name": "stdout",
     "output_type": "stream",
     "text": [
      "[3. 3. 3. 3. 3. 3. 3. 3. 3.]\n",
      "[ 16.  36.  64. 100. 144. 196. 256. 324. 400.]\n"
     ]
    }
   ],
   "source": [
    "hello = np.zeros(9)\n",
    "goodbye = np.arange(1, 19, 2)\n",
    "hello = 3 * (hello + 1)\n",
    "\n",
    "print(hello)\n",
    "test_array = (hello + goodbye) ** 2 #2乗!!\n",
    "\n",
    "print(test_array)"
   ]
  },
  {
   "cell_type": "code",
   "execution_count": 18,
   "id": "afef8df9",
   "metadata": {},
   "outputs": [
    {
     "data": {
      "text/plain": [
       "array([-9., -9., -9., -9., -9., -9., -9.])"
      ]
     },
     "execution_count": 18,
     "metadata": {},
     "output_type": "execute_result"
    }
   ],
   "source": [
    "luke = np.ones(7)\n",
    "leah = 2 * luke\n",
    "han = 3 * luke\n",
    "darth = 4 * luke\n",
    "jabba = 5 * luke\n",
    "(luke + leah) * han * (darth - jabba)\n",
    "#operation by each component"
   ]
  },
  {
   "cell_type": "code",
   "execution_count": 19,
   "id": "ed3c31af",
   "metadata": {},
   "outputs": [
    {
     "name": "stdout",
     "output_type": "stream",
     "text": [
      "[1. 1. 1. 1. 1. 1. 1. 1. 1. 1. 1. 1. 1. 1. 1. 1. 1. 1. 1. 1.]\n",
      "[6.123234e-17 6.123234e-17 6.123234e-17 6.123234e-17 6.123234e-17\n",
      " 6.123234e-17 6.123234e-17 6.123234e-17 6.123234e-17 6.123234e-17\n",
      " 6.123234e-17 6.123234e-17 6.123234e-17 6.123234e-17 6.123234e-17\n",
      " 6.123234e-17 6.123234e-17 6.123234e-17 6.123234e-17 6.123234e-17]\n",
      "[6.123234e-17 6.123234e-17 6.123234e-17 6.123234e-17 6.123234e-17\n",
      " 6.123234e-17 6.123234e-17 6.123234e-17 6.123234e-17 6.123234e-17\n",
      " 6.123234e-17 6.123234e-17 6.123234e-17 6.123234e-17 6.123234e-17\n",
      " 6.123234e-17 6.123234e-17 6.123234e-17 6.123234e-17 6.123234e-17]\n"
     ]
    }
   ],
   "source": [
    "charm = np.pi * np.ones(20) / 2\n",
    "\n",
    "bottom = np.sin(charm)\n",
    "print(bottom)\n",
    "\n",
    "up = np.cos(charm)\n",
    "print(up)\n",
    "#agin, almost 0 but not defined!\n",
    "\n",
    "test_array = bottom * up\n",
    "print(test_array)"
   ]
  },
  {
   "cell_type": "code",
   "execution_count": 20,
   "id": "dff7c09b",
   "metadata": {},
   "outputs": [
    {
     "name": "stdout",
     "output_type": "stream",
     "text": [
      "[2, 3, 0, 1, 6]\n",
      "[2 3 0 1 6]\n",
      "[0.47942554 0.68163876 0.         0.24740396 0.99749499]\n",
      "[0.67153074 2.1403132  0.         0.10481792 8.91019518]\n"
     ]
    }
   ],
   "source": [
    "l =[]\n",
    "for i in range(5):\n",
    "    l.append(i^2)\n",
    "print(l)\n",
    "\n",
    "#listをarrayにするの忘れずに\n",
    "test_array2 = np.array(l)\n",
    "print(test_array2)\n",
    "\n",
    "test_array2 = test_array2 / 4\n",
    "test_array2 = np.sin(test_array2)\n",
    "heisenberg = test_array2 ** 2\n",
    "schrodinger = test_array2 ** 3\n",
    "pauli = test_array2\n",
    "print(pauli)\n",
    "test_array2 = (heisenberg + schrodinger + pauli) ** 2\n",
    "print(test_array2)"
   ]
  },
  {
   "cell_type": "code",
   "execution_count": 21,
   "id": "24edad39",
   "metadata": {},
   "outputs": [
    {
     "name": "stdout",
     "output_type": "stream",
     "text": [
      "[[1, 2, 3], [4, 5, 6]]\n",
      "5\n",
      "[[1 2 3]\n",
      " [4 5 6]]\n",
      "5\n",
      "[[ 1  2  3]\n",
      " [ 4 13  6]]\n"
     ]
    }
   ],
   "source": [
    "nested_list = [[1, 2, 3], [4, 5, 6]]\n",
    "print(nested_list)\n",
    "\n",
    "#listもarrayも0から始まる\n",
    "print(nested_list[1][1])      \n",
    "\n",
    "two_dim_array = np.array(nested_list)\n",
    "\n",
    "print(two_dim_array)\n",
    "\n",
    "#１行１列\n",
    "print(two_dim_array[1, 1])\n",
    "\n",
    "#reassign\n",
    "two_dim_array[1, 1] = 13\n",
    "\n",
    "print(two_dim_array)"
   ]
  },
  {
   "cell_type": "code",
   "execution_count": 22,
   "id": "ed4f6325",
   "metadata": {},
   "outputs": [
    {
     "name": "stdout",
     "output_type": "stream",
     "text": [
      "[0.0, 1.0, 1.2246467991473532e-16, -1.0, -2.4492935982947064e-16, 1.0, 3.6739403974420594e-16, -1.0, -4.898587196589413e-16]\n",
      "[0.0, 1.0, 1.2246467991473532e-16, -1.0, -2.4492935982947064e-16, 1.0, 3.6739403974420594e-16, -1.0, -4.898587196589413e-16]\n"
     ]
    }
   ],
   "source": [
    "math_sin =[]\n",
    "numpy_sin = []\n",
    "\n",
    "for i in range(9):\n",
    "    math_sin.append(math.sin(i*np.pi/2))\n",
    "    numpy_sin.append(np.sin(i*np.pi/2))\n",
    "\n",
    "print(math_sin)\n",
    "print(numpy_sin)\n",
    "\n",
    "#何が違う？？？？？？？"
   ]
  },
  {
   "cell_type": "code",
   "execution_count": 23,
   "id": "fcce2ab4",
   "metadata": {
    "scrolled": true
   },
   "outputs": [
    {
     "name": "stdout",
     "output_type": "stream",
     "text": [
      "[0, 1, 2, 3, 4, 5, 6, 7, 8, 9]\n",
      "[0 1 2 3 4 5 6 7 8 9]\n",
      "[0, 1, 2, 3, 4, 5, 6, 7, 8, 9]\n",
      "[0 1 2 3 4 5 6 7 8 9]\n",
      "[0 1 2 3 4 5 6 7 8 9]\n",
      "(10,)\n",
      "[0. 0. 0. 0. 0. 0. 0. 0. 0. 0. 0. 0. 0. 0. 0. 0. 0. 0. 0. 0. 0. 0. 0. 0.\n",
      " 0. 0. 0. 0. 0. 0. 0. 0. 0. 0. 0. 0. 0. 0. 0. 0. 0. 0. 0. 0. 0. 0. 0. 0.\n",
      " 0. 0.]\n",
      "(50,)\n",
      "[0. 0. 0. 0. 0. 0. 3. 0. 0. 0. 0. 0. 0. 0. 0. 0. 0. 0. 0. 0. 0. 0. 0. 0.\n",
      " 0.]\n"
     ]
    }
   ],
   "source": [
    "by_list_loop =[]\n",
    "for i in range(10):\n",
    "    by_list_loop.append(i)\n",
    "    \n",
    "print(by_list_loop)\n",
    "\n",
    "array_list_loop = np.array(by_list_loop)\n",
    "print(array_list_loop)\n",
    "\n",
    "by_list_comprehention = [n for n in range(10)]\n",
    "\n",
    "print(by_list_comprehention)\n",
    "\n",
    "array_list_comprehention = np.array(by_list_comprehention)\n",
    "print(array_list_comprehention)\n",
    "\n",
    "array_numpycommands = np.arange(0, 10, 1)\n",
    "print(array_numpycommands)\n",
    "\n",
    "print(np.shape(array_numpycommands))\n",
    "\n",
    "#zeroo_list = []\n",
    "#for n in range(50):\n",
    "    #zeroo_list.append(n*0)\n",
    "\n",
    "#print(zeroo_list)\n",
    "\n",
    "#zeroo = np.array(zeroo_list)\n",
    "\n",
    "#print(zeroo)\n",
    "#print(np.shape(zeroo))\n",
    "\n",
    "#This command makes array!!\n",
    "zero = np.zeros(50)\n",
    "\n",
    "print(zero)\n",
    "print(np.shape(zero))\n",
    "\n",
    "#shape(1, 50)??\n",
    "    \n",
    "    \n",
    "seventh_3 = np.zeros(25)\n",
    "\n",
    "seventh_3[6] = 3\n",
    "print(seventh_3)\n",
    "\n"
   ]
  },
  {
   "cell_type": "code",
   "execution_count": 24,
   "id": "e0309552",
   "metadata": {},
   "outputs": [
    {
     "name": "stdout",
     "output_type": "stream",
     "text": [
      "[0.00000e+00 0.00000e+00 4.00000e+00 0.00000e+00 1.60000e+01 0.00000e+00\n",
      " 3.60000e+01 0.00000e+00 6.40000e+01 0.00000e+00 1.00000e+02 0.00000e+00\n",
      " 1.44000e+02 0.00000e+00 1.96000e+02 0.00000e+00 2.56000e+02 0.00000e+00\n",
      " 3.24000e+02 0.00000e+00 4.00000e+02 0.00000e+00 4.84000e+02 0.00000e+00\n",
      " 5.76000e+02 0.00000e+00 6.76000e+02 0.00000e+00 7.84000e+02 0.00000e+00\n",
      " 9.00000e+02 0.00000e+00 1.02400e+03 0.00000e+00 1.15600e+03 0.00000e+00\n",
      " 1.29600e+03 0.00000e+00 1.44400e+03 0.00000e+00 1.60000e+03 0.00000e+00\n",
      " 1.76400e+03 0.00000e+00 1.93600e+03 0.00000e+00 2.11600e+03 0.00000e+00\n",
      " 2.30400e+03 0.00000e+00 2.50000e+03 0.00000e+00 2.70400e+03 0.00000e+00\n",
      " 2.91600e+03 0.00000e+00 3.13600e+03 0.00000e+00 3.36400e+03 0.00000e+00\n",
      " 3.60000e+03 0.00000e+00 3.84400e+03 0.00000e+00 4.09600e+03 0.00000e+00\n",
      " 4.35600e+03 0.00000e+00 4.62400e+03 0.00000e+00 4.90000e+03 0.00000e+00\n",
      " 5.18400e+03 0.00000e+00 5.47600e+03 0.00000e+00 5.77600e+03 0.00000e+00\n",
      " 6.08400e+03 0.00000e+00 6.40000e+03 0.00000e+00 6.72400e+03 0.00000e+00\n",
      " 7.05600e+03 0.00000e+00 7.39600e+03 0.00000e+00 7.74400e+03 0.00000e+00\n",
      " 8.10000e+03 0.00000e+00 8.46400e+03 0.00000e+00 8.83600e+03 0.00000e+00\n",
      " 9.21600e+03 0.00000e+00 9.60400e+03 0.00000e+00 1.00000e+04 0.00000e+00\n",
      " 1.04040e+04 0.00000e+00 1.08160e+04 0.00000e+00 1.12360e+04 0.00000e+00\n",
      " 1.16640e+04 0.00000e+00 1.21000e+04 0.00000e+00 1.25440e+04 0.00000e+00\n",
      " 1.29960e+04 0.00000e+00 1.34560e+04 0.00000e+00 1.39240e+04 0.00000e+00\n",
      " 1.44000e+04 0.00000e+00 1.48840e+04 0.00000e+00 1.53760e+04 0.00000e+00\n",
      " 1.58760e+04 0.00000e+00 1.63840e+04 0.00000e+00 1.69000e+04 0.00000e+00\n",
      " 1.74240e+04 0.00000e+00 1.79560e+04 0.00000e+00 1.84960e+04 0.00000e+00\n",
      " 1.90440e+04 0.00000e+00 1.96000e+04 0.00000e+00 2.01640e+04 0.00000e+00\n",
      " 2.07360e+04 0.00000e+00 2.13160e+04 0.00000e+00 2.19040e+04 0.00000e+00\n",
      " 2.25000e+04 0.00000e+00 2.31040e+04 0.00000e+00 2.37160e+04 0.00000e+00\n",
      " 2.43360e+04 0.00000e+00 2.49640e+04 0.00000e+00 2.56000e+04 0.00000e+00\n",
      " 2.62440e+04 0.00000e+00 2.68960e+04 0.00000e+00 2.75560e+04 0.00000e+00\n",
      " 2.82240e+04 0.00000e+00 2.89000e+04 0.00000e+00 2.95840e+04 0.00000e+00\n",
      " 3.02760e+04 0.00000e+00 3.09760e+04 0.00000e+00 3.16840e+04 0.00000e+00\n",
      " 3.24000e+04 0.00000e+00 3.31240e+04 0.00000e+00 3.38560e+04 0.00000e+00\n",
      " 3.45960e+04 0.00000e+00 3.53440e+04 0.00000e+00 3.61000e+04 0.00000e+00\n",
      " 3.68640e+04 0.00000e+00 3.76360e+04 0.00000e+00 3.84160e+04 0.00000e+00\n",
      " 3.92040e+04 0.00000e+00 4.00000e+04 0.00000e+00 4.08040e+04 0.00000e+00\n",
      " 4.16160e+04 0.00000e+00 4.24360e+04 0.00000e+00 4.32640e+04 0.00000e+00\n",
      " 4.41000e+04 0.00000e+00 4.49440e+04 0.00000e+00 4.57960e+04 0.00000e+00\n",
      " 4.66560e+04 0.00000e+00 4.75240e+04 0.00000e+00 4.84000e+04 0.00000e+00\n",
      " 4.92840e+04 0.00000e+00 5.01760e+04 0.00000e+00 5.10760e+04 0.00000e+00\n",
      " 5.19840e+04 0.00000e+00 5.29000e+04 0.00000e+00 5.38240e+04 0.00000e+00\n",
      " 5.47560e+04 0.00000e+00 5.56960e+04 0.00000e+00 5.66440e+04 0.00000e+00\n",
      " 5.76000e+04 0.00000e+00 5.85640e+04 0.00000e+00 5.95360e+04 0.00000e+00\n",
      " 6.05160e+04 0.00000e+00 6.15040e+04 0.00000e+00 6.25000e+04 0.00000e+00\n",
      " 6.35040e+04 0.00000e+00 6.45160e+04 0.00000e+00 6.55360e+04 0.00000e+00\n",
      " 6.65640e+04 0.00000e+00 6.76000e+04 0.00000e+00 6.86440e+04 0.00000e+00\n",
      " 6.96960e+04 0.00000e+00 7.07560e+04 0.00000e+00 7.18240e+04 0.00000e+00\n",
      " 7.29000e+04 0.00000e+00 7.39840e+04 0.00000e+00 7.50760e+04 0.00000e+00\n",
      " 7.61760e+04 0.00000e+00 7.72840e+04 0.00000e+00 7.84000e+04 0.00000e+00\n",
      " 7.95240e+04 0.00000e+00 8.06560e+04 0.00000e+00 8.17960e+04 0.00000e+00\n",
      " 8.29440e+04 0.00000e+00 8.41000e+04 0.00000e+00 8.52640e+04 0.00000e+00\n",
      " 8.64360e+04 0.00000e+00 8.76160e+04 0.00000e+00 8.88040e+04 0.00000e+00\n",
      " 9.00000e+04 0.00000e+00 9.12040e+04 0.00000e+00 9.24160e+04 0.00000e+00\n",
      " 9.36360e+04 0.00000e+00 9.48640e+04 0.00000e+00 9.61000e+04 0.00000e+00\n",
      " 9.73440e+04 0.00000e+00 9.85960e+04 0.00000e+00 9.98560e+04 0.00000e+00\n",
      " 1.01124e+05 0.00000e+00 1.02400e+05 0.00000e+00 1.03684e+05 0.00000e+00\n",
      " 1.04976e+05 0.00000e+00 1.06276e+05 0.00000e+00 1.07584e+05 0.00000e+00\n",
      " 1.08900e+05 0.00000e+00 1.10224e+05 0.00000e+00 1.11556e+05 0.00000e+00\n",
      " 1.12896e+05 0.00000e+00 1.14244e+05 0.00000e+00 1.15600e+05 0.00000e+00\n",
      " 1.16964e+05 0.00000e+00 1.18336e+05 0.00000e+00 1.19716e+05 0.00000e+00\n",
      " 1.21104e+05 0.00000e+00 1.22500e+05 0.00000e+00 1.23904e+05 0.00000e+00\n",
      " 1.25316e+05 0.00000e+00 1.26736e+05 0.00000e+00 1.28164e+05 0.00000e+00\n",
      " 1.29600e+05 0.00000e+00 1.31044e+05 0.00000e+00 1.32496e+05 0.00000e+00\n",
      " 1.33956e+05 0.00000e+00 1.35424e+05 0.00000e+00 1.36900e+05 0.00000e+00\n",
      " 1.38384e+05 0.00000e+00 1.39876e+05 0.00000e+00 1.41376e+05 0.00000e+00\n",
      " 1.42884e+05 0.00000e+00 1.44400e+05 0.00000e+00 1.45924e+05 0.00000e+00\n",
      " 1.47456e+05 0.00000e+00 1.48996e+05 0.00000e+00 1.50544e+05 0.00000e+00\n",
      " 1.52100e+05 0.00000e+00 1.53664e+05 0.00000e+00 1.55236e+05 0.00000e+00\n",
      " 1.56816e+05 0.00000e+00 1.58404e+05 0.00000e+00 1.60000e+05 0.00000e+00\n",
      " 1.61604e+05 0.00000e+00 1.63216e+05 0.00000e+00 1.64836e+05 0.00000e+00\n",
      " 1.66464e+05 0.00000e+00 1.68100e+05 0.00000e+00 1.69744e+05 0.00000e+00\n",
      " 1.71396e+05 0.00000e+00 1.73056e+05 0.00000e+00 1.74724e+05 0.00000e+00\n",
      " 1.76400e+05 0.00000e+00 1.78084e+05 0.00000e+00 1.79776e+05 0.00000e+00\n",
      " 1.81476e+05 0.00000e+00 1.83184e+05 0.00000e+00 1.84900e+05 0.00000e+00\n",
      " 1.86624e+05 0.00000e+00 1.88356e+05 0.00000e+00 1.90096e+05 0.00000e+00\n",
      " 1.91844e+05 0.00000e+00 1.93600e+05 0.00000e+00 1.95364e+05 0.00000e+00\n",
      " 1.97136e+05 0.00000e+00 1.98916e+05 0.00000e+00 2.00704e+05 0.00000e+00\n",
      " 2.02500e+05 0.00000e+00 2.04304e+05 0.00000e+00 2.06116e+05 0.00000e+00\n",
      " 2.07936e+05 0.00000e+00 2.09764e+05 0.00000e+00 2.11600e+05 0.00000e+00\n",
      " 2.13444e+05 0.00000e+00 2.15296e+05 0.00000e+00 2.17156e+05 0.00000e+00\n",
      " 2.19024e+05 0.00000e+00 2.20900e+05 0.00000e+00 2.22784e+05 0.00000e+00\n",
      " 2.24676e+05 0.00000e+00 2.26576e+05 0.00000e+00 2.28484e+05 0.00000e+00\n",
      " 2.30400e+05 0.00000e+00 2.32324e+05 0.00000e+00 2.34256e+05 0.00000e+00\n",
      " 2.36196e+05 0.00000e+00 2.38144e+05 0.00000e+00 2.40100e+05 0.00000e+00\n",
      " 2.42064e+05 0.00000e+00 2.44036e+05 0.00000e+00 2.46016e+05 0.00000e+00\n",
      " 2.48004e+05 0.00000e+00 2.50000e+05 0.00000e+00 2.52004e+05 0.00000e+00\n",
      " 2.54016e+05 0.00000e+00 2.56036e+05 0.00000e+00 2.58064e+05 0.00000e+00\n",
      " 2.60100e+05 0.00000e+00 2.62144e+05 0.00000e+00 2.64196e+05 0.00000e+00\n",
      " 2.66256e+05 0.00000e+00 2.68324e+05 0.00000e+00 2.70400e+05 0.00000e+00\n",
      " 2.72484e+05 0.00000e+00 2.74576e+05 0.00000e+00 2.76676e+05 0.00000e+00\n",
      " 2.78784e+05 0.00000e+00 2.80900e+05 0.00000e+00 2.83024e+05 0.00000e+00\n",
      " 2.85156e+05 0.00000e+00 2.87296e+05 0.00000e+00 2.89444e+05 0.00000e+00\n",
      " 2.91600e+05 0.00000e+00 2.93764e+05 0.00000e+00 2.95936e+05 0.00000e+00\n",
      " 2.98116e+05 0.00000e+00 3.00304e+05 0.00000e+00 3.02500e+05 0.00000e+00\n",
      " 3.04704e+05 0.00000e+00 3.06916e+05 0.00000e+00 3.09136e+05 0.00000e+00\n",
      " 3.11364e+05 0.00000e+00 3.13600e+05 0.00000e+00 3.15844e+05 0.00000e+00\n",
      " 3.18096e+05 0.00000e+00 3.20356e+05 0.00000e+00 3.22624e+05 0.00000e+00\n",
      " 3.24900e+05 0.00000e+00 3.27184e+05 0.00000e+00 3.29476e+05 0.00000e+00\n",
      " 3.31776e+05 0.00000e+00 3.34084e+05 0.00000e+00 3.36400e+05 0.00000e+00\n",
      " 3.38724e+05 0.00000e+00 3.41056e+05 0.00000e+00 3.43396e+05 0.00000e+00\n",
      " 3.45744e+05 0.00000e+00 3.48100e+05 0.00000e+00 3.50464e+05 0.00000e+00\n",
      " 3.52836e+05 0.00000e+00 3.55216e+05 0.00000e+00 3.57604e+05 0.00000e+00\n",
      " 3.60000e+05 0.00000e+00 3.62404e+05 0.00000e+00 3.64816e+05 0.00000e+00\n",
      " 3.67236e+05 0.00000e+00 3.69664e+05 0.00000e+00 3.72100e+05 0.00000e+00\n",
      " 3.74544e+05 0.00000e+00 3.76996e+05 0.00000e+00 3.79456e+05 0.00000e+00\n",
      " 3.81924e+05 0.00000e+00 3.84400e+05 0.00000e+00 3.86884e+05 0.00000e+00\n",
      " 3.89376e+05 0.00000e+00 3.91876e+05 0.00000e+00 3.94384e+05 0.00000e+00\n",
      " 3.96900e+05 0.00000e+00 3.99424e+05 0.00000e+00 4.01956e+05 0.00000e+00\n",
      " 4.04496e+05 0.00000e+00 4.07044e+05 0.00000e+00 4.09600e+05 0.00000e+00\n",
      " 4.12164e+05 0.00000e+00 4.14736e+05 0.00000e+00 4.17316e+05 0.00000e+00\n",
      " 4.19904e+05 0.00000e+00 4.22500e+05 0.00000e+00 4.25104e+05 0.00000e+00\n",
      " 4.27716e+05 0.00000e+00 4.30336e+05 0.00000e+00 4.32964e+05 0.00000e+00\n",
      " 4.35600e+05 0.00000e+00 4.38244e+05 0.00000e+00 4.40896e+05 0.00000e+00\n",
      " 4.43556e+05 0.00000e+00 4.46224e+05 0.00000e+00 4.48900e+05 0.00000e+00\n",
      " 4.51584e+05 0.00000e+00 4.54276e+05 0.00000e+00 4.56976e+05 0.00000e+00\n",
      " 4.59684e+05 0.00000e+00 4.62400e+05 0.00000e+00 4.65124e+05 0.00000e+00\n",
      " 4.67856e+05 0.00000e+00 4.70596e+05 0.00000e+00 4.73344e+05 0.00000e+00\n",
      " 4.76100e+05 0.00000e+00 4.78864e+05 0.00000e+00 4.81636e+05 0.00000e+00\n",
      " 4.84416e+05 0.00000e+00 4.87204e+05 0.00000e+00 4.90000e+05 0.00000e+00\n",
      " 4.92804e+05 0.00000e+00 4.95616e+05 0.00000e+00 4.98436e+05 0.00000e+00\n",
      " 5.01264e+05 0.00000e+00 5.04100e+05 0.00000e+00 5.06944e+05 0.00000e+00\n",
      " 5.09796e+05 0.00000e+00 5.12656e+05 0.00000e+00 5.15524e+05 0.00000e+00\n",
      " 5.18400e+05 0.00000e+00 5.21284e+05 0.00000e+00 5.24176e+05 0.00000e+00\n",
      " 5.27076e+05 0.00000e+00 5.29984e+05 0.00000e+00 5.32900e+05 0.00000e+00\n",
      " 5.35824e+05 0.00000e+00 5.38756e+05 0.00000e+00 5.41696e+05 0.00000e+00\n",
      " 5.44644e+05 0.00000e+00 5.47600e+05 0.00000e+00 5.50564e+05 0.00000e+00\n",
      " 5.53536e+05 0.00000e+00 5.56516e+05 0.00000e+00 5.59504e+05 0.00000e+00\n",
      " 5.62500e+05 0.00000e+00 5.65504e+05]\n"
     ]
    }
   ],
   "source": [
    "special_array = np.zeros(753)\n",
    "for n in range(377):\n",
    "    special_array[2*n] = (2*n)**2\n",
    "\n",
    "print(special_array)"
   ]
  },
  {
   "cell_type": "code",
   "execution_count": 25,
   "id": "e9869a6d",
   "metadata": {},
   "outputs": [
    {
     "name": "stdout",
     "output_type": "stream",
     "text": [
      "[37.67032753 44.83986893 64.63236851 34.64576448 46.49049675 65.79073001\n",
      " 32.87308725 69.9824136  68.16716732 66.74034029]\n",
      "[[0.58781239 0.12583512 0.77882895 0.41650042 0.59092718]\n",
      " [0.7206604  0.8549616  0.58384961 0.06027791 0.10196452]\n",
      " [0.24036367 0.36039774 0.6555177  0.57701688 0.25726304]\n",
      " [0.02913378 0.91597821 0.79658554 0.58906311 0.8278485 ]\n",
      " [0.75571636 0.1926585  0.71399389 0.39932433 0.51855907]]\n"
     ]
    }
   ],
   "source": [
    "# np.random.rand(行, 列) * a + b  bは最小値, aは最大値\n",
    "\n",
    "a = np.random.rand(10) * 40 + 30\n",
    "print(a)\n",
    "\n",
    "b = np.random.rand(5, 5) * 1 + 0\n",
    "print(b)"
   ]
  },
  {
   "cell_type": "code",
   "execution_count": 26,
   "id": "a4f09e34",
   "metadata": {
    "scrolled": false
   },
   "outputs": [
    {
     "name": "stdout",
     "output_type": "stream",
     "text": [
      "[ 0.   1.5  3.   4.5  6.   7.5  9.  10.5 12.  13.5 15.  16.5 18.  19.5\n",
      " 21.  22.5 24.  25.5 27.  28.5]\n"
     ]
    }
   ],
   "source": [
    "v = 5\n",
    "\n",
    "X = []\n",
    "for t in range(20):\n",
    "    X.append(5*(0.3*t))\n",
    "\n",
    "x = np.array(X)\n",
    "print(x)"
   ]
  },
  {
   "cell_type": "code",
   "execution_count": 27,
   "id": "72c500cd",
   "metadata": {},
   "outputs": [],
   "source": [
    "%%timeit\n",
    "\n",
    "list_of_squares = []\n",
    "for i in range(100000000):\n",
    "    list_of_squares.append(i ** 2)\n",
    "    \n",
    "#It just takes time, Idk why"
   ]
  },
  {
   "cell_type": "code",
   "execution_count": 28,
   "id": "96921776",
   "metadata": {},
   "outputs": [],
   "source": [
    "%%timeit\n",
    "\n",
    "another_list_of_squares = [n ** 2 for n in range(10000000)]"
   ]
  },
  {
   "cell_type": "code",
   "execution_count": 29,
   "id": "f0cbbf93",
   "metadata": {},
   "outputs": [],
   "source": [
    "%%timeit\n",
    "\n",
    "numpy_list_of_squares = np. arange(10000000) ** 2"
   ]
  },
  {
   "cell_type": "code",
   "execution_count": null,
   "id": "12979dfa",
   "metadata": {},
   "outputs": [],
   "source": []
  }
 ],
 "metadata": {
  "kernelspec": {
   "display_name": "Python 3",
   "language": "python",
   "name": "python3"
  },
  "language_info": {
   "codemirror_mode": {
    "name": "ipython",
    "version": 3
   },
   "file_extension": ".py",
   "mimetype": "text/x-python",
   "name": "python",
   "nbconvert_exporter": "python",
   "pygments_lexer": "ipython3",
   "version": "3.8.8"
  }
 },
 "nbformat": 4,
 "nbformat_minor": 5
}
