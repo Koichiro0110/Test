{
 "cells": [
  {
   "cell_type": "code",
   "execution_count": 1,
   "id": "93ef1f1b",
   "metadata": {},
   "outputs": [
    {
     "name": "stdout",
     "output_type": "stream",
     "text": [
      "Requirement already satisfied: qiskit in /opt/anaconda3/lib/python3.8/site-packages (0.42.1)\n",
      "Collecting qiskit\n",
      "  Downloading qiskit-0.43.0.tar.gz (10.0 kB)\n",
      "  Installing build dependencies ... \u001b[?25ldone\n",
      "\u001b[?25h  Getting requirements to build wheel ... \u001b[?25ldone\n",
      "\u001b[?25h  Installing backend dependencies ... \u001b[?25ldone\n",
      "\u001b[?25h    Preparing wheel metadata ... \u001b[?25ldone\n",
      "\u001b[?25hRequirement already satisfied: qiskit-ibmq-provider==0.20.2 in /opt/anaconda3/lib/python3.8/site-packages (from qiskit) (0.20.2)\n",
      "Collecting qiskit-terra==0.24.0\n",
      "  Downloading qiskit_terra-0.24.0-cp38-cp38-macosx_10_9_x86_64.whl (5.2 MB)\n",
      "\u001b[K     |████████████████████████████████| 5.2 MB 3.9 MB/s eta 0:00:01\n",
      "\u001b[?25hRequirement already satisfied: qiskit-aer==0.12.0 in /opt/anaconda3/lib/python3.8/site-packages (from qiskit) (0.12.0)\n",
      "Requirement already satisfied: numpy>=1.16.3 in /opt/anaconda3/lib/python3.8/site-packages (from qiskit-aer==0.12.0->qiskit) (1.23.5)\n",
      "Requirement already satisfied: scipy>=1.0 in /opt/anaconda3/lib/python3.8/site-packages (from qiskit-aer==0.12.0->qiskit) (1.10.1)\n",
      "Requirement already satisfied: requests>=2.19 in /opt/anaconda3/lib/python3.8/site-packages (from qiskit-ibmq-provider==0.20.2->qiskit) (2.25.1)\n",
      "Requirement already satisfied: python-dateutil>=2.8.0 in /opt/anaconda3/lib/python3.8/site-packages (from qiskit-ibmq-provider==0.20.2->qiskit) (2.8.1)\n",
      "Requirement already satisfied: urllib3>=1.21.1 in /opt/anaconda3/lib/python3.8/site-packages (from qiskit-ibmq-provider==0.20.2->qiskit) (1.26.4)\n",
      "Requirement already satisfied: websocket-client>=1.5.1 in /opt/anaconda3/lib/python3.8/site-packages (from qiskit-ibmq-provider==0.20.2->qiskit) (1.5.1)\n",
      "Requirement already satisfied: requests-ntlm<=1.1.0 in /opt/anaconda3/lib/python3.8/site-packages (from qiskit-ibmq-provider==0.20.2->qiskit) (1.1.0)\n",
      "Requirement already satisfied: websockets>=10.0 in /opt/anaconda3/lib/python3.8/site-packages (from qiskit-ibmq-provider==0.20.2->qiskit) (11.0.2)\n",
      "Requirement already satisfied: psutil>=5 in /opt/anaconda3/lib/python3.8/site-packages (from qiskit-terra==0.24.0->qiskit) (5.8.0)\n",
      "Collecting symengine<0.10,>=0.9\n",
      "  Downloading symengine-0.9.2-cp38-cp38-macosx_10_9_x86_64.whl (17.7 MB)\n",
      "\u001b[K     |████████████████████████████████| 17.7 MB 41.1 MB/s eta 0:00:01\n",
      "\u001b[?25hRequirement already satisfied: stevedore>=3.0.0 in /opt/anaconda3/lib/python3.8/site-packages (from qiskit-terra==0.24.0->qiskit) (5.0.0)\n",
      "Requirement already satisfied: rustworkx>=0.12.0 in /opt/anaconda3/lib/python3.8/site-packages (from qiskit-terra==0.24.0->qiskit) (0.12.1)\n",
      "Requirement already satisfied: ply>=3.10 in /opt/anaconda3/lib/python3.8/site-packages (from qiskit-terra==0.24.0->qiskit) (3.11)\n",
      "Requirement already satisfied: dill>=0.3 in /opt/anaconda3/lib/python3.8/site-packages (from qiskit-terra==0.24.0->qiskit) (0.3.6)\n",
      "Requirement already satisfied: sympy>=1.3 in /opt/anaconda3/lib/python3.8/site-packages (from qiskit-terra==0.24.0->qiskit) (1.11.1)\n",
      "Requirement already satisfied: six>=1.5 in /opt/anaconda3/lib/python3.8/site-packages (from python-dateutil>=2.8.0->qiskit-ibmq-provider==0.20.2->qiskit) (1.15.0)\n",
      "Requirement already satisfied: chardet<5,>=3.0.2 in /opt/anaconda3/lib/python3.8/site-packages (from requests>=2.19->qiskit-ibmq-provider==0.20.2->qiskit) (4.0.0)\n",
      "Requirement already satisfied: idna<3,>=2.5 in /opt/anaconda3/lib/python3.8/site-packages (from requests>=2.19->qiskit-ibmq-provider==0.20.2->qiskit) (2.10)\n",
      "Requirement already satisfied: certifi>=2017.4.17 in /opt/anaconda3/lib/python3.8/site-packages (from requests>=2.19->qiskit-ibmq-provider==0.20.2->qiskit) (2022.12.7)\n",
      "Requirement already satisfied: cryptography>=1.3 in /opt/anaconda3/lib/python3.8/site-packages (from requests-ntlm<=1.1.0->qiskit-ibmq-provider==0.20.2->qiskit) (3.4.7)\n",
      "Requirement already satisfied: ntlm-auth>=1.0.2 in /opt/anaconda3/lib/python3.8/site-packages (from requests-ntlm<=1.1.0->qiskit-ibmq-provider==0.20.2->qiskit) (1.5.0)\n",
      "Requirement already satisfied: cffi>=1.12 in /opt/anaconda3/lib/python3.8/site-packages (from cryptography>=1.3->requests-ntlm<=1.1.0->qiskit-ibmq-provider==0.20.2->qiskit) (1.14.5)\n",
      "Requirement already satisfied: pycparser in /opt/anaconda3/lib/python3.8/site-packages (from cffi>=1.12->cryptography>=1.3->requests-ntlm<=1.1.0->qiskit-ibmq-provider==0.20.2->qiskit) (2.20)\n",
      "Requirement already satisfied: pbr!=2.1.0,>=2.0.0 in /opt/anaconda3/lib/python3.8/site-packages (from stevedore>=3.0.0->qiskit-terra==0.24.0->qiskit) (5.11.1)\n",
      "Requirement already satisfied: mpmath>=0.19 in /opt/anaconda3/lib/python3.8/site-packages (from sympy>=1.3->qiskit-terra==0.24.0->qiskit) (1.2.1)\n",
      "Building wheels for collected packages: qiskit\n",
      "  Building wheel for qiskit (PEP 517) ... \u001b[?25ldone\n",
      "\u001b[?25h  Created wheel for qiskit: filename=qiskit-0.43.0-py3-none-any.whl size=7996 sha256=e4a38650ec34ec5171e63c3a6530442eedaed23fb28c10b03aa3dc155fc9b09a\n",
      "  Stored in directory: /Users/koichiro/Library/Caches/pip/wheels/4c/50/5d/d328e7c261525a18b321185d6073494990134f0b839c448ab1\n",
      "Successfully built qiskit\n",
      "Installing collected packages: symengine, qiskit-terra, qiskit\n",
      "  Attempting uninstall: symengine\n",
      "    Found existing installation: symengine 0.10.0\n",
      "    Uninstalling symengine-0.10.0:\n",
      "      Successfully uninstalled symengine-0.10.0\n",
      "  Attempting uninstall: qiskit-terra\n",
      "    Found existing installation: qiskit-terra 0.23.3\n",
      "    Uninstalling qiskit-terra-0.23.3:\n",
      "      Successfully uninstalled qiskit-terra-0.23.3\n",
      "  Attempting uninstall: qiskit\n",
      "    Found existing installation: qiskit 0.42.1\n",
      "    Uninstalling qiskit-0.42.1:\n",
      "      Successfully uninstalled qiskit-0.42.1\n",
      "Successfully installed qiskit-0.43.0 qiskit-terra-0.24.0 symengine-0.9.2\n"
     ]
    }
   ],
   "source": [
    "!pip install --upgrade qiskit"
   ]
  },
  {
   "cell_type": "markdown",
   "id": "b8b668f1",
   "metadata": {},
   "source": [
    "# Basics of quantum information\n",
    "By Qiskit"
   ]
  },
  {
   "cell_type": "markdown",
   "id": "56cafe23",
   "metadata": {},
   "source": [
    "## Single systems"
   ]
  },
  {
   "cell_type": "code",
   "execution_count": 2,
   "id": "6e52a18d",
   "metadata": {},
   "outputs": [
    {
     "data": {
      "text/plain": [
       "array([0.5, 0.5])"
      ]
     },
     "metadata": {},
     "output_type": "display_data"
    }
   ],
   "source": [
    "from numpy import array\n",
    "\n",
    "ket0 = array([1, 0])\n",
    "ket1 = array([0, 1])\n",
    "\n",
    "display(ket0/2 + ket1/2)"
   ]
  },
  {
   "cell_type": "code",
   "execution_count": 3,
   "id": "66bb6891",
   "metadata": {},
   "outputs": [
    {
     "data": {
      "text/plain": [
       "array([0.5, 0.5])"
      ]
     },
     "execution_count": 3,
     "metadata": {},
     "output_type": "execute_result"
    }
   ],
   "source": [
    "ket0/2 + ket1/2"
   ]
  },
  {
   "cell_type": "code",
   "execution_count": 4,
   "id": "20320ea2",
   "metadata": {},
   "outputs": [
    {
     "data": {
      "text/plain": [
       "array([[1. , 1. ],\n",
       "       [0.5, 0. ]])"
      ]
     },
     "execution_count": 4,
     "metadata": {},
     "output_type": "execute_result"
    }
   ],
   "source": [
    "M1 = array([ [1, 1], [0, 0]])\n",
    "M2 = array([ [1, 1], [1, 0]])\n",
    "\n",
    "M1/2 + M2/2"
   ]
  },
  {
   "cell_type": "markdown",
   "id": "6313a57d",
   "metadata": {},
   "source": [
    "### Matrix multplication"
   ]
  },
  {
   "cell_type": "code",
   "execution_count": 5,
   "id": "2a38a585",
   "metadata": {},
   "outputs": [
    {
     "data": {
      "text/plain": [
       "array([1, 0])"
      ]
     },
     "metadata": {},
     "output_type": "display_data"
    },
    {
     "data": {
      "text/plain": [
       "array([[2, 1],\n",
       "       [0, 0]])"
      ]
     },
     "metadata": {},
     "output_type": "display_data"
    },
    {
     "data": {
      "text/plain": [
       "array([[1, 1],\n",
       "       [1, 1]])"
      ]
     },
     "metadata": {},
     "output_type": "display_data"
    }
   ],
   "source": [
    "from numpy import matmul\n",
    "\n",
    "display(matmul(M1,ket1))\n",
    "display(matmul(M1,M2))\n",
    "display(matmul(M2,M1))"
   ]
  },
  {
   "cell_type": "markdown",
   "id": "dfb7a2ef",
   "metadata": {},
   "source": [
    "### Qiskit's Statevector\n",
    "We can define the quantum state vector with the functionality"
   ]
  },
  {
   "cell_type": "code",
   "execution_count": 6,
   "id": "a024f358",
   "metadata": {},
   "outputs": [
    {
     "name": "stdout",
     "output_type": "stream",
     "text": [
      "State vector u, v, and w have been defined.\n"
     ]
    }
   ],
   "source": [
    "from qiskit.quantum_info import Statevector\n",
    "from numpy import sqrt\n",
    "\n",
    "u = Statevector([1/sqrt(2), 1/sqrt(2)])\n",
    "v = Statevector([(1+2j)/3, -2/3])\n",
    "w = Statevector([1/3, 2/3])\n",
    "\n",
    "print( \"State vector u, v, and w have been defined.\")"
   ]
  },
  {
   "cell_type": "markdown",
   "id": "16f5611d",
   "metadata": {},
   "source": [
    "*Statevector* class has a **draw** method for displaying the state vectors neatly."
   ]
  },
  {
   "cell_type": "code",
   "execution_count": 7,
   "id": "975d8ef9",
   "metadata": {},
   "outputs": [
    {
     "data": {
      "text/latex": [
       "$$\\frac{\\sqrt{2}}{2} |0\\rangle+\\frac{\\sqrt{2}}{2} |1\\rangle$$"
      ],
      "text/plain": [
       "<IPython.core.display.Latex object>"
      ]
     },
     "metadata": {},
     "output_type": "display_data"
    },
    {
     "data": {
      "text/plain": [
       "[ 0.33333333+0.66666667j,-0.66666667+0.j        ]"
      ]
     },
     "metadata": {},
     "output_type": "display_data"
    }
   ],
   "source": [
    "display(u.draw('latex'))\n",
    "display(v.draw('text'))"
   ]
  },
  {
   "cell_type": "markdown",
   "id": "3a042e76",
   "metadata": {},
   "source": [
    "Also we can check the normality by **is_valid()** method"
   ]
  },
  {
   "cell_type": "code",
   "execution_count": 8,
   "id": "978c8338",
   "metadata": {},
   "outputs": [
    {
     "data": {
      "text/plain": [
       "True"
      ]
     },
     "metadata": {},
     "output_type": "display_data"
    },
    {
     "data": {
      "text/plain": [
       "True"
      ]
     },
     "metadata": {},
     "output_type": "display_data"
    },
    {
     "data": {
      "text/plain": [
       "False"
      ]
     },
     "metadata": {},
     "output_type": "display_data"
    }
   ],
   "source": [
    "display(u.is_valid())\n",
    "display(v.is_valid())\n",
    "display(w.is_valid())"
   ]
  },
  {
   "cell_type": "code",
   "execution_count": 9,
   "id": "a2006cd0",
   "metadata": {},
   "outputs": [
    {
     "data": {
      "text/latex": [
       "$$(\\frac{1}{3} + \\frac{2 i}{3}) |0\\rangle- \\frac{2}{3} |1\\rangle$$"
      ],
      "text/plain": [
       "<IPython.core.display.Latex object>"
      ]
     },
     "execution_count": 9,
     "metadata": {},
     "output_type": "execute_result"
    }
   ],
   "source": [
    "p = Statevector([(1+2.j)/3, -2/3])\n",
    "p.draw('latex') "
   ]
  },
  {
   "cell_type": "markdown",
   "id": "af326c78",
   "metadata": {},
   "source": [
    "## Simulating measurements using Statevector\n",
    "We can simulate the quantum measurements by **measure()** method"
   ]
  },
  {
   "cell_type": "code",
   "execution_count": 10,
   "id": "ac9d6f38",
   "metadata": {},
   "outputs": [
    {
     "data": {
      "text/plain": [
       "('1',\n",
       " Statevector([ 0.+0.j, -1.+0.j],\n",
       "             dims=(2,)))"
      ]
     },
     "execution_count": 10,
     "metadata": {},
     "output_type": "execute_result"
    }
   ],
   "source": [
    "v.measure()"
   ]
  },
  {
   "cell_type": "markdown",
   "id": "624fd3b4",
   "metadata": {},
   "source": [
    "**measure()** gives you the error if Statevector is not normalized"
   ]
  },
  {
   "cell_type": "code",
   "execution_count": 11,
   "id": "43c4b663",
   "metadata": {},
   "outputs": [],
   "source": [
    "m = Statevector([1,1])\n",
    "#m.measure()"
   ]
  },
  {
   "cell_type": "markdown",
   "id": "d4f43bf3",
   "metadata": {},
   "source": [
    "**plot_histogram** method makes the histogram"
   ]
  },
  {
   "cell_type": "code",
   "execution_count": 12,
   "id": "2414a5cd",
   "metadata": {},
   "outputs": [],
   "source": [
    "from qiskit.visualization import plot_histogram"
   ]
  },
  {
   "cell_type": "markdown",
   "id": "3e4ba50e",
   "metadata": {},
   "source": [
    "**sample_counts(#number)** method does the **measure()** method for a sample initial quantum state vector #number times"
   ]
  },
  {
   "cell_type": "code",
   "execution_count": 13,
   "id": "801db6bc",
   "metadata": {},
   "outputs": [
    {
     "data": {
      "text/plain": [
       "{'0': 548, '1': 452}"
      ]
     },
     "metadata": {},
     "output_type": "display_data"
    },
    {
     "data": {
      "image/png": "[encoded data removed]",
      "text/plain": [
       "<Figure size 504x360 with 1 Axes>"
      ]
     },
     "execution_count": 13,
     "metadata": {},
     "output_type": "execute_result"
    }
   ],
   "source": [
    "statistics = v.sample_counts(1000)\n",
    "display(statistics)\n",
    "plot_histogram(statistics)"
   ]
  },
  {
   "cell_type": "markdown",
   "id": "524378d2",
   "metadata": {},
   "source": [
    "## Performing operatins with Operator and Statevector\n",
    "Unitary oparators can be defined by **Operator**,\n",
    "and performed by **evolve(Operator)** method."
   ]
  },
  {
   "cell_type": "code",
   "execution_count": 14,
   "id": "bb8dcdf7",
   "metadata": {},
   "outputs": [],
   "source": [
    "from qiskit.quantum_info import Operator"
   ]
  },
  {
   "cell_type": "code",
   "execution_count": 15,
   "id": "354b4d50",
   "metadata": {},
   "outputs": [
    {
     "data": {
      "text/plain": [
       "Operator([[0.+0.j, 1.+0.j],\n",
       "          [1.+0.j, 0.+0.j]],\n",
       "         input_dims=(2,), output_dims=(2,))"
      ]
     },
     "metadata": {},
     "output_type": "display_data"
    }
   ],
   "source": [
    "X = Operator([ [0,1],  [1,0] ] ) # NOT\n",
    "Y = Operator([ [0,-1j], [1j,0] ])\n",
    "Z = Operator([ [1,0], [0,-1] ]) # Phase flip\n",
    "H = Operator([ [1/sqrt(2),1/sqrt(2)], [1/sqrt(2), -1/sqrt(2)] ]) # Hadamard operator\n",
    "S = Operator([ [1,0], [0,1j] ]) # P pi/2\n",
    "T = Operator([ [1,0], [0, (1+1j)/sqrt(2)] ])\n",
    "\n",
    "display(X)"
   ]
  },
  {
   "cell_type": "markdown",
   "id": "628ed77a",
   "metadata": {},
   "source": [
    "Let's operate NOT operator"
   ]
  },
  {
   "cell_type": "code",
   "execution_count": 16,
   "id": "f49ba476",
   "metadata": {},
   "outputs": [
    {
     "data": {
      "text/latex": [
       "$$ |0\\rangle$$"
      ],
      "text/plain": [
       "<IPython.core.display.Latex object>"
      ]
     },
     "metadata": {},
     "output_type": "display_data"
    },
    {
     "data": {
      "text/latex": [
       "$$ |1\\rangle$$"
      ],
      "text/plain": [
       "<IPython.core.display.Latex object>"
      ]
     },
     "execution_count": 16,
     "metadata": {},
     "output_type": "execute_result"
    }
   ],
   "source": [
    "v = Statevector([1,0])\n",
    "display(v.draw('latex'))\n",
    "\n",
    "v = v.evolve(X)\n",
    "v.draw('latex')"
   ]
  },
  {
   "cell_type": "markdown",
   "id": "3170725d",
   "metadata": {},
   "source": [
    "### Looking ahead toward quantum circuits"
   ]
  },
  {
   "cell_type": "code",
   "execution_count": 17,
   "id": "e16fdcc0",
   "metadata": {},
   "outputs": [],
   "source": [
    "from qiskit import QuantumCircuit"
   ]
  },
  {
   "cell_type": "code",
   "execution_count": 18,
   "id": "5822d494",
   "metadata": {},
   "outputs": [],
   "source": [
    "circuit = QuantumCircuit(1)"
   ]
  },
  {
   "cell_type": "code",
   "execution_count": 19,
   "id": "bc32701f",
   "metadata": {},
   "outputs": [
    {
     "data": {
      "text/html": [
       "<pre style=\"word-wrap: normal;white-space: pre;background: #fff0;line-height: 1.1;font-family: &quot;Courier New&quot;,Courier,monospace\">   ┌───┐┌───┐┌───┐┌───┐┌───┐\n",
       "q: ┤ H ├┤ T ├┤ H ├┤ T ├┤ Z ├\n",
       "   └───┘└───┘└───┘└───┘└───┘</pre>"
      ],
      "text/plain": [
       "   ┌───┐┌───┐┌───┐┌───┐┌───┐\n",
       "q: ┤ H ├┤ T ├┤ H ├┤ T ├┤ Z ├\n",
       "   └───┘└───┘└───┘└───┘└───┘"
      ]
     },
     "execution_count": 19,
     "metadata": {},
     "output_type": "execute_result"
    }
   ],
   "source": [
    "circuit.h(0)\n",
    "circuit.t(0)\n",
    "circuit.h(0)\n",
    "circuit.t(0)\n",
    "circuit.z(0)\n",
    "\n",
    "circuit.draw()"
   ]
  },
  {
   "cell_type": "code",
   "execution_count": 20,
   "id": "c2452270",
   "metadata": {},
   "outputs": [
    {
     "data": {
      "text/latex": [
       "$$(0.8535533906 + 0.3535533906 i) |0\\rangle+(-0.3535533906 + 0.1464466094 i) |1\\rangle$$"
      ],
      "text/plain": [
       "<IPython.core.display.Latex object>"
      ]
     },
     "execution_count": 20,
     "metadata": {},
     "output_type": "execute_result"
    }
   ],
   "source": [
    "ket0 = Statevector([1,0])\n",
    "v = ket0.evolve(circuit)\n",
    "v.draw('latex')"
   ]
  },
  {
   "cell_type": "code",
   "execution_count": 21,
   "id": "b343d830",
   "metadata": {},
   "outputs": [
    {
     "data": {
      "image/png": "[encoded data removed]",
      "text/plain": [
       "<Figure size 504x360 with 1 Axes>"
      ]
     },
     "execution_count": 21,
     "metadata": {},
     "output_type": "execute_result"
    }
   ],
   "source": [
    "statistics = v.sample_counts(4000)\n",
    "plot_histogram(statistics)"
   ]
  },
  {
   "cell_type": "code",
   "execution_count": 22,
   "id": "ede97b05",
   "metadata": {},
   "outputs": [],
   "source": [
    "from qiskit.quantum_info import Statevector, Operator"
   ]
  },
  {
   "cell_type": "markdown",
   "id": "7712544e",
   "metadata": {},
   "source": [
    "We can use **v.tensor(u)** method to take a tensor product"
   ]
  },
  {
   "cell_type": "code",
   "execution_count": 24,
   "id": "20bf1452",
   "metadata": {},
   "outputs": [
    {
     "data": {
      "text/latex": [
       "$$ |01\\rangle$$"
      ],
      "text/plain": [
       "<IPython.core.display.Latex object>"
      ]
     },
     "execution_count": 24,
     "metadata": {},
     "output_type": "execute_result"
    }
   ],
   "source": [
    "zero, one = Statevector.from_label('0'), Statevector.from_label('1')\n",
    "a = zero.tensor(one) # returns new 'Statevector' 0×1\n",
    "\n",
    "a.draw('latex')"
   ]
  },
  {
   "cell_type": "code",
   "execution_count": 28,
   "id": "6aa8ab2c",
   "metadata": {},
   "outputs": [
    {
     "data": {
      "text/latex": [
       "$$\\frac{1}{2} |00\\rangle+\\frac{i}{2} |01\\rangle+\\frac{1}{2} |10\\rangle+\\frac{i}{2} |11\\rangle$$"
      ],
      "text/plain": [
       "<IPython.core.display.Latex object>"
      ]
     },
     "execution_count": 28,
     "metadata": {},
     "output_type": "execute_result"
    }
   ],
   "source": [
    "from numpy import sqrt\n",
    "plus = Statevector.from_label('+')\n",
    "i_state = Statevector([1/sqrt(2), 1j/sqrt(2)])\n",
    "\n",
    "psi = plus.tensor(i_state)\n",
    "psi.draw('latex')"
   ]
  },
  {
   "cell_type": "code",
   "execution_count": 32,
   "id": "b82f1b47",
   "metadata": {},
   "outputs": [
    {
     "data": {
      "text/plain": [
       "Operator([[0.+0.j, 0.+0.j, 1.+0.j, 0.+0.j],\n",
       "          [0.+0.j, 0.+0.j, 0.+0.j, 1.+0.j],\n",
       "          [1.+0.j, 0.+0.j, 0.+0.j, 0.+0.j],\n",
       "          [0.+0.j, 1.+0.j, 0.+0.j, 0.+0.j]],\n",
       "         input_dims=(2, 2), output_dims=(2, 2))"
      ]
     },
     "execution_count": 32,
     "metadata": {},
     "output_type": "execute_result"
    }
   ],
   "source": [
    "X = Operator([ [0,1], [1,0] ])\n",
    "I = Operator([ [1,0], [0,1] ])\n",
    "\n",
    "X.tensor(I)"
   ]
  },
  {
   "cell_type": "markdown",
   "id": "3a87ebb0",
   "metadata": {},
   "source": [
    "We can teke a tensor product by just **^**"
   ]
  },
  {
   "cell_type": "code",
   "execution_count": 35,
   "id": "7a88384a",
   "metadata": {},
   "outputs": [
    {
     "data": {
      "text/latex": [
       "$$\\frac{i}{2} |00\\rangle+\\frac{1}{2} |01\\rangle+\\frac{i}{2} |10\\rangle+\\frac{1}{2} |11\\rangle$$"
      ],
      "text/plain": [
       "<IPython.core.display.Latex object>"
      ]
     },
     "execution_count": 35,
     "metadata": {},
     "output_type": "execute_result"
    }
   ],
   "source": [
    "(psi.evolve(I^X)).draw('latex')"
   ]
  },
  {
   "cell_type": "code",
   "execution_count": 38,
   "id": "501f3630",
   "metadata": {},
   "outputs": [
    {
     "data": {
      "text/latex": [
       "$$\\frac{1}{2} |00\\rangle+\\frac{i}{2} |01\\rangle+\\frac{i}{2} |10\\rangle+\\frac{1}{2} |11\\rangle$$"
      ],
      "text/plain": [
       "<IPython.core.display.Latex object>"
      ]
     },
     "execution_count": 38,
     "metadata": {},
     "output_type": "execute_result"
    }
   ],
   "source": [
    "CNOT = Operator([ [1, 0, 0, 0],\n",
    "                 [0, 1, 0, 0],\n",
    "                 [0, 0, 0, 1],\n",
    "                 [0, 0, 1, 0]])\n",
    "(psi.evolve(CNOT)).draw('latex')"
   ]
  },
  {
   "cell_type": "code",
   "execution_count": 40,
   "id": "6f940ebd",
   "metadata": {},
   "outputs": [
    {
     "data": {
      "text/latex": [
       "$$ |0\\rangle$$"
      ],
      "text/plain": [
       "<IPython.core.display.Latex object>"
      ]
     },
     "metadata": {},
     "output_type": "display_data"
    },
    {
     "data": {
      "text/latex": [
       "$$ |1\\rangle$$"
      ],
      "text/plain": [
       "<IPython.core.display.Latex object>"
      ]
     },
     "metadata": {},
     "output_type": "display_data"
    }
   ],
   "source": [
    "display(zero.draw('latex'))\n",
    "display(one.draw('latex'))"
   ]
  },
  {
   "cell_type": "code",
   "execution_count": 47,
   "id": "33cb7697",
   "metadata": {},
   "outputs": [
    {
     "data": {
      "text/latex": [
       "$$ |01\\rangle$$"
      ],
      "text/plain": [
       "<IPython.core.display.Latex object>"
      ]
     },
     "execution_count": 47,
     "metadata": {},
     "output_type": "execute_result"
    }
   ],
   "source": [
    "zeroone = zero.tensor(one)\n",
    "zeroone.draw('latex')"
   ]
  },
  {
   "cell_type": "code",
   "execution_count": 58,
   "id": "0d5fa845",
   "metadata": {},
   "outputs": [
    {
     "data": {
      "text/latex": [
       "$$\\frac{\\sqrt{3}}{3} |001\\rangle+\\frac{\\sqrt{3}}{3} |010\\rangle+\\frac{\\sqrt{3}}{3} |100\\rangle$$"
      ],
      "text/plain": [
       "<IPython.core.display.Latex object>"
      ]
     },
     "execution_count": 58,
     "metadata": {},
     "output_type": "execute_result"
    }
   ],
   "source": [
    "from numpy import sqrt\n",
    "W = Statevector([0,1,1,0,1,0,0,0]/sqrt(3))\n",
    "W.draw('latex')"
   ]
  },
  {
   "cell_type": "markdown",
   "id": "149b7845",
   "metadata": {},
   "source": [
    "**.measure()** method gives you the result and the updated state."
   ]
  },
  {
   "cell_type": "code",
   "execution_count": 60,
   "id": "d8c546d8",
   "metadata": {},
   "outputs": [
    {
     "name": "stdout",
     "output_type": "stream",
     "text": [
      "Measured: 0\n",
      "State after measurement:\n"
     ]
    },
    {
     "data": {
      "text/latex": [
       "$$\\frac{\\sqrt{2}}{2} |010\\rangle+\\frac{\\sqrt{2}}{2} |100\\rangle$$"
      ],
      "text/plain": [
       "<IPython.core.display.Latex object>"
      ]
     },
     "execution_count": 60,
     "metadata": {},
     "output_type": "execute_result"
    }
   ],
   "source": [
    "result, new_sv = W.measure([0]) # measure qubit 0\n",
    "print(f'Measured: {result}\\nState after measurement:')\n",
    "new_sv.draw('latex')"
   ]
  },
  {
   "cell_type": "code",
   "execution_count": 76,
   "id": "090a2ab2",
   "metadata": {},
   "outputs": [
    {
     "data": {
      "text/latex": [
       "$$\\frac{\\sqrt{6}}{6} |000\\rangle- \\frac{\\sqrt{6}}{6} |001\\rangle+\\frac{\\sqrt{6}}{6} |010\\rangle+\\frac{\\sqrt{6}}{6} |011\\rangle+\\frac{\\sqrt{6}}{6} |100\\rangle+\\frac{\\sqrt{6}}{6} |101\\rangle$$"
      ],
      "text/plain": [
       "<IPython.core.display.Latex object>"
      ]
     },
     "metadata": {},
     "output_type": "display_data"
    },
    {
     "name": "stdout",
     "output_type": "stream",
     "text": [
      "1\n"
     ]
    },
    {
     "data": {
      "text/latex": [
       "$$- \\frac{\\sqrt{3}}{3} |001\\rangle+\\frac{\\sqrt{3}}{3} |011\\rangle+\\frac{\\sqrt{3}}{3} |101\\rangle$$"
      ],
      "text/plain": [
       "<IPython.core.display.Latex object>"
      ]
     },
     "execution_count": 76,
     "metadata": {},
     "output_type": "execute_result"
    }
   ],
   "source": [
    "W.draw('latex')\n",
    "ev = W.evolve(I^I^H)\n",
    "display(ev.draw('latex'))\n",
    "statistics = ev.sample_counts(4000)\n",
    "plot_histogram(statistics)\n",
    "result, new_ev = ev.measure([0])\n",
    "print(result)\n",
    "new_ev.draw('latex')"
   ]
  },
  {
   "cell_type": "code",
   "execution_count": 77,
   "id": "b81fdca2",
   "metadata": {},
   "outputs": [
    {
     "data": {
      "text/html": [
       "<h3>Version Information</h3><table><tr><th>Qiskit Software</th><th>Version</th></tr><tr><td><code>qiskit-terra</code></td><td>0.24.0</td></tr><tr><td><code>qiskit-aer</code></td><td>0.12.0</td></tr><tr><td><code>qiskit-ibmq-provider</code></td><td>0.20.2</td></tr><tr><td><code>qiskit</code></td><td>0.43.0</td></tr><tr><th>System information</th></tr><tr><td>Python version</td><td>3.8.8</td></tr><tr><td>Python compiler</td><td>Clang 10.0.0 </td></tr><tr><td>Python build</td><td>default, Apr 13 2021 12:59:45</td></tr><tr><td>OS</td><td>Darwin</td></tr><tr><td>CPUs</td><td>8</td></tr><tr><td>Memory (Gb)</td><td>8.0</td></tr><tr><td colspan='2'>Tue May 09 14:46:46 2023 EDT</td></tr></table>"
      ],
      "text/plain": [
       "<IPython.core.display.HTML object>"
      ]
     },
     "metadata": {},
     "output_type": "display_data"
    }
   ],
   "source": [
    "import qiskit.tools.jupyter\n",
    "%qiskit_version_table"
   ]
  },
  {
   "cell_type": "code",
   "execution_count": 88,
   "id": "20e8a0c5",
   "metadata": {},
   "outputs": [
    {
     "data": {
      "text/html": [
       "<pre style=\"word-wrap: normal;white-space: pre;background: #fff0;line-height: 1.1;font-family: &quot;Courier New&quot;,Courier,monospace\">   ┌───┐┌───┐┌───┐┌───┐\n",
       "q: ┤ H ├┤ S ├┤ H ├┤ T ├\n",
       "   └───┘└───┘└───┘└───┘</pre>"
      ],
      "text/plain": [
       "   ┌───┐┌───┐┌───┐┌───┐\n",
       "q: ┤ H ├┤ S ├┤ H ├┤ T ├\n",
       "   └───┘└───┘└───┘└───┘"
      ]
     },
     "execution_count": 88,
     "metadata": {},
     "output_type": "execute_result"
    }
   ],
   "source": [
    "from qiskit import QuantumCircuit\n",
    "circuit = QuantumCircuit(1) # QuantumCircuit(number) and number is the number of circuit line.\n",
    "circuit.h(0)\n",
    "circuit.s(0)\n",
    "circuit.h(0)\n",
    "circuit.t(0)\n",
    "circuit.draw()"
   ]
  },
  {
   "cell_type": "code",
   "execution_count": 98,
   "id": "852d8d06",
   "metadata": {},
   "outputs": [
    {
     "data": {
      "text/html": [
       "<pre style=\"word-wrap: normal;white-space: pre;background: #fff0;line-height: 1.1;font-family: &quot;Courier New&quot;,Courier,monospace\">   ┌───┐┌───┐┌───┐┌───┐\n",
       "x: ┤ H ├┤ S ├┤ H ├┤ T ├\n",
       "   └───┘└───┘└───┘└───┘</pre>"
      ],
      "text/plain": [
       "   ┌───┐┌───┐┌───┐┌───┐\n",
       "x: ┤ H ├┤ S ├┤ H ├┤ T ├\n",
       "   └───┘└───┘└───┘└───┘"
      ]
     },
     "execution_count": 98,
     "metadata": {},
     "output_type": "execute_result"
    }
   ],
   "source": [
    "from qiskit import QuantumCircuit, QuantumRegister\n",
    "X = QuantumRegister(1, \"x\") # You can label it!\n",
    "circuit = QuantumCircuit(X)\n",
    "circuit.h(X)\n",
    "circuit.s(X)\n",
    "circuit.h(X)\n",
    "circuit.t(X)\n",
    "circuit.draw()"
   ]
  },
  {
   "cell_type": "code",
   "execution_count": 103,
   "id": "55ec2b33",
   "metadata": {},
   "outputs": [
    {
     "data": {
      "text/html": [
       "<pre style=\"word-wrap: normal;white-space: pre;background: #fff0;line-height: 1.1;font-family: &quot;Courier New&quot;,Courier,monospace\">     ┌───┐     ┌─┐   \n",
       "  y: ┤ H ├──■──┤M├───\n",
       "     └───┘┌─┴─┐└╥┘┌─┐\n",
       "  x: ─────┤ X ├─╫─┤M├\n",
       "          └───┘ ║ └╥┘\n",
       "b: 1/═══════════╩══╬═\n",
       "                0  ║ \n",
       "a: 1/══════════════╩═\n",
       "                   0 </pre>"
      ],
      "text/plain": [
       "     ┌───┐     ┌─┐   \n",
       "  y: ┤ H ├──■──┤M├───\n",
       "     └───┘┌─┴─┐└╥┘┌─┐\n",
       "  x: ─────┤ X ├─╫─┤M├\n",
       "          └───┘ ║ └╥┘\n",
       "b: 1/═══════════╩══╬═\n",
       "                0  ║ \n",
       "a: 1/══════════════╩═\n",
       "                   0 "
      ]
     },
     "execution_count": 103,
     "metadata": {},
     "output_type": "execute_result"
    }
   ],
   "source": [
    "from qiskit import QuantumCircuit, QuantumRegister, ClassicalRegister\n",
    "X = QuantumRegister(1, \"x\")\n",
    "Y = QuantumRegister(1, \"y\")\n",
    "A = ClassicalRegister(1, \"a\")\n",
    "B = ClassicalRegister(1, \"b\")\n",
    "circuit = QuantumCircuit(Y, X, B, A)\n",
    "circuit.h(Y)\n",
    "circuit.cx(Y, X)\n",
    "\n",
    "circuit.measure(Y, B)\n",
    "circuit.measure(X, A)\n",
    "circuit.draw()"
   ]
  },
  {
   "cell_type": "code",
   "execution_count": 110,
   "id": "d4c20583",
   "metadata": {},
   "outputs": [
    {
     "data": {
      "image/png": "[encoded data removed]",
      "text/plain": [
       "<Figure size 504x360 with 1 Axes>"
      ]
     },
     "execution_count": 110,
     "metadata": {},
     "output_type": "execute_result"
    }
   ],
   "source": [
    "from qiskit import transpile\n",
    "from qiskit.visualization import plot_histogram\n",
    "from qiskit_aer import AerSimulator\n",
    "\n",
    "simulator = AerSimulator()\n",
    "circuit_simulator = simulator.run(transpile(circuit, simulator), shots = 1000)\n",
    "statistics = circuit_simulator.result().get_counts()\n",
    "plot_histogram(statistics)"
   ]
  },
  {
   "cell_type": "code",
   "execution_count": 112,
   "id": "d776d2d4",
   "metadata": {},
   "outputs": [
    {
     "data": {
      "text/html": [
       "<pre style=\"word-wrap: normal;white-space: pre;background: #fff0;line-height: 1.1;font-family: &quot;Courier New&quot;,Courier,monospace\">              ░      ┌───┐ ░    ┌─┐ ░                         \n",
       "Q: ───────────░───■──┤ H ├─░────┤M├─░─────────────────────────\n",
       "   ┌───┐      ░ ┌─┴─┐└───┘ ░ ┌─┐└╥┘ ░                         \n",
       "A: ┤ H ├──■───░─┤ X ├──────░─┤M├─╫──░─────────────────────────\n",
       "   └───┘┌─┴─┐ ░ └───┘      ░ └╥┘ ║  ░ ┌──────────┐┌──────────┐\n",
       "B: ─────┤ X ├─░────────────░──╫──╫──░─┤0         ├┤0         ├\n",
       "        └───┘ ░            ░  ║  ║  ░ │  If_else ││          │\n",
       "a: ═══════════════════════════╩══╬════╡0         ╞╡          ╞\n",
       "                                 ║    └──────────┘│          │\n",
       "b: ══════════════════════════════╩════════════════╡0         ╞\n",
       "                                                  └──────────┘</pre>"
      ],
      "text/plain": [
       "              ░      ┌───┐ ░    ┌─┐ ░                         \n",
       "Q: ───────────░───■──┤ H ├─░────┤M├─░─────────────────────────\n",
       "   ┌───┐      ░ ┌─┴─┐└───┘ ░ ┌─┐└╥┘ ░                         \n",
       "A: ┤ H ├──■───░─┤ X ├──────░─┤M├─╫──░─────────────────────────\n",
       "   └───┘┌─┴─┐ ░ └───┘      ░ └╥┘ ║  ░ ┌──────────┐┌──────────┐\n",
       "B: ─────┤ X ├─░────────────░──╫──╫──░─┤0         ├┤0         ├\n",
       "        └───┘ ░            ░  ║  ║  ░ │  If_else ││          │\n",
       "a: ═══════════════════════════╩══╬════╡0         ╞╡          ╞\n",
       "                                 ║    └──────────┘│          │\n",
       "b: ══════════════════════════════╩════════════════╡0         ╞\n",
       "                                                  └──────────┘"
      ]
     },
     "execution_count": 112,
     "metadata": {},
     "output_type": "execute_result"
    }
   ],
   "source": [
    "from qiskit import QuantumCircuit, QuantumRegister, ClassicalRegister\n",
    "qubit = QuantumRegister(1, \"Q\")\n",
    "ebit0 = QuantumRegister(1, \"A\")\n",
    "ebit1 = QuantumRegister(1, \"B\")\n",
    "a = ClassicalRegister(1, \"a\")\n",
    "b = ClassicalRegister(1, \"b\")\n",
    "\n",
    "protocol = QuantumCircuit(qubit, ebit0, ebit1, a, b)\n",
    "\n",
    "# Prepare ebit used for teleportation\n",
    "protocol.h(ebit0)\n",
    "protocol.cx(ebit0, ebit1)\n",
    "protocol.barrier()\n",
    "\n",
    "# Alice's operations\n",
    "protocol.cx(qubit, ebit0)\n",
    "protocol.h(qubit)\n",
    "protocol.barrier()\n",
    "\n",
    "# Alice measures and sends classical bits to Bob\n",
    "protocol.measure(ebit0, a)\n",
    "protocol.measure(qubit, b)\n",
    "protocol.barrier()\n",
    "\n",
    "# Bob uses the classical bits to conditionally apply gates\n",
    "with protocol.if_test((a, 1)):\n",
    "    protocol.x(ebit1)\n",
    "with protocol.if_test((b, 1)):\n",
    "    protocol.z(ebit1)\n",
    "\n",
    "protocol.draw()"
   ]
  },
  {
   "cell_type": "code",
   "execution_count": 113,
   "id": "ecc99b0b",
   "metadata": {},
   "outputs": [
    {
     "data": {
      "text/html": [
       "<pre style=\"word-wrap: normal;white-space: pre;background: #fff0;line-height: 1.1;font-family: &quot;Courier New&quot;,Courier,monospace\">             ┌───┐      ░                                                »\n",
       "          R: ┤ H ├──■───░────────────────────────────────────────────────»\n",
       "             └───┘┌─┴─┐ ░            ░      ┌───┐ ░    ┌─┐ ░             »\n",
       "          Q: ─────┤ X ├─░────────────░───■──┤ H ├─░────┤M├─░─────────────»\n",
       "                  └───┘ ░ ┌───┐      ░ ┌─┴─┐└───┘ ░ ┌─┐└╥┘ ░             »\n",
       "          A: ───────────░─┤ H ├──■───░─┤ X ├──────░─┤M├─╫──░─────────────»\n",
       "                        ░ └───┘┌─┴─┐ ░ └───┘      ░ └╥┘ ║  ░ ┌──────────┐»\n",
       "          B: ───────────░──────┤ X ├─░────────────░──╫──╫──░─┤0         ├»\n",
       "                        ░      └───┘ ░            ░  ║  ║  ░ │  If_else │»\n",
       "          a: ════════════════════════════════════════╩══╬════╡0         ╞»\n",
       "                                                        ║    └──────────┘»\n",
       "          b: ═══════════════════════════════════════════╩════════════════»\n",
       "                                                                         »\n",
       "Test result: ════════════════════════════════════════════════════════════»\n",
       "                                                                         »\n",
       "«                          ░      ┌───┐┌─┐\n",
       "«          R: ─────────────░───■──┤ H ├┤M├\n",
       "«                          ░   │  └───┘└╥┘\n",
       "«          Q: ─────────────░───┼────────╫─\n",
       "«                          ░   │        ║ \n",
       "«          A: ─────────────░───┼────────╫─\n",
       "«             ┌──────────┐ ░ ┌─┴─┐      ║ \n",
       "«          B: ┤0         ├─░─┤ X ├──────╫─\n",
       "«             │          │ ░ └───┘      ║ \n",
       "«          a: ╡          ╞══════════════╬═\n",
       "«             │          │              ║ \n",
       "«          b: ╡0         ╞══════════════╬═\n",
       "«             └──────────┘              ║ \n",
       "«Test result: ══════════════════════════╩═\n",
       "«                                         </pre>"
      ],
      "text/plain": [
       "             ┌───┐      ░                                                »\n",
       "          R: ┤ H ├──■───░────────────────────────────────────────────────»\n",
       "             └───┘┌─┴─┐ ░            ░      ┌───┐ ░    ┌─┐ ░             »\n",
       "          Q: ─────┤ X ├─░────────────░───■──┤ H ├─░────┤M├─░─────────────»\n",
       "                  └───┘ ░ ┌───┐      ░ ┌─┴─┐└───┘ ░ ┌─┐└╥┘ ░             »\n",
       "          A: ───────────░─┤ H ├──■───░─┤ X ├──────░─┤M├─╫──░─────────────»\n",
       "                        ░ └───┘┌─┴─┐ ░ └───┘      ░ └╥┘ ║  ░ ┌──────────┐»\n",
       "          B: ───────────░──────┤ X ├─░────────────░──╫──╫──░─┤0         ├»\n",
       "                        ░      └───┘ ░            ░  ║  ║  ░ │  If_else │»\n",
       "          a: ════════════════════════════════════════╩══╬════╡0         ╞»\n",
       "                                                        ║    └──────────┘»\n",
       "          b: ═══════════════════════════════════════════╩════════════════»\n",
       "                                                                         »\n",
       "Test result: ════════════════════════════════════════════════════════════»\n",
       "                                                                         »\n",
       "«                          ░      ┌───┐┌─┐\n",
       "«          R: ─────────────░───■──┤ H ├┤M├\n",
       "«                          ░   │  └───┘└╥┘\n",
       "«          Q: ─────────────░───┼────────╫─\n",
       "«                          ░   │        ║ \n",
       "«          A: ─────────────░───┼────────╫─\n",
       "«             ┌──────────┐ ░ ┌─┴─┐      ║ \n",
       "«          B: ┤0         ├─░─┤ X ├──────╫─\n",
       "«             │          │ ░ └───┘      ║ \n",
       "«          a: ╡          ╞══════════════╬═\n",
       "«             │          │              ║ \n",
       "«          b: ╡0         ╞══════════════╬═\n",
       "«             └──────────┘              ║ \n",
       "«Test result: ══════════════════════════╩═\n",
       "«                                         "
      ]
     },
     "execution_count": 113,
     "metadata": {},
     "output_type": "execute_result"
    }
   ],
   "source": [
    "# Create a new circuit including the same bits and qubits used in the\n",
    "# teleportation protocol, along with a new \"auxiliary\" qubit R.\n",
    "aux = QuantumRegister(1, \"R\")\n",
    "test = QuantumCircuit(aux, qubit, ebit0, ebit1, a, b)\n",
    "\n",
    "# Entangle Q with R\n",
    "test.h(aux)\n",
    "test.cx(aux, qubit)\n",
    "test.barrier()\n",
    "\n",
    "# Append the protocol the circuit. The 'qubits' argument tells Qiskit that\n",
    "# the protocol should operate on the qubits numbered 1, 2, and 3 (skipping\n",
    "# qubit 0, which is R).\n",
    "test = test.compose(protocol, qubits=[1, 2, 3])\n",
    "test.barrier()\n",
    "\n",
    "# After the protocol runs, check that (B,R) is in a phi+ state. We can add\n",
    "# a new classical bit to the circuit to do this.\n",
    "test.cx(aux, ebit1)\n",
    "test.h(aux)\n",
    "result = ClassicalRegister(1, \"Test result\")\n",
    "test.add_register(result)\n",
    "test.measure(aux, result)\n",
    "\n",
    "test.draw()"
   ]
  },
  {
   "cell_type": "code",
   "execution_count": 114,
   "id": "3fff8ff4",
   "metadata": {},
   "outputs": [
    {
     "data": {
      "image/png": "[encoded data removed]",
      "text/plain": [
       "<Figure size 504x360 with 1 Axes>"
      ]
     },
     "execution_count": 114,
     "metadata": {},
     "output_type": "execute_result"
    }
   ],
   "source": [
    "from qiskit_aer import AerSimulator\n",
    "from qiskit.visualization import plot_histogram\n",
    "\n",
    "counts = AerSimulator().run(test).result().get_counts()\n",
    "plot_histogram(counts)"
   ]
  },
  {
   "cell_type": "code",
   "execution_count": 115,
   "id": "650b6d91",
   "metadata": {},
   "outputs": [
    {
     "data": {
      "image/png": "[encoded data removed]",
      "text/plain": [
       "<Figure size 504x360 with 1 Axes>"
      ]
     },
     "execution_count": 115,
     "metadata": {},
     "output_type": "execute_result"
    }
   ],
   "source": [
    "filtered_counts = {\"0\": 0, \"1\": 0}\n",
    "\n",
    "for result, frequency in counts.items():\n",
    "    filtered_counts[result[0] ] += frequency\n",
    "\n",
    "plot_histogram(filtered_counts)"
   ]
  },
  {
   "cell_type": "code",
   "execution_count": null,
   "id": "28a7cdcb",
   "metadata": {},
   "outputs": [],
   "source": []
  },
  {
   "cell_type": "code",
   "execution_count": null,
   "id": "e1cf4604",
   "metadata": {},
   "outputs": [],
   "source": []
  }
 ],
 "metadata": {
  "kernelspec": {
   "display_name": "Python 3",
   "language": "python",
   "name": "python3"
  },
  "language_info": {
   "codemirror_mode": {
    "name": "ipython",
    "version": 3
   },
   "file_extension": ".py",
   "mimetype": "text/x-python",
   "name": "python",
   "nbconvert_exporter": "python",
   "pygments_lexer": "ipython3",
   "version": "3.8.8"
  }
 },
 "nbformat": 4,
 "nbformat_minor": 5
}
