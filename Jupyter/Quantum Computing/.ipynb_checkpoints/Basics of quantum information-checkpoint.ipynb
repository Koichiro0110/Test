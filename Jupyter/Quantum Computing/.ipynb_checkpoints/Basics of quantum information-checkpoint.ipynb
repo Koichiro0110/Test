{
 "cells": [
  {
   "cell_type": "code",
   "execution_count": 17,
   "id": "93ef1f1b",
   "metadata": {},
   "outputs": [
    {
     "name": "stdout",
     "output_type": "stream",
     "text": [
      "Requirement already satisfied: qiskit in /opt/anaconda3/lib/python3.8/site-packages (0.42.1)\n",
      "Requirement already satisfied: qiskit-terra==0.23.3 in /opt/anaconda3/lib/python3.8/site-packages (from qiskit) (0.23.3)\n",
      "Requirement already satisfied: qiskit-aer==0.12.0 in /opt/anaconda3/lib/python3.8/site-packages (from qiskit) (0.12.0)\n",
      "Requirement already satisfied: qiskit-ibmq-provider==0.20.2 in /opt/anaconda3/lib/python3.8/site-packages (from qiskit) (0.20.2)\n",
      "Requirement already satisfied: numpy>=1.16.3 in /opt/anaconda3/lib/python3.8/site-packages (from qiskit-aer==0.12.0->qiskit) (1.23.5)\n",
      "Requirement already satisfied: scipy>=1.0 in /opt/anaconda3/lib/python3.8/site-packages (from qiskit-aer==0.12.0->qiskit) (1.10.1)\n",
      "Requirement already satisfied: requests-ntlm<=1.1.0 in /opt/anaconda3/lib/python3.8/site-packages (from qiskit-ibmq-provider==0.20.2->qiskit) (1.1.0)\n",
      "Requirement already satisfied: websockets>=10.0 in /opt/anaconda3/lib/python3.8/site-packages (from qiskit-ibmq-provider==0.20.2->qiskit) (11.0.2)\n",
      "Requirement already satisfied: python-dateutil>=2.8.0 in /opt/anaconda3/lib/python3.8/site-packages (from qiskit-ibmq-provider==0.20.2->qiskit) (2.8.1)\n",
      "Requirement already satisfied: urllib3>=1.21.1 in /opt/anaconda3/lib/python3.8/site-packages (from qiskit-ibmq-provider==0.20.2->qiskit) (1.26.4)\n",
      "Requirement already satisfied: requests>=2.19 in /opt/anaconda3/lib/python3.8/site-packages (from qiskit-ibmq-provider==0.20.2->qiskit) (2.25.1)\n",
      "Requirement already satisfied: websocket-client>=1.5.1 in /opt/anaconda3/lib/python3.8/site-packages (from qiskit-ibmq-provider==0.20.2->qiskit) (1.5.1)\n",
      "Requirement already satisfied: rustworkx>=0.12.0 in /opt/anaconda3/lib/python3.8/site-packages (from qiskit-terra==0.23.3->qiskit) (0.12.1)\n",
      "Requirement already satisfied: psutil>=5 in /opt/anaconda3/lib/python3.8/site-packages (from qiskit-terra==0.23.3->qiskit) (5.8.0)\n",
      "Requirement already satisfied: ply>=3.10 in /opt/anaconda3/lib/python3.8/site-packages (from qiskit-terra==0.23.3->qiskit) (3.11)\n",
      "Requirement already satisfied: sympy>=1.3 in /opt/anaconda3/lib/python3.8/site-packages (from qiskit-terra==0.23.3->qiskit) (1.11.1)\n",
      "Requirement already satisfied: stevedore>=3.0.0 in /opt/anaconda3/lib/python3.8/site-packages (from qiskit-terra==0.23.3->qiskit) (5.0.0)\n",
      "Requirement already satisfied: dill>=0.3 in /opt/anaconda3/lib/python3.8/site-packages (from qiskit-terra==0.23.3->qiskit) (0.3.6)\n",
      "Requirement already satisfied: symengine>=0.9 in /opt/anaconda3/lib/python3.8/site-packages (from qiskit-terra==0.23.3->qiskit) (0.10.0)\n",
      "Requirement already satisfied: six>=1.5 in /opt/anaconda3/lib/python3.8/site-packages (from python-dateutil>=2.8.0->qiskit-ibmq-provider==0.20.2->qiskit) (1.15.0)\n",
      "Requirement already satisfied: certifi>=2017.4.17 in /opt/anaconda3/lib/python3.8/site-packages (from requests>=2.19->qiskit-ibmq-provider==0.20.2->qiskit) (2022.12.7)\n",
      "Requirement already satisfied: chardet<5,>=3.0.2 in /opt/anaconda3/lib/python3.8/site-packages (from requests>=2.19->qiskit-ibmq-provider==0.20.2->qiskit) (4.0.0)\n",
      "Requirement already satisfied: idna<3,>=2.5 in /opt/anaconda3/lib/python3.8/site-packages (from requests>=2.19->qiskit-ibmq-provider==0.20.2->qiskit) (2.10)\n",
      "Requirement already satisfied: ntlm-auth>=1.0.2 in /opt/anaconda3/lib/python3.8/site-packages (from requests-ntlm<=1.1.0->qiskit-ibmq-provider==0.20.2->qiskit) (1.5.0)\n",
      "Requirement already satisfied: cryptography>=1.3 in /opt/anaconda3/lib/python3.8/site-packages (from requests-ntlm<=1.1.0->qiskit-ibmq-provider==0.20.2->qiskit) (3.4.7)\n",
      "Requirement already satisfied: cffi>=1.12 in /opt/anaconda3/lib/python3.8/site-packages (from cryptography>=1.3->requests-ntlm<=1.1.0->qiskit-ibmq-provider==0.20.2->qiskit) (1.14.5)\n",
      "Requirement already satisfied: pycparser in /opt/anaconda3/lib/python3.8/site-packages (from cffi>=1.12->cryptography>=1.3->requests-ntlm<=1.1.0->qiskit-ibmq-provider==0.20.2->qiskit) (2.20)\n",
      "Requirement already satisfied: pbr!=2.1.0,>=2.0.0 in /opt/anaconda3/lib/python3.8/site-packages (from stevedore>=3.0.0->qiskit-terra==0.23.3->qiskit) (5.11.1)\n",
      "Requirement already satisfied: mpmath>=0.19 in /opt/anaconda3/lib/python3.8/site-packages (from sympy>=1.3->qiskit-terra==0.23.3->qiskit) (1.2.1)\n"
     ]
    }
   ],
   "source": [
    "!pip install --upgrade qiskit"
   ]
  },
  {
   "cell_type": "markdown",
   "id": "b8b668f1",
   "metadata": {},
   "source": [
    "# Basics of quantum information\n",
    "By Qiskit"
   ]
  },
  {
   "cell_type": "markdown",
   "id": "56cafe23",
   "metadata": {},
   "source": [
    "## Single systems"
   ]
  },
  {
   "cell_type": "code",
   "execution_count": 2,
   "id": "6e52a18d",
   "metadata": {},
   "outputs": [
    {
     "data": {
      "text/plain": [
       "array([0.5, 0.5])"
      ]
     },
     "metadata": {},
     "output_type": "display_data"
    }
   ],
   "source": [
    "from numpy import array\n",
    "\n",
    "ket0 = array([1, 0])\n",
    "ket1 = array([0, 1])\n",
    "\n",
    "display(ket0/2 + ket1/2)"
   ]
  },
  {
   "cell_type": "code",
   "execution_count": 3,
   "id": "66bb6891",
   "metadata": {},
   "outputs": [
    {
     "data": {
      "text/plain": [
       "array([0.5, 0.5])"
      ]
     },
     "execution_count": 3,
     "metadata": {},
     "output_type": "execute_result"
    }
   ],
   "source": [
    "ket0/2 + ket1/2"
   ]
  },
  {
   "cell_type": "code",
   "execution_count": 4,
   "id": "20320ea2",
   "metadata": {},
   "outputs": [
    {
     "data": {
      "text/plain": [
       "array([[1. , 1. ],\n",
       "       [0.5, 0. ]])"
      ]
     },
     "execution_count": 4,
     "metadata": {},
     "output_type": "execute_result"
    }
   ],
   "source": [
    "M1 = array([ [1, 1], [0, 0]])\n",
    "M2 = array([ [1, 1], [1, 0]])\n",
    "\n",
    "M1/2 + M2/2"
   ]
  },
  {
   "cell_type": "markdown",
   "id": "6313a57d",
   "metadata": {},
   "source": [
    "### Matrix multplication"
   ]
  },
  {
   "cell_type": "code",
   "execution_count": 5,
   "id": "2a38a585",
   "metadata": {},
   "outputs": [
    {
     "data": {
      "text/plain": [
       "array([1, 0])"
      ]
     },
     "metadata": {},
     "output_type": "display_data"
    },
    {
     "data": {
      "text/plain": [
       "array([[2, 1],\n",
       "       [0, 0]])"
      ]
     },
     "metadata": {},
     "output_type": "display_data"
    },
    {
     "data": {
      "text/plain": [
       "array([[1, 1],\n",
       "       [1, 1]])"
      ]
     },
     "metadata": {},
     "output_type": "display_data"
    }
   ],
   "source": [
    "from numpy import matmul\n",
    "\n",
    "display(matmul(M1,ket1))\n",
    "display(matmul(M1,M2))\n",
    "display(matmul(M2,M1))"
   ]
  },
  {
   "cell_type": "markdown",
   "id": "dfb7a2ef",
   "metadata": {},
   "source": [
    "### Qiskit's Statevector\n",
    "We can define the quantum state vector with the functionality"
   ]
  },
  {
   "cell_type": "code",
   "execution_count": 6,
   "id": "a024f358",
   "metadata": {},
   "outputs": [
    {
     "name": "stdout",
     "output_type": "stream",
     "text": [
      "State vector u, v, and w have been defined.\n"
     ]
    }
   ],
   "source": [
    "from qiskit.quantum_info import Statevector\n",
    "from numpy import sqrt\n",
    "\n",
    "u = Statevector([1/sqrt(2), 1/sqrt(2)])\n",
    "v = Statevector([(1+2j)/3, -2/3])\n",
    "w = Statevector([1/3, 2/3])\n",
    "\n",
    "print( \"State vector u, v, and w have been defined.\")"
   ]
  },
  {
   "cell_type": "markdown",
   "id": "16f5611d",
   "metadata": {},
   "source": [
    "*Statevector* class has a **draw** method for displaying the state vectors neatly."
   ]
  },
  {
   "cell_type": "code",
   "execution_count": 7,
   "id": "975d8ef9",
   "metadata": {},
   "outputs": [
    {
     "data": {
      "text/latex": [
       "$$\\frac{\\sqrt{2}}{2} |0\\rangle+\\frac{\\sqrt{2}}{2} |1\\rangle$$"
      ],
      "text/plain": [
       "<IPython.core.display.Latex object>"
      ]
     },
     "metadata": {},
     "output_type": "display_data"
    },
    {
     "data": {
      "text/plain": [
       "[ 0.33333333+0.66666667j,-0.66666667+0.j        ]"
      ]
     },
     "metadata": {},
     "output_type": "display_data"
    }
   ],
   "source": [
    "display(u.draw('latex'))\n",
    "display(v.draw('text'))"
   ]
  },
  {
   "cell_type": "markdown",
   "id": "3a042e76",
   "metadata": {},
   "source": [
    "Also we can check the normality by **is_valid()** method"
   ]
  },
  {
   "cell_type": "code",
   "execution_count": 8,
   "id": "978c8338",
   "metadata": {},
   "outputs": [
    {
     "data": {
      "text/plain": [
       "True"
      ]
     },
     "metadata": {},
     "output_type": "display_data"
    },
    {
     "data": {
      "text/plain": [
       "True"
      ]
     },
     "metadata": {},
     "output_type": "display_data"
    },
    {
     "data": {
      "text/plain": [
       "False"
      ]
     },
     "metadata": {},
     "output_type": "display_data"
    }
   ],
   "source": [
    "display(u.is_valid())\n",
    "display(v.is_valid())\n",
    "display(w.is_valid())"
   ]
  },
  {
   "cell_type": "code",
   "execution_count": 9,
   "id": "a2006cd0",
   "metadata": {},
   "outputs": [
    {
     "data": {
      "text/latex": [
       "$$(\\frac{1}{3} + \\frac{2 i}{3}) |0\\rangle- \\frac{2}{3} |1\\rangle$$"
      ],
      "text/plain": [
       "<IPython.core.display.Latex object>"
      ]
     },
     "execution_count": 9,
     "metadata": {},
     "output_type": "execute_result"
    }
   ],
   "source": [
    "p = Statevector([(1+2.j)/3, -2/3])\n",
    "p.draw('latex') "
   ]
  },
  {
   "cell_type": "markdown",
   "id": "af326c78",
   "metadata": {},
   "source": [
    "## Simulating measurements using Statevector\n",
    "We can simulate the quantum measurements by **measure()** method"
   ]
  },
  {
   "cell_type": "code",
   "execution_count": 10,
   "id": "ac9d6f38",
   "metadata": {},
   "outputs": [
    {
     "data": {
      "text/plain": [
       "('1',\n",
       " Statevector([ 0.+0.j, -1.+0.j],\n",
       "             dims=(2,)))"
      ]
     },
     "execution_count": 10,
     "metadata": {},
     "output_type": "execute_result"
    }
   ],
   "source": [
    "v.measure()"
   ]
  },
  {
   "cell_type": "markdown",
   "id": "624fd3b4",
   "metadata": {},
   "source": [
    "**measure()** gives you the error if Statevector is not normalized"
   ]
  },
  {
   "cell_type": "code",
   "execution_count": 11,
   "id": "43c4b663",
   "metadata": {},
   "outputs": [],
   "source": [
    "m = Statevector([1,1])\n",
    "#m.measure()"
   ]
  },
  {
   "cell_type": "markdown",
   "id": "d4f43bf3",
   "metadata": {},
   "source": [
    "**plot_histogram** method makes the histogram"
   ]
  },
  {
   "cell_type": "code",
   "execution_count": 12,
   "id": "2414a5cd",
   "metadata": {},
   "outputs": [],
   "source": [
    "from qiskit.visualization import plot_histogram"
   ]
  },
  {
   "cell_type": "markdown",
   "id": "3e4ba50e",
   "metadata": {},
   "source": [
    "**sample_counts(#number)** method does the **measure()** method for a sample initial quantum state vector #number times"
   ]
  },
  {
   "cell_type": "code",
   "execution_count": 13,
   "id": "801db6bc",
   "metadata": {},
   "outputs": [
    {
     "data": {
      "text/plain": [
       "{'0': 569, '1': 431}"
      ]
     },
     "metadata": {},
     "output_type": "display_data"
    },
    {
     "data": {
      "image/png": "[encoded data removed]",
      "text/plain": [
       "<Figure size 504x360 with 1 Axes>"
      ]
     },
     "execution_count": 13,
     "metadata": {},
     "output_type": "execute_result"
    }
   ],
   "source": [
    "statistics = v.sample_counts(1000)\n",
    "display(statistics)\n",
    "plot_histogram(statistics)"
   ]
  },
  {
   "cell_type": "markdown",
   "id": "524378d2",
   "metadata": {},
   "source": [
    "## Performing operatins with Operator and Statevector\n",
    "Unitary oparators can be defined by **Operator**,\n",
    "and performed by **evolve(Operator)** method."
   ]
  },
  {
   "cell_type": "code",
   "execution_count": 14,
   "id": "bb8dcdf7",
   "metadata": {},
   "outputs": [],
   "source": [
    "from qiskit.quantum_info import Operator"
   ]
  },
  {
   "cell_type": "code",
   "execution_count": 18,
   "id": "354b4d50",
   "metadata": {},
   "outputs": [
    {
     "data": {
      "text/plain": [
       "Operator([[0.+0.j, 1.+0.j],\n",
       "          [1.+0.j, 0.+0.j]],\n",
       "         input_dims=(2,), output_dims=(2,))"
      ]
     },
     "metadata": {},
     "output_type": "display_data"
    }
   ],
   "source": [
    "X = Operator([ [0,1],  [1,0] ] ) # NOT\n",
    "Y = Operator([ [0,-1j], [1j,0] ])\n",
    "Z = Operator([ [1,0], [0,-1] ]) # Phase flip\n",
    "H = Operator([ [1/sqrt(2),1/sqrt(2)], [1/sqrt(2), -1/sqrt(2)] ]) # Hadamard operator\n",
    "S = Operator([ [1,0], [0,1j] ]) # P pi/2\n",
    "T = Operator([ [1,0], [0, (1+1j)/sqrt(2)] ])\n",
    "\n",
    "display(X)"
   ]
  },
  {
   "cell_type": "markdown",
   "id": "628ed77a",
   "metadata": {},
   "source": [
    "Let's operate NOT operator"
   ]
  },
  {
   "cell_type": "code",
   "execution_count": 21,
   "id": "f49ba476",
   "metadata": {},
   "outputs": [
    {
     "data": {
      "text/latex": [
       "$$ |0\\rangle$$"
      ],
      "text/plain": [
       "<IPython.core.display.Latex object>"
      ]
     },
     "metadata": {},
     "output_type": "display_data"
    },
    {
     "data": {
      "text/latex": [
       "$$ |1\\rangle$$"
      ],
      "text/plain": [
       "<IPython.core.display.Latex object>"
      ]
     },
     "execution_count": 21,
     "metadata": {},
     "output_type": "execute_result"
    }
   ],
   "source": [
    "v = Statevector([1,0])\n",
    "display(v.draw('latex'))\n",
    "\n",
    "v = v.evolve(X)\n",
    "v.draw('latex')"
   ]
  },
  {
   "cell_type": "markdown",
   "id": "3170725d",
   "metadata": {},
   "source": [
    "### Looking ahead toward quantum circuits"
   ]
  },
  {
   "cell_type": "code",
   "execution_count": 22,
   "id": "e16fdcc0",
   "metadata": {},
   "outputs": [],
   "source": [
    "from qiskit import QuantumCircuit"
   ]
  },
  {
   "cell_type": "code",
   "execution_count": 27,
   "id": "5822d494",
   "metadata": {},
   "outputs": [
    {
     "data": {
      "text/html": [
       "<pre style=\"word-wrap: normal;white-space: pre;background: #fff0;line-height: 1.1;font-family: &quot;Courier New&quot;,Courier,monospace\">   \n",
       "q: \n",
       "   </pre>"
      ],
      "text/plain": [
       "   \n",
       "q: \n",
       "   "
      ]
     },
     "metadata": {},
     "output_type": "display_data"
    }
   ],
   "source": [
    "circuit = QuantumCircuit(1)"
   ]
  },
  {
   "cell_type": "code",
   "execution_count": 28,
   "id": "bc32701f",
   "metadata": {},
   "outputs": [
    {
     "data": {
      "text/html": [
       "<pre style=\"word-wrap: normal;white-space: pre;background: #fff0;line-height: 1.1;font-family: &quot;Courier New&quot;,Courier,monospace\">   ┌───┐┌───┐┌───┐┌───┐┌───┐\n",
       "q: ┤ H ├┤ T ├┤ H ├┤ T ├┤ Z ├\n",
       "   └───┘└───┘└───┘└───┘└───┘</pre>"
      ],
      "text/plain": [
       "   ┌───┐┌───┐┌───┐┌───┐┌───┐\n",
       "q: ┤ H ├┤ T ├┤ H ├┤ T ├┤ Z ├\n",
       "   └───┘└───┘└───┘└───┘└───┘"
      ]
     },
     "execution_count": 28,
     "metadata": {},
     "output_type": "execute_result"
    }
   ],
   "source": [
    "circuit.h(0)\n",
    "circuit.t(0)\n",
    "circuit.h(0)\n",
    "circuit.t(0)\n",
    "circuit.z(0)\n",
    "\n",
    "circuit.draw()"
   ]
  },
  {
   "cell_type": "code",
   "execution_count": 29,
   "id": "c2452270",
   "metadata": {},
   "outputs": [
    {
     "data": {
      "text/latex": [
       "$$(\\frac{686 \\cdot 2^{\\frac{47}{48}} \\cdot 3^{\\frac{155}{192}} \\cdot 5^{\\frac{13}{96}} \\cdot 7^{\\frac{37}{96}}}{10125} + \\frac{\\sqrt{2} i}{4}) |0\\rangle+(-0.353553390593 + 0.146446609407 i) |1\\rangle$$"
      ],
      "text/plain": [
       "<IPython.core.display.Latex object>"
      ]
     },
     "execution_count": 29,
     "metadata": {},
     "output_type": "execute_result"
    }
   ],
   "source": [
    "ket0 = Statevector([1,0])\n",
    "v = ket0.evolve(circuit)\n",
    "v.draw('latex')"
   ]
  },
  {
   "cell_type": "code",
   "execution_count": 31,
   "id": "b343d830",
   "metadata": {},
   "outputs": [
    {
     "data": {
      "image/png": "[encoded data removed]",
      "text/plain": [
       "<Figure size 504x360 with 1 Axes>"
      ]
     },
     "execution_count": 31,
     "metadata": {},
     "output_type": "execute_result"
    }
   ],
   "source": [
    "statistics = v.sample_counts(4000)\n",
    "plot_histogram(statistics)"
   ]
  },
  {
   "cell_type": "code",
   "execution_count": null,
   "id": "ede97b05",
   "metadata": {},
   "outputs": [],
   "source": []
  },
  {
   "cell_type": "code",
   "execution_count": null,
   "id": "20bf1452",
   "metadata": {},
   "outputs": [],
   "source": []
  },
  {
   "cell_type": "code",
   "execution_count": null,
   "id": "6aa8ab2c",
   "metadata": {},
   "outputs": [],
   "source": []
  }
 ],
 "metadata": {
  "kernelspec": {
   "display_name": "Python 3",
   "language": "python",
   "name": "python3"
  },
  "language_info": {
   "codemirror_mode": {
    "name": "ipython",
    "version": 3
   },
   "file_extension": ".py",
   "mimetype": "text/x-python",
   "name": "python",
   "nbconvert_exporter": "python",
   "pygments_lexer": "ipython3",
   "version": "3.8.8"
  }
 },
 "nbformat": 4,
 "nbformat_minor": 5
}
